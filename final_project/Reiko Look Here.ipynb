{
 "cells": [
  {
   "cell_type": "code",
   "execution_count": 95,
   "metadata": {
    "collapsed": true
   },
   "outputs": [],
   "source": [
    "import sys; sys.path.append('../util')\n",
    "from load_yelp_data import load_yelp_dataframe, restaurants_and_bars_in, train_test_split_reviews\n",
    "import numpy as np\n",
    "import matplotlib.pyplot as plt\n",
    "import pandas as pd\n",
    "import sklearn as sk\n",
    "import sklearn.linear_model\n",
    "from sklearn.model_selection import train_test_split\n",
    "from sklearn.decomposition import NMF\n",
    "import scipy as sp\n",
    "# import scipy.sparse\n",
    "from scipy.sparse.linalg import svds\n",
    "from sklearn.metrics import mean_squared_error\n",
    "# import graphlab as gl\n",
    "import sklearn.metrics\n",
    "import ast\n",
    "%matplotlib inline\n",
    "\n",
    "from matrix_factorization_recommender import MatrixFactorizationRecommender\n",
    "from simple_averaging_recommender import SimpleAveragingRecommender\n",
    "\n",
    "from scipy.sparse import csr_matrix\n",
    "\n",
    "businesses = load_yelp_dataframe('businesses')\n",
    "reviews = load_yelp_dataframe('reviews')\n",
    "users = load_yelp_dataframe('users')\n",
    "\n",
    "phoenix_restaurants, phoenix_reviews, phoenix_users = restaurants_and_bars_in('Phoenix', businesses, reviews, users)"
   ]
  },
  {
   "cell_type": "code",
   "execution_count": 96,
   "metadata": {
    "collapsed": false
   },
   "outputs": [],
   "source": [
    "# phoenix_reviews = phoenix_reviews\n",
    "phoenix_reviews = phoenix_reviews.iloc[0:15000]\n",
    "phoenix_restaurants = phoenix_restaurants[phoenix_restaurants['business_id'].isin(phoenix_reviews['business_id'])]\n",
    "phoenix_users = phoenix_users[phoenix_users['user_id'].isin(phoenix_reviews['user_id'])]"
   ]
  },
  {
   "cell_type": "code",
   "execution_count": 97,
   "metadata": {
    "collapsed": false
   },
   "outputs": [],
   "source": [
    "from baseline_calculator import DecoupledRegularizedBaselineCalculator"
   ]
  },
  {
   "cell_type": "code",
   "execution_count": 98,
   "metadata": {
    "collapsed": true
   },
   "outputs": [],
   "source": [
    "reviews_train, reviews_test = train_test_split_reviews(phoenix_reviews)"
   ]
  },
  {
   "cell_type": "code",
   "execution_count": 99,
   "metadata": {
    "collapsed": false
   },
   "outputs": [
    {
     "data": {
      "text/plain": [
       "1.188619751303192"
      ]
     },
     "execution_count": 99,
     "metadata": {},
     "output_type": "execute_result"
    }
   ],
   "source": [
    "bc = DecoupledRegularizedBaselineCalculator()\n",
    "bc.fit(reviews_train, busi_reg_strength=2.5, user_reg_strength=5)\n",
    "bc.transform(reviews_train, key='baseline_stars')\n",
    "bc.transform(reviews_test, key='baseline_stars')\n",
    "bc.baseline_rmse(reviews_test)"
   ]
  },
  {
   "cell_type": "code",
   "execution_count": 111,
   "metadata": {
    "collapsed": false
   },
   "outputs": [
    {
     "data": {
      "text/html": [
       "<div>\n",
       "<table border=\"1\" class=\"dataframe\">\n",
       "  <thead>\n",
       "    <tr style=\"text-align: right;\">\n",
       "      <th></th>\n",
       "      <th>0</th>\n",
       "      <th>Accepts Credit Cards</th>\n",
       "      <th>Active Life</th>\n",
       "      <th>Adult Entertainment</th>\n",
       "      <th>Ages Allowed_21plus</th>\n",
       "      <th>Alcohol_beer_and_wine</th>\n",
       "      <th>Alcohol_full_bar</th>\n",
       "      <th>Alcohol_none</th>\n",
       "      <th>Ambience_casual</th>\n",
       "      <th>Ambience_classy</th>\n",
       "      <th>...</th>\n",
       "      <th>Wi-Fi_free</th>\n",
       "      <th>Wi-Fi_no</th>\n",
       "      <th>Wi-Fi_paid</th>\n",
       "      <th>Wine Bars</th>\n",
       "      <th>business_id</th>\n",
       "      <th>latitude</th>\n",
       "      <th>longitude</th>\n",
       "      <th>open</th>\n",
       "      <th>review_count</th>\n",
       "      <th>stars</th>\n",
       "    </tr>\n",
       "  </thead>\n",
       "  <tbody>\n",
       "    <tr>\n",
       "      <th>2377</th>\n",
       "      <td>1</td>\n",
       "      <td>1</td>\n",
       "      <td>0</td>\n",
       "      <td>0</td>\n",
       "      <td>0</td>\n",
       "      <td>0</td>\n",
       "      <td>0</td>\n",
       "      <td>1</td>\n",
       "      <td>0</td>\n",
       "      <td>0</td>\n",
       "      <td>...</td>\n",
       "      <td>0</td>\n",
       "      <td>1</td>\n",
       "      <td>0</td>\n",
       "      <td>0</td>\n",
       "      <td>2377</td>\n",
       "      <td>33.479481</td>\n",
       "      <td>-112.073677</td>\n",
       "      <td>1</td>\n",
       "      <td>20</td>\n",
       "      <td>3.0</td>\n",
       "    </tr>\n",
       "    <tr>\n",
       "      <th>2378</th>\n",
       "      <td>1</td>\n",
       "      <td>1</td>\n",
       "      <td>0</td>\n",
       "      <td>0</td>\n",
       "      <td>0</td>\n",
       "      <td>0</td>\n",
       "      <td>0</td>\n",
       "      <td>0</td>\n",
       "      <td>0</td>\n",
       "      <td>0</td>\n",
       "      <td>...</td>\n",
       "      <td>0</td>\n",
       "      <td>0</td>\n",
       "      <td>0</td>\n",
       "      <td>0</td>\n",
       "      <td>2378</td>\n",
       "      <td>33.468548</td>\n",
       "      <td>-112.075089</td>\n",
       "      <td>1</td>\n",
       "      <td>6</td>\n",
       "      <td>3.5</td>\n",
       "    </tr>\n",
       "  </tbody>\n",
       "</table>\n",
       "<p>2 rows × 154 columns</p>\n",
       "</div>"
      ],
      "text/plain": [
       "      0  Accepts Credit Cards  Active Life  Adult Entertainment  \\\n",
       "2377  1                     1            0                    0   \n",
       "2378  1                     1            0                    0   \n",
       "\n",
       "      Ages Allowed_21plus  Alcohol_beer_and_wine  Alcohol_full_bar  \\\n",
       "2377                    0                      0                 0   \n",
       "2378                    0                      0                 0   \n",
       "\n",
       "      Alcohol_none  Ambience_casual  Ambience_classy  ...    Wi-Fi_free  \\\n",
       "2377             1                0                0  ...             0   \n",
       "2378             0                0                0  ...             0   \n",
       "\n",
       "      Wi-Fi_no  Wi-Fi_paid  Wine Bars  business_id   latitude   longitude  \\\n",
       "2377         1           0          0         2377  33.479481 -112.073677   \n",
       "2378         0           0          0         2378  33.468548 -112.075089   \n",
       "\n",
       "      open  review_count  stars  \n",
       "2377     1            20    3.0  \n",
       "2378     1             6    3.5  \n",
       "\n",
       "[2 rows x 154 columns]"
      ]
     },
     "execution_count": 111,
     "metadata": {},
     "output_type": "execute_result"
    }
   ],
   "source": [
    "### phoenix_restaurants, phoenix_reviews, phoenix_users = restaurants_and_bars_in('Phoenix', businesses, reviews, users)\n",
    "# interesting columns\n",
    "columns_of_interest = ['business_id',\n",
    "                     'attributes',\n",
    "                     'categories',\n",
    "                     'city',\n",
    "#                      'hours', # looks complicated\n",
    "                     'latitude',\n",
    "                     'longitude',\n",
    "                     'neighborhoods',\n",
    "                     'open',\n",
    "                     'review_count',\n",
    "                     'stars']\n",
    "phoenix_restaurants = phoenix_restaurants[columns_of_interest]\n",
    "\n",
    "def flatten(dct, separator='_'):\n",
    "    \"\"\"A fast way to flatten a dictionary,\"\"\"\n",
    "    res = {}\n",
    "    queue = [('', dct)]\n",
    "\n",
    "    while queue:\n",
    "        prefix, d = queue.pop()\n",
    "        for k, v in d.items():\n",
    "            key = prefix + k\n",
    "            if not isinstance(v, dict):\n",
    "                res[key] = [v]\n",
    "            else:\n",
    "                queue.append((key + separator, v))\n",
    "    return res\n",
    "\n",
    "def parse_data(row):\n",
    "    attribs = flatten(ast.literal_eval(row.attributes))\n",
    "    categories = ast.literal_eval(row.categories)\n",
    "    neighborhoods = ast.literal_eval(row.neighborhoods)\n",
    "    attributes = pd.DataFrame.from_dict(attribs, orient='columns')\n",
    "    categories = pd.DataFrame.from_dict(dict([[c, [1]] for c in categories]))\n",
    "    neighborhoods = pd.DataFrame.from_dict(dict([[n, [1]] for n in neighborhoods]))\n",
    "    city = row.city\n",
    "    row = row.drop(['attributes', 'categories', 'neighborhoods', 'city'])\n",
    "    city = pd.DataFrame([1], index=[city])\n",
    "    if (neighborhoods.shape[0] > 0) & (attributes.shape[0] > 0):\n",
    "        result = pd.concat((row, categories.iloc[0], neighborhoods.iloc[0], pd.get_dummies(attributes).iloc[0], city.iloc[0]), axis=0)\n",
    "    elif (neighborhoods.shape[0] > 0):\n",
    "        result = pd.concat((row, categories.iloc[0], neighborhoods.iloc[0], city.iloc[0]), axis=0)\n",
    "    elif (attributes.shape[0] > 0):\n",
    "        result = pd.concat((row, categories.iloc[0], pd.get_dummies(attributes).iloc[0], city.iloc[0]), axis=0)\n",
    "    else:\n",
    "        result = pd.concat((row, categories.iloc[0], city.iloc[0]), axis=0)\n",
    "    return result.astype(np.float32).to_sparse()\n",
    "\n",
    "phoenix_bus_update = phoenix_restaurants.apply(parse_data,axis=1,)\n",
    "# phoenix_update = pd.concat((phoenix_update, pd.get_dummies(phoenix_update['city'])), axis=1)\n",
    "# phoenix_update = phoenix_update.drop('city', axis=1)\n",
    "phoenix_bus_update = phoenix_bus_update.fillna(0)\n",
    "phoenix_bus_update.head(2)"
   ]
  },
  {
   "cell_type": "code",
   "execution_count": 112,
   "metadata": {
    "collapsed": false
   },
   "outputs": [
    {
     "data": {
      "text/html": [
       "<div>\n",
       "<table border=\"1\" class=\"dataframe\">\n",
       "  <thead>\n",
       "    <tr style=\"text-align: right;\">\n",
       "      <th></th>\n",
       "      <th>average_stars</th>\n",
       "      <th>compliment_cool</th>\n",
       "      <th>compliment_cute</th>\n",
       "      <th>compliment_funny</th>\n",
       "      <th>compliment_hot</th>\n",
       "      <th>compliment_list</th>\n",
       "      <th>compliment_more</th>\n",
       "      <th>compliment_note</th>\n",
       "      <th>compliment_photos</th>\n",
       "      <th>compliment_plain</th>\n",
       "      <th>...</th>\n",
       "      <th>elite_2013</th>\n",
       "      <th>elite_2014</th>\n",
       "      <th>elite_2015</th>\n",
       "      <th>elite_2016</th>\n",
       "      <th>fans</th>\n",
       "      <th>review_count</th>\n",
       "      <th>user_id</th>\n",
       "      <th>votecool</th>\n",
       "      <th>votefunny</th>\n",
       "      <th>voteuseful</th>\n",
       "    </tr>\n",
       "  </thead>\n",
       "  <tbody>\n",
       "    <tr>\n",
       "      <th>48</th>\n",
       "      <td>3.00</td>\n",
       "      <td>0</td>\n",
       "      <td>0</td>\n",
       "      <td>0</td>\n",
       "      <td>0</td>\n",
       "      <td>0</td>\n",
       "      <td>0</td>\n",
       "      <td>0</td>\n",
       "      <td>0</td>\n",
       "      <td>0</td>\n",
       "      <td>...</td>\n",
       "      <td>0</td>\n",
       "      <td>0</td>\n",
       "      <td>0</td>\n",
       "      <td>0</td>\n",
       "      <td>0</td>\n",
       "      <td>2</td>\n",
       "      <td>48</td>\n",
       "      <td>0</td>\n",
       "      <td>0</td>\n",
       "      <td>0</td>\n",
       "    </tr>\n",
       "    <tr>\n",
       "      <th>284</th>\n",
       "      <td>3.33</td>\n",
       "      <td>0</td>\n",
       "      <td>0</td>\n",
       "      <td>0</td>\n",
       "      <td>0</td>\n",
       "      <td>0</td>\n",
       "      <td>0</td>\n",
       "      <td>0</td>\n",
       "      <td>0</td>\n",
       "      <td>1</td>\n",
       "      <td>...</td>\n",
       "      <td>0</td>\n",
       "      <td>0</td>\n",
       "      <td>0</td>\n",
       "      <td>0</td>\n",
       "      <td>1</td>\n",
       "      <td>6</td>\n",
       "      <td>284</td>\n",
       "      <td>2</td>\n",
       "      <td>2</td>\n",
       "      <td>20</td>\n",
       "    </tr>\n",
       "  </tbody>\n",
       "</table>\n",
       "<p>2 rows × 30 columns</p>\n",
       "</div>"
      ],
      "text/plain": [
       "     average_stars  compliment_cool  compliment_cute  compliment_funny  \\\n",
       "48            3.00                0                0                 0   \n",
       "284           3.33                0                0                 0   \n",
       "\n",
       "     compliment_hot  compliment_list  compliment_more  compliment_note  \\\n",
       "48                0                0                0                0   \n",
       "284               0                0                0                0   \n",
       "\n",
       "     compliment_photos  compliment_plain     ...      elite_2013  elite_2014  \\\n",
       "48                   0                 0     ...               0           0   \n",
       "284                  0                 1     ...               0           0   \n",
       "\n",
       "     elite_2015  elite_2016  fans  review_count  user_id  votecool  votefunny  \\\n",
       "48            0           0     0             2       48         0          0   \n",
       "284           0           0     1             6      284         2          2   \n",
       "\n",
       "     voteuseful  \n",
       "48            0  \n",
       "284          20  \n",
       "\n",
       "[2 rows x 30 columns]"
      ]
     },
     "execution_count": 112,
     "metadata": {},
     "output_type": "execute_result"
    }
   ],
   "source": [
    "# phoenix_restaurants, phoenix_reviews, phoenix_users = restaurants_and_bars_in('Phoenix', businesses, reviews, users)\n",
    "# interesting columns\n",
    "columns_of_interest = ['user_id',\n",
    "                    'average_stars',\n",
    "                     'compliments',\n",
    "                     'elite',\n",
    "                     'fans',\n",
    "                    'votes',\n",
    "#                      'hours', # looks complicated\n",
    "                     'review_count',\n",
    "#                      'yelping_since'\n",
    "                      ]\n",
    "phoenix_users = phoenix_users[columns_of_interest]\n",
    "\n",
    "def parse_data(row):\n",
    "    compliments = pd.DataFrame.from_dict(flatten(ast.literal_eval(row.compliments)), orient='columns')\n",
    "    votes = pd.DataFrame.from_dict(flatten(ast.literal_eval(row.votes)), orient='columns')\n",
    "    elite = pd.DataFrame.from_dict(dict([['elite_{}'.format(e), [1]] for e in ast.literal_eval(row.elite)]))\n",
    "    \n",
    "    compliments.columns = ['compliment_' + c for c in compliments.columns]\n",
    "    votes.columns = ['vote' + v for v in votes.columns]\n",
    "    \n",
    "    row = row.drop(['compliments', 'votes', 'elite'])\n",
    " \n",
    "    if (elite.shape[0] > 0) & (votes.shape[0] > 0) & (compliments.shape[0] > 0):\n",
    "        result = pd.concat((row, elite.iloc[0], votes.iloc[0],  compliments.iloc[0]), axis=0)\n",
    "    elif (elite.shape[0] > 0) & (votes.shape[0] > 0):\n",
    "        result = pd.concat((row, elite.iloc[0], votes.iloc[0]), axis=0)\n",
    "    elif (elite.shape[0] > 0) & (compliments.shape[0] > 0):\n",
    "        result = pd.concat((row, elite.iloc[0], compliments.iloc[0]), axis=0)\n",
    "    elif (votes.shape[0] > 0) & (compliments.shape[0] > 0):\n",
    "        result = pd.concat((row, votes.iloc[0], compliments.iloc[0]), axis=0)\n",
    "    elif (elite.shape[0] > 0):\n",
    "        result = pd.concat((row, elite.iloc[0]), axis=0)\n",
    "    elif (votes.shape[0] > 0):\n",
    "        result = pd.concat((row, votes.iloc[0]), axis=0)    \n",
    "    elif (compliments.shape[0] > 0):\n",
    "        result = pd.concat((row, compliments.iloc[0]), axis=0)\n",
    "    else:\n",
    "        result = row\n",
    "    return result.astype(np.float32).to_sparse()\n",
    "\n",
    "phoenix_users_update = phoenix_users.apply(parse_data,axis=1,)\n",
    "phoenix_users_update = phoenix_users_update.fillna(0)\n",
    "phoenix_users_update.head(2)"
   ]
  },
  {
   "cell_type": "code",
   "execution_count": 113,
   "metadata": {
    "collapsed": false
   },
   "outputs": [],
   "source": [
    "# bus_u = list(reviews_train.business_id.unique())\n",
    "# user_u = list(reviews_train.user_id.unique())\n",
    "\n",
    "# data = []\n",
    "# row = []\n",
    "# col = []\n",
    "# test = pd.DataFrame()\n",
    "# for user_id, group in reviews_train.groupby('user_id'):\n",
    "#     for review_id, review in group.iterrows():\n",
    "#         my_metadata = group[group.index != review_id]\n",
    "#         for r_id, rev in my_metadata.iterrows():\n",
    "#             phoenix_users_update = phoenix_users_update.set_value(user_id, rev['business_id'], rev['stars'])"
   ]
  },
  {
   "cell_type": "code",
   "execution_count": 114,
   "metadata": {
    "collapsed": true
   },
   "outputs": [],
   "source": [
    "combined_reviews_train = pd.merge(pd.merge(reviews_train,\n",
    "    phoenix_bus_update.fillna(0), on='business_id', suffixes=('','_business')),\n",
    "    phoenix_users_update.fillna(0), on='user_id', suffixes=('','_user'))"
   ]
  },
  {
   "cell_type": "code",
   "execution_count": 115,
   "metadata": {
    "collapsed": true
   },
   "outputs": [],
   "source": [
    "combined_reviews_test = pd.merge(pd.merge(reviews_test,\n",
    "    phoenix_bus_update.fillna(0), on='business_id', suffixes=('','_business')),\n",
    "    phoenix_users_update.fillna(0), on='user_id', suffixes=('','_user'))"
   ]
  },
  {
   "cell_type": "code",
   "execution_count": 116,
   "metadata": {
    "collapsed": true
   },
   "outputs": [],
   "source": [
    "def strip_cols(df):\n",
    "    return df.drop(['user_id',\n",
    "             'business_id',  \n",
    "             'average_stars', \n",
    "             'stars_business',\n",
    "             'stars',\n",
    "             'baseline_stars'], axis=1)"
   ]
  },
  {
   "cell_type": "code",
   "execution_count": 117,
   "metadata": {
    "collapsed": false
   },
   "outputs": [
    {
     "data": {
      "text/plain": [
       "[<matplotlib.lines.Line2D at 0x11482b250>]"
      ]
     },
     "execution_count": 117,
     "metadata": {},
     "output_type": "execute_result"
    },
    {
     "data": {
      "image/png": "[encoded data removed]",
      "text/plain": [
       "<matplotlib.figure.Figure at 0x10e416150>"
      ]
     },
     "metadata": {},
     "output_type": "display_data"
    }
   ],
   "source": [
    "scores = []\n",
    "for i in np.logspace(-4,4,15):\n",
    "    las = sklearn.linear_model.Lasso(alpha=i)\n",
    "    las.fit(strip_cols(combined_reviews_train), combined_reviews_train.baseline_stars)\n",
    "    s = las.score(strip_cols(combined_reviews_test), combined_reviews_test.baseline_stars)\n",
    "    scores.append(s)\n",
    "plt.semilogx(np.logspace(-4,4,15), scores)"
   ]
  },
  {
   "cell_type": "code",
   "execution_count": 118,
   "metadata": {
    "collapsed": false
   },
   "outputs": [
    {
     "data": {
      "text/plain": [
       "[<matplotlib.lines.Line2D at 0x10d216350>]"
      ]
     },
     "execution_count": 118,
     "metadata": {},
     "output_type": "execute_result"
    },
    {
     "data": {
      "image/png": "[encoded data removed]",
      "text/plain": [
       "<matplotlib.figure.Figure at 0x110fc81d0>"
      ]
     },
     "metadata": {},
     "output_type": "display_data"
    }
   ],
   "source": [
    "scores = []\n",
    "for i in np.logspace(-4,4,15):\n",
    "    las = sklearn.linear_model.Lasso(alpha=i)\n",
    "    las.fit(strip_cols(combined_reviews_train), combined_reviews_train.stars)\n",
    "    s = las.score(strip_cols(combined_reviews_test), combined_reviews_test.stars)\n",
    "    scores.append(s)\n",
    "plt.semilogx(np.logspace(-4,4,15), scores)"
   ]
  },
  {
   "cell_type": "code",
   "execution_count": 119,
   "metadata": {
    "collapsed": false
   },
   "outputs": [
    {
     "data": {
      "text/plain": [
       "Index([u'year', u'month', u'day', u'Alcohol_beer_and_wine', u'Alcohol_none',\n",
       "       u'Ambience_casual', u'Ambience_divey', u'Ambience_hipster',\n",
       "       u'Ambience_intimate', u'Ambience_romantic',\n",
       "       ...\n",
       "       u'elite_2011', u'elite_2012', u'elite_2014', u'elite_2015',\n",
       "       u'elite_2016', u'fans', u'review_count_user', u'votecool', u'votefunny',\n",
       "       u'voteuseful'],\n",
       "      dtype='object', length=103)"
      ]
     },
     "execution_count": 119,
     "metadata": {},
     "output_type": "execute_result"
    }
   ],
   "source": [
    "las = sklearn.linear_model.Lasso(alpha=10**-3)\n",
    "las.fit(strip_cols(combined_reviews_train), combined_reviews_train.stars)\n",
    "strip_cols(combined_reviews_test).columns[np.abs(las.coef_)>0]"
   ]
  },
  {
   "cell_type": "code",
   "execution_count": 120,
   "metadata": {
    "collapsed": false
   },
   "outputs": [
    {
     "data": {
      "text/plain": [
       "Index([u'year', u'month', u'day', u'review_count', u'compliment_cool',\n",
       "       u'compliment_cute', u'compliment_funny', u'compliment_hot',\n",
       "       u'compliment_list', u'compliment_more', u'compliment_note',\n",
       "       u'compliment_photos', u'compliment_plain', u'compliment_profile',\n",
       "       u'compliment_writer', u'fans', u'review_count_user', u'votecool',\n",
       "       u'votefunny', u'voteuseful'],\n",
       "      dtype='object')"
      ]
     },
     "execution_count": 120,
     "metadata": {},
     "output_type": "execute_result"
    }
   ],
   "source": [
    "las = sklearn.linear_model.Lasso(alpha=10**-2)\n",
    "las.fit(strip_cols(combined_reviews_train), combined_reviews_train.baseline_stars)\n",
    "strip_cols(combined_reviews_test).columns[np.abs(las.coef_)>0]"
   ]
  },
  {
   "cell_type": "code",
   "execution_count": null,
   "metadata": {
    "collapsed": true
   },
   "outputs": [],
   "source": []
  },
  {
   "cell_type": "code",
   "execution_count": 121,
   "metadata": {
    "collapsed": false
   },
   "outputs": [
    {
     "data": {
      "text/plain": [
       "1.8059508778001112"
      ]
     },
     "execution_count": 121,
     "metadata": {},
     "output_type": "execute_result"
    }
   ],
   "source": [
    "las = sklearn.linear_model.Lasso(alpha=10**-4)\n",
    "las.fit(strip_cols(combined_reviews_train), combined_reviews_train.stars)\n",
    "x_pred = las.predict(strip_cols(combined_reviews_test))\n",
    "np.sqrt(sklearn.metrics.mean_squared_error(combined_reviews_test.stars,\n",
    "                                           bc.inverse_transform(reviews_test, x_pred)))"
   ]
  },
  {
   "cell_type": "code",
   "execution_count": 122,
   "metadata": {
    "collapsed": false
   },
   "outputs": [
    {
     "name": "stderr",
     "output_type": "stream",
     "text": [
      "/Users/nickhoernle/anaconda2/lib/python2.7/site-packages/pandas/core/index.py:1160: VisibleDeprecationWarning: boolean index did not match indexed array along dimension 0; dimension is 189 but corresponding boolean dimension is 183\n",
      "  result = getitem(key)\n"
     ]
    },
    {
     "data": {
      "text/plain": [
       "Index([             u'user_id',          u'business_id',\n",
       "                       u'year',                u'stars',\n",
       "                             0, u'Accepts Credit Cards',\n",
       "                u'Active Life',  u'Adult Entertainment',\n",
       "        u'Ages Allowed_21plus',     u'Alcohol_full_bar',\n",
       "       ...\n",
       "                 u'elite_2006',           u'elite_2007',\n",
       "                 u'elite_2008',           u'elite_2009',\n",
       "                 u'elite_2010',           u'elite_2011',\n",
       "                 u'elite_2012',           u'elite_2013',\n",
       "                 u'elite_2014',           u'elite_2015'],\n",
       "      dtype='object', length=152)"
      ]
     },
     "execution_count": 122,
     "metadata": {},
     "output_type": "execute_result"
    }
   ],
   "source": [
    "combined_reviews_test.columns[np.abs(las.coef_)>0]"
   ]
  },
  {
   "cell_type": "code",
   "execution_count": null,
   "metadata": {
    "collapsed": true
   },
   "outputs": [],
   "source": []
  },
  {
   "cell_type": "code",
   "execution_count": null,
   "metadata": {
    "collapsed": true
   },
   "outputs": [],
   "source": []
  }
 ],
 "metadata": {
  "kernelspec": {
   "display_name": "Python 2",
   "language": "python",
   "name": "python2"
  },
  "language_info": {
   "codemirror_mode": {
    "name": "ipython",
    "version": 2
   },
   "file_extension": ".py",
   "mimetype": "text/x-python",
   "name": "python",
   "nbconvert_exporter": "python",
   "pygments_lexer": "ipython2",
   "version": "2.7.12"
  }
 },
 "nbformat": 4,
 "nbformat_minor": 1
}
