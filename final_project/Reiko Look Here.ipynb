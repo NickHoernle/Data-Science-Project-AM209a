{
 "cells": [
  {
   "cell_type": "code",
   "execution_count": 1,
   "metadata": {
    "collapsed": true
   },
   "outputs": [],
   "source": [
    "import sys; sys.path.append('../util')\n",
    "from load_yelp_data import load_yelp_dataframe, restaurants_and_bars_in, train_test_split_reviews\n",
    "import numpy as np\n",
    "import matplotlib.pyplot as plt\n",
    "import pandas as pd\n",
    "import sklearn as sk\n",
    "import sklearn.linear_model\n",
    "from sklearn.model_selection import train_test_split\n",
    "from sklearn.decomposition import NMF\n",
    "import scipy as sp\n",
    "# import scipy.sparse\n",
    "from scipy.sparse.linalg import svds\n",
    "from sklearn.metrics import mean_squared_error\n",
    "# import graphlab as gl\n",
    "import sklearn.metrics\n",
    "import ast\n",
    "%matplotlib inline\n",
    "\n",
    "from matrix_factorization_recommender import MatrixFactorizationRecommender\n",
    "from simple_averaging_recommender import SimpleAveragingRecommender\n",
    "\n",
    "from scipy.sparse import csr_matrix\n",
    "from baseline_calculator import DecoupledRegularizedBaselineCalculator\n",
    "\n",
    "businesses = load_yelp_dataframe('businesses')\n",
    "reviews = load_yelp_dataframe('reviews')\n",
    "users = load_yelp_dataframe('users')\n",
    "\n",
    "phoenix_restaurants, phoenix_reviews, phoenix_users = restaurants_and_bars_in('Phoenix', businesses, reviews, users)\n",
    "# phoenix_reviews = phoenix_reviews.iloc[0:20000]\n",
    "reviews_train, reviews_test = train_test_split_reviews(phoenix_reviews)\n",
    "reviews_train, reviews_valid = train_test_split(reviews_train,train_size=0.5)"
   ]
  },
  {
   "cell_type": "code",
   "execution_count": 2,
   "metadata": {
    "collapsed": false
   },
   "outputs": [
    {
     "name": "stdout",
     "output_type": "stream",
     "text": [
      "(226727, 6)\n",
      "(226727, 6)\n",
      "(194338, 6)\n"
     ]
    }
   ],
   "source": [
    "print reviews_train.shape\n",
    "print reviews_valid.shape\n",
    "print reviews_test.shape"
   ]
  },
  {
   "cell_type": "code",
   "execution_count": 3,
   "metadata": {
    "collapsed": false
   },
   "outputs": [],
   "source": [
    "phoenix_restaurants = phoenix_restaurants[phoenix_restaurants['business_id'].isin(reviews_train.business_id)]\n",
    "phoenix_users = phoenix_users[phoenix_users['user_id'].isin(reviews_train.user_id)]"
   ]
  },
  {
   "cell_type": "code",
   "execution_count": 4,
   "metadata": {
    "collapsed": false
   },
   "outputs": [
    {
     "data": {
      "text/plain": [
       "1.2449263988831947"
      ]
     },
     "execution_count": 4,
     "metadata": {},
     "output_type": "execute_result"
    }
   ],
   "source": [
    "bc = DecoupledRegularizedBaselineCalculator()\n",
    "bc.fit(reviews_train, busi_reg_strength=2.5, user_reg_strength=5)\n",
    "bc.transform(reviews_train, key='baseline_stars')\n",
    "bc.transform(reviews_test, key='baseline_stars')\n",
    "bc.transform(reviews_valid, key='baseline_stars')\n",
    "bc.baseline_rmse(reviews_test)"
   ]
  },
  {
   "cell_type": "code",
   "execution_count": 5,
   "metadata": {
    "collapsed": false
   },
   "outputs": [
    {
     "data": {
      "text/html": [
       "<div>\n",
       "<table border=\"1\" class=\"dataframe\">\n",
       "  <thead>\n",
       "    <tr style=\"text-align: right;\">\n",
       "      <th></th>\n",
       "      <th>0</th>\n",
       "      <th>Accepts Credit Cards</th>\n",
       "      <th>Accepts Insurance</th>\n",
       "      <th>Active Life</th>\n",
       "      <th>Adult Entertainment</th>\n",
       "      <th>Afghan</th>\n",
       "      <th>African</th>\n",
       "      <th>Ages Allowed_18plus</th>\n",
       "      <th>Ages Allowed_21plus</th>\n",
       "      <th>Ages Allowed_allages</th>\n",
       "      <th>...</th>\n",
       "      <th>Wine Tasting Room</th>\n",
       "      <th>Wine Tours</th>\n",
       "      <th>Wineries</th>\n",
       "      <th>Yoga</th>\n",
       "      <th>business_id</th>\n",
       "      <th>latitude</th>\n",
       "      <th>longitude</th>\n",
       "      <th>open</th>\n",
       "      <th>review_count</th>\n",
       "      <th>stars</th>\n",
       "    </tr>\n",
       "  </thead>\n",
       "  <tbody>\n",
       "    <tr>\n",
       "      <th>2377</th>\n",
       "      <td>1</td>\n",
       "      <td>1</td>\n",
       "      <td>0</td>\n",
       "      <td>0</td>\n",
       "      <td>0</td>\n",
       "      <td>0</td>\n",
       "      <td>0</td>\n",
       "      <td>0</td>\n",
       "      <td>0</td>\n",
       "      <td>0</td>\n",
       "      <td>...</td>\n",
       "      <td>0</td>\n",
       "      <td>0</td>\n",
       "      <td>0</td>\n",
       "      <td>0</td>\n",
       "      <td>2377</td>\n",
       "      <td>33.479481</td>\n",
       "      <td>-112.073677</td>\n",
       "      <td>1</td>\n",
       "      <td>20</td>\n",
       "      <td>3.0</td>\n",
       "    </tr>\n",
       "    <tr>\n",
       "      <th>2378</th>\n",
       "      <td>1</td>\n",
       "      <td>1</td>\n",
       "      <td>0</td>\n",
       "      <td>0</td>\n",
       "      <td>0</td>\n",
       "      <td>0</td>\n",
       "      <td>0</td>\n",
       "      <td>0</td>\n",
       "      <td>0</td>\n",
       "      <td>0</td>\n",
       "      <td>...</td>\n",
       "      <td>0</td>\n",
       "      <td>0</td>\n",
       "      <td>0</td>\n",
       "      <td>0</td>\n",
       "      <td>2378</td>\n",
       "      <td>33.468548</td>\n",
       "      <td>-112.075089</td>\n",
       "      <td>1</td>\n",
       "      <td>6</td>\n",
       "      <td>3.5</td>\n",
       "    </tr>\n",
       "  </tbody>\n",
       "</table>\n",
       "<p>2 rows × 327 columns</p>\n",
       "</div>"
      ],
      "text/plain": [
       "      0  Accepts Credit Cards  Accepts Insurance  Active Life  \\\n",
       "2377  1                     1                  0            0   \n",
       "2378  1                     1                  0            0   \n",
       "\n",
       "      Adult Entertainment  Afghan  African  Ages Allowed_18plus  \\\n",
       "2377                    0       0        0                    0   \n",
       "2378                    0       0        0                    0   \n",
       "\n",
       "      Ages Allowed_21plus  Ages Allowed_allages  ...    Wine Tasting Room  \\\n",
       "2377                    0                     0  ...                    0   \n",
       "2378                    0                     0  ...                    0   \n",
       "\n",
       "      Wine Tours  Wineries  Yoga  business_id   latitude   longitude  open  \\\n",
       "2377           0         0     0         2377  33.479481 -112.073677     1   \n",
       "2378           0         0     0         2378  33.468548 -112.075089     1   \n",
       "\n",
       "      review_count  stars  \n",
       "2377            20    3.0  \n",
       "2378             6    3.5  \n",
       "\n",
       "[2 rows x 327 columns]"
      ]
     },
     "execution_count": 5,
     "metadata": {},
     "output_type": "execute_result"
    }
   ],
   "source": [
    "### phoenix_restaurants, phoenix_reviews, phoenix_users = restaurants_and_bars_in('Phoenix', businesses, reviews, users)\n",
    "# interesting columns\n",
    "columns_of_interest = ['business_id',\n",
    "                     'attributes',\n",
    "                     'categories',\n",
    "                     'city',\n",
    "#                      'hours', # looks complicated\n",
    "                     'latitude',\n",
    "                     'longitude',\n",
    "                     'neighborhoods',\n",
    "                     'open',\n",
    "                     'review_count',\n",
    "                     'stars']\n",
    "phoenix_restaurants = phoenix_restaurants[columns_of_interest]\n",
    "\n",
    "def flatten(dct, separator='_'):\n",
    "    \"\"\"A fast way to flatten a dictionary,\"\"\"\n",
    "    res = {}\n",
    "    queue = [('', dct)]\n",
    "\n",
    "    while queue:\n",
    "        prefix, d = queue.pop()\n",
    "        for k, v in d.items():\n",
    "            key = prefix + k\n",
    "            if not isinstance(v, dict):\n",
    "                res[key] = [v]\n",
    "            else:\n",
    "                queue.append((key + separator, v))\n",
    "    return res\n",
    "\n",
    "def parse_data(row):\n",
    "    attribs = flatten(ast.literal_eval(row.attributes))\n",
    "    categories = ast.literal_eval(row.categories)\n",
    "    neighborhoods = ast.literal_eval(row.neighborhoods)\n",
    "    attributes = pd.DataFrame.from_dict(attribs, orient='columns')\n",
    "    categories = pd.DataFrame.from_dict(dict([[c, [1]] for c in categories]))\n",
    "    neighborhoods = pd.DataFrame.from_dict(dict([[n, [1]] for n in neighborhoods]))\n",
    "    city = row.city\n",
    "    row = row.drop(['attributes', 'categories', 'neighborhoods', 'city'])\n",
    "    city = pd.DataFrame([1], index=[city])\n",
    "    if (neighborhoods.shape[0] > 0) & (attributes.shape[0] > 0):\n",
    "        result = pd.concat((row, categories.iloc[0], neighborhoods.iloc[0], pd.get_dummies(attributes).iloc[0], city.iloc[0]), axis=0)\n",
    "    elif (neighborhoods.shape[0] > 0):\n",
    "        result = pd.concat((row, categories.iloc[0], neighborhoods.iloc[0], city.iloc[0]), axis=0)\n",
    "    elif (attributes.shape[0] > 0):\n",
    "        result = pd.concat((row, categories.iloc[0], pd.get_dummies(attributes).iloc[0], city.iloc[0]), axis=0)\n",
    "    else:\n",
    "        result = pd.concat((row, categories.iloc[0], city.iloc[0]), axis=0)\n",
    "    return result.astype(np.float32).to_sparse()\n",
    "\n",
    "phoenix_bus_update = phoenix_restaurants.apply(parse_data,axis=1,)\n",
    "# phoenix_update = pd.concat((phoenix_update, pd.get_dummies(phoenix_update['city'])), axis=1)\n",
    "# phoenix_update = phoenix_update.drop('city', axis=1)\n",
    "phoenix_bus_update = phoenix_bus_update.fillna(0)\n",
    "phoenix_bus_update.head(2)"
   ]
  },
  {
   "cell_type": "code",
   "execution_count": 6,
   "metadata": {
    "collapsed": false
   },
   "outputs": [
    {
     "data": {
      "text/html": [
       "<div>\n",
       "<table border=\"1\" class=\"dataframe\">\n",
       "  <thead>\n",
       "    <tr style=\"text-align: right;\">\n",
       "      <th></th>\n",
       "      <th>average_stars</th>\n",
       "      <th>compliment_cool</th>\n",
       "      <th>compliment_cute</th>\n",
       "      <th>compliment_funny</th>\n",
       "      <th>compliment_hot</th>\n",
       "      <th>compliment_list</th>\n",
       "      <th>compliment_more</th>\n",
       "      <th>compliment_note</th>\n",
       "      <th>compliment_photos</th>\n",
       "      <th>compliment_plain</th>\n",
       "      <th>...</th>\n",
       "      <th>elite_2013</th>\n",
       "      <th>elite_2014</th>\n",
       "      <th>elite_2015</th>\n",
       "      <th>elite_2016</th>\n",
       "      <th>fans</th>\n",
       "      <th>review_count</th>\n",
       "      <th>user_id</th>\n",
       "      <th>votecool</th>\n",
       "      <th>votefunny</th>\n",
       "      <th>voteuseful</th>\n",
       "    </tr>\n",
       "  </thead>\n",
       "  <tbody>\n",
       "    <tr>\n",
       "      <th>1</th>\n",
       "      <td>3.67</td>\n",
       "      <td>1675</td>\n",
       "      <td>204</td>\n",
       "      <td>594</td>\n",
       "      <td>1111</td>\n",
       "      <td>38</td>\n",
       "      <td>137</td>\n",
       "      <td>611</td>\n",
       "      <td>361</td>\n",
       "      <td>970</td>\n",
       "      <td>...</td>\n",
       "      <td>1</td>\n",
       "      <td>1</td>\n",
       "      <td>1</td>\n",
       "      <td>1</td>\n",
       "      <td>1345</td>\n",
       "      <td>1292</td>\n",
       "      <td>1</td>\n",
       "      <td>12091</td>\n",
       "      <td>8399</td>\n",
       "      <td>15242</td>\n",
       "    </tr>\n",
       "    <tr>\n",
       "      <th>2</th>\n",
       "      <td>3.68</td>\n",
       "      <td>134</td>\n",
       "      <td>22</td>\n",
       "      <td>96</td>\n",
       "      <td>99</td>\n",
       "      <td>4</td>\n",
       "      <td>18</td>\n",
       "      <td>79</td>\n",
       "      <td>27</td>\n",
       "      <td>86</td>\n",
       "      <td>...</td>\n",
       "      <td>1</td>\n",
       "      <td>1</td>\n",
       "      <td>1</td>\n",
       "      <td>0</td>\n",
       "      <td>105</td>\n",
       "      <td>395</td>\n",
       "      <td>2</td>\n",
       "      <td>657</td>\n",
       "      <td>722</td>\n",
       "      <td>1349</td>\n",
       "    </tr>\n",
       "  </tbody>\n",
       "</table>\n",
       "<p>2 rows × 30 columns</p>\n",
       "</div>"
      ],
      "text/plain": [
       "   average_stars  compliment_cool  compliment_cute  compliment_funny  \\\n",
       "1           3.67             1675              204               594   \n",
       "2           3.68              134               22                96   \n",
       "\n",
       "   compliment_hot  compliment_list  compliment_more  compliment_note  \\\n",
       "1            1111               38              137              611   \n",
       "2              99                4               18               79   \n",
       "\n",
       "   compliment_photos  compliment_plain     ...      elite_2013  elite_2014  \\\n",
       "1                361               970     ...               1           1   \n",
       "2                 27                86     ...               1           1   \n",
       "\n",
       "   elite_2015  elite_2016  fans  review_count  user_id  votecool  votefunny  \\\n",
       "1           1           1  1345          1292        1     12091       8399   \n",
       "2           1           0   105           395        2       657        722   \n",
       "\n",
       "   voteuseful  \n",
       "1       15242  \n",
       "2        1349  \n",
       "\n",
       "[2 rows x 30 columns]"
      ]
     },
     "execution_count": 6,
     "metadata": {},
     "output_type": "execute_result"
    }
   ],
   "source": [
    "# phoenix_restaurants, phoenix_reviews, phoenix_users = restaurants_and_bars_in('Phoenix', businesses, reviews, users)\n",
    "# interesting columns\n",
    "columns_of_interest = ['user_id',\n",
    "                    'average_stars',\n",
    "                     'compliments',\n",
    "                     'elite',\n",
    "                     'fans',\n",
    "                    'votes',\n",
    "#                      'hours', # looks complicated\n",
    "                     'review_count',\n",
    "#                      'yelping_since'\n",
    "                      ]\n",
    "phoenix_users = phoenix_users[columns_of_interest]\n",
    "\n",
    "def parse_data(row):\n",
    "    compliments = pd.DataFrame.from_dict(flatten(ast.literal_eval(row.compliments)), orient='columns')\n",
    "    votes = pd.DataFrame.from_dict(flatten(ast.literal_eval(row.votes)), orient='columns')\n",
    "    elite = pd.DataFrame.from_dict(dict([['elite_{}'.format(e), [1]] for e in ast.literal_eval(row.elite)]))\n",
    "    \n",
    "    compliments.columns = ['compliment_' + c for c in compliments.columns]\n",
    "    votes.columns = ['vote' + v for v in votes.columns]\n",
    "    \n",
    "    row = row.drop(['compliments', 'votes', 'elite'])\n",
    " \n",
    "    if (elite.shape[0] > 0) & (votes.shape[0] > 0) & (compliments.shape[0] > 0):\n",
    "        result = pd.concat((row, elite.iloc[0], votes.iloc[0],  compliments.iloc[0]), axis=0)\n",
    "    elif (elite.shape[0] > 0) & (votes.shape[0] > 0):\n",
    "        result = pd.concat((row, elite.iloc[0], votes.iloc[0]), axis=0)\n",
    "    elif (elite.shape[0] > 0) & (compliments.shape[0] > 0):\n",
    "        result = pd.concat((row, elite.iloc[0], compliments.iloc[0]), axis=0)\n",
    "    elif (votes.shape[0] > 0) & (compliments.shape[0] > 0):\n",
    "        result = pd.concat((row, votes.iloc[0], compliments.iloc[0]), axis=0)\n",
    "    elif (elite.shape[0] > 0):\n",
    "        result = pd.concat((row, elite.iloc[0]), axis=0)\n",
    "    elif (votes.shape[0] > 0):\n",
    "        result = pd.concat((row, votes.iloc[0]), axis=0)    \n",
    "    elif (compliments.shape[0] > 0):\n",
    "        result = pd.concat((row, compliments.iloc[0]), axis=0)\n",
    "    else:\n",
    "        result = row\n",
    "    return result.astype(np.float32).to_sparse()\n",
    "\n",
    "phoenix_users_update = phoenix_users.apply(parse_data,axis=1,)\n",
    "phoenix_users_update = phoenix_users_update.fillna(0)\n",
    "phoenix_users_update.head(2)"
   ]
  },
  {
   "cell_type": "code",
   "execution_count": 7,
   "metadata": {
    "collapsed": false
   },
   "outputs": [],
   "source": [
    "for business_id, business in phoenix_bus_update.iterrows():\n",
    "    reviews_in_train = reviews_train[reviews_train.business_id == business_id]\n",
    "    phoenix_bus_update.set_value(business_id, 'stars', reviews_in_train.stars.mean())\n",
    "    \n",
    "for user_id, user in phoenix_users_update.iterrows():\n",
    "    reviews_in_train = reviews_train[reviews_train.user_id == user_id]\n",
    "    phoenix_users_update.set_value(user_id, 'average_stars', reviews_in_train.stars.mean())"
   ]
  },
  {
   "cell_type": "code",
   "execution_count": 8,
   "metadata": {
    "collapsed": false
   },
   "outputs": [
    {
     "name": "stdout",
     "output_type": "stream",
     "text": [
      "(226727, 7)\n",
      "(226727, 7)\n",
      "(194338, 7)\n"
     ]
    }
   ],
   "source": [
    "print reviews_train.shape\n",
    "print reviews_valid.shape\n",
    "print reviews_test.shape"
   ]
  },
  {
   "cell_type": "code",
   "execution_count": 9,
   "metadata": {
    "collapsed": false
   },
   "outputs": [],
   "source": [
    "combined_reviews_train = pd.merge(pd.merge(\n",
    "        reviews_train,phoenix_bus_update.fillna(0), on='business_id', suffixes=('','_business'), how='left'),\n",
    "        phoenix_users_update, on='user_id', suffixes=('','_user'), how='left')\n",
    "combined_reviews_train = combined_reviews_train.fillna(0)\n",
    "combined_reviews_valid = pd.merge(pd.merge(\n",
    "        reviews_valid,phoenix_bus_update.fillna(0), on='business_id', suffixes=('','_business'), how='left'),\n",
    "        phoenix_users_update, on='user_id', suffixes=('','_user'), how='left')\n",
    "combined_reviews_valid = combined_reviews_valid.fillna(0)"
   ]
  },
  {
   "cell_type": "code",
   "execution_count": 10,
   "metadata": {
    "collapsed": false
   },
   "outputs": [],
   "source": [
    "combined_reviews_test = pd.merge(pd.merge(reviews_test,\n",
    "    phoenix_bus_update.fillna(0), on='business_id', suffixes=('','_business'), how='left'),\n",
    "    phoenix_users_update, on='user_id', suffixes=('','_user'), how='left')\n",
    "combined_reviews_test = combined_reviews_test.fillna(0)"
   ]
  },
  {
   "cell_type": "code",
   "execution_count": 11,
   "metadata": {
    "collapsed": false
   },
   "outputs": [
    {
     "name": "stdout",
     "output_type": "stream",
     "text": [
      "(226727, 362)\n",
      "(194338, 362)\n"
     ]
    }
   ],
   "source": [
    "print combined_reviews_train.shape\n",
    "print combined_reviews_test.shape"
   ]
  },
  {
   "cell_type": "code",
   "execution_count": 12,
   "metadata": {
    "collapsed": true
   },
   "outputs": [],
   "source": [
    "def strip_cols(df):\n",
    "    return df.drop(['user_id',\n",
    "             'business_id',  \n",
    "#              'average_stars', \n",
    "#              'stars_business',\n",
    "             'stars',\n",
    "             'baseline_stars'], axis=1)"
   ]
  },
  {
   "cell_type": "code",
   "execution_count": 13,
   "metadata": {
    "collapsed": false
   },
   "outputs": [
    {
     "name": "stdout",
     "output_type": "stream",
     "text": [
      "1.24044283164\n"
     ]
    },
    {
     "data": {
      "image/png": "[encoded data removed]",
      "text/plain": [
       "<matplotlib.figure.Figure at 0x146762e50>"
      ]
     },
     "metadata": {},
     "output_type": "display_data"
    }
   ],
   "source": [
    "scores = []\n",
    "xs = np.logspace(-4,4,15)\n",
    "for i in xs:\n",
    "    las = sklearn.linear_model.Ridge(alpha=i)\n",
    "    las.fit(strip_cols(combined_reviews_valid), combined_reviews_valid.baseline_stars)\n",
    "    x_pred = las.predict(strip_cols(combined_reviews_test))\n",
    "    s = np.sqrt(sklearn.metrics.mean_squared_error(combined_reviews_test.stars,\n",
    "                                           bc.inverse_transform(reviews_test, x_pred)))\n",
    "    scores.append(s)\n",
    "\n",
    "plt.semilogx(xs, scores)\n",
    "\n",
    "print np.min(scores)\n",
    "baseline_val = xs[np.argmin(scores)]"
   ]
  },
  {
   "cell_type": "code",
   "execution_count": 14,
   "metadata": {
    "collapsed": false
   },
   "outputs": [
    {
     "name": "stdout",
     "output_type": "stream",
     "text": [
      "2.20885732095\n"
     ]
    },
    {
     "data": {
      "image/png": "[encoded data removed]",
      "text/plain": [
       "<matplotlib.figure.Figure at 0x146184c10>"
      ]
     },
     "metadata": {},
     "output_type": "display_data"
    }
   ],
   "source": [
    "scores = []\n",
    "xs = np.logspace(-2,2,10)\n",
    "for i in xs:\n",
    "    las = sklearn.linear_model.Ridge(alpha=i)\n",
    "    las.fit(strip_cols(combined_reviews_train), combined_reviews_train.stars)\n",
    "    x_pred = las.predict(strip_cols(combined_reviews_test))\n",
    "    s = np.sqrt(sklearn.metrics.mean_squared_error(combined_reviews_test.stars,x_pred))\n",
    "    scores.append(s)\n",
    "plt.semilogx(xs, scores)\n",
    "\n",
    "print np.min(scores)\n",
    "val = xs[np.argmin(scores)]"
   ]
  },
  {
   "cell_type": "code",
   "execution_count": 15,
   "metadata": {
    "collapsed": false
   },
   "outputs": [
    {
     "data": {
      "text/plain": [
       "Index([u'Airport Lounges', u'Cheese Shops', u'Cinema', u'Colombian',\n",
       "       u'Cupcakes', u'Fish & Chips', u'Fondue', u'Food Delivery Services',\n",
       "       u'Food Stands', u'Fruits & Veggies', u'Grocery', u'Health Markets',\n",
       "       u'Internet Cafes', u'Open 24 Hours', u'Party & Event Planning',\n",
       "       u'Peruvian', u'Smoking_yes', u'latitude', u'stars_business',\n",
       "       u'average_stars'],\n",
       "      dtype='object')"
      ]
     },
     "execution_count": 15,
     "metadata": {},
     "output_type": "execute_result"
    }
   ],
   "source": [
    "las = sklearn.linear_model.Ridge(alpha=val)\n",
    "las.fit(strip_cols(combined_reviews_train), combined_reviews_train.stars)\n",
    "strip_cols(combined_reviews_test).columns[np.abs(las.coef_)>0.05]"
   ]
  },
  {
   "cell_type": "code",
   "execution_count": 16,
   "metadata": {
    "collapsed": false
   },
   "outputs": [
    {
     "data": {
      "text/plain": [
       "Index([                       0,           u'Active Life',\n",
       "         u'Adult Entertainment',                u'Afghan',\n",
       "                     u'African',   u'Ages Allowed_21plus',\n",
       "        u'Ages Allowed_allages', u'Alcohol_beer_and_wine',\n",
       "                u'Alcohol_none',       u'Ambience_casual',\n",
       "       ...\n",
       "                       u'Uzbek', u'Venues & Event Spaces',\n",
       "                u'Whiskey Bars',            u'Wi-Fi_paid',\n",
       "           u'Wine Tasting Room',              u'Wineries',\n",
       "                        u'Yoga',        u'stars_business',\n",
       "                  u'elite_2005',            u'elite_2016'],\n",
       "      dtype='object', length=178)"
      ]
     },
     "execution_count": 16,
     "metadata": {},
     "output_type": "execute_result"
    }
   ],
   "source": [
    "las = sklearn.linear_model.Ridge(alpha=baseline_val)\n",
    "las.fit(strip_cols(combined_reviews_valid), combined_reviews_valid.baseline_stars)\n",
    "strip_cols(combined_reviews_test).columns[np.abs(las.coef_)>0.05]"
   ]
  },
  {
   "cell_type": "code",
   "execution_count": 17,
   "metadata": {
    "collapsed": false
   },
   "outputs": [
    {
     "name": "stdout",
     "output_type": "stream",
     "text": [
      "1.24744226546\n"
     ]
    }
   ],
   "source": [
    "# tuning various hyperparameters\n",
    "import sklearn.ensemble\n",
    "model = sk.ensemble.RandomForestRegressor(n_estimators=200)\n",
    "model.fit(strip_cols(combined_reviews_valid), combined_reviews_valid.baseline_stars)\n",
    "x_pred = model.predict(strip_cols(combined_reviews_test))\n",
    "s = np.sqrt(sklearn.metrics.mean_squared_error(combined_reviews_test.stars,\n",
    "                                       bc.inverse_transform(reviews_test, x_pred)))\n",
    "print s"
   ]
  },
  {
   "cell_type": "code",
   "execution_count": 18,
   "metadata": {
    "collapsed": false
   },
   "outputs": [
    {
     "ename": "ValueError",
     "evalue": "Parameter values for parameter (max_features) need to be a sequence(but not a string) or np.ndarray.",
     "output_type": "error",
     "traceback": [
      "\u001b[0;31m--------------------------------------\u001b[0m",
      "\u001b[0;31mValueError\u001b[0mTraceback (most recent call last)",
      "\u001b[0;32m<ipython-input-18-c6cbe87fb7cc>\u001b[0m in \u001b[0;36m<module>\u001b[0;34m()\u001b[0m\n\u001b[1;32m      1\u001b[0m \u001b[0;32mfrom\u001b[0m \u001b[0msklearn\u001b[0m\u001b[0;34m.\u001b[0m\u001b[0mmodel_selection\u001b[0m \u001b[0;32mimport\u001b[0m \u001b[0mGridSearchCV\u001b[0m\u001b[0;34m\u001b[0m\u001b[0m\n\u001b[1;32m      2\u001b[0m \u001b[0mparameters\u001b[0m \u001b[0;34m=\u001b[0m \u001b[0;34m{\u001b[0m\u001b[0;34m'n_estimators'\u001b[0m\u001b[0;34m:\u001b[0m\u001b[0mrange\u001b[0m\u001b[0;34m(\u001b[0m\u001b[0;36m50\u001b[0m\u001b[0;34m,\u001b[0m\u001b[0;36m200\u001b[0m\u001b[0;34m,\u001b[0m\u001b[0;36m10\u001b[0m\u001b[0;34m)\u001b[0m\u001b[0;34m,\u001b[0m \u001b[0;34m'max_features'\u001b[0m\u001b[0;34m:\u001b[0m\u001b[0;34m(\u001b[0m\u001b[0;34m'log2'\u001b[0m\u001b[0;34m)\u001b[0m\u001b[0;34m,\u001b[0m \u001b[0;34m'max_depth'\u001b[0m\u001b[0;34m:\u001b[0m\u001b[0;34m(\u001b[0m\u001b[0;36m5\u001b[0m\u001b[0;34m,\u001b[0m\u001b[0;36m10\u001b[0m\u001b[0;34m)\u001b[0m\u001b[0;34m}\u001b[0m\u001b[0;34m\u001b[0m\u001b[0m\n\u001b[0;32m----> 3\u001b[0;31m \u001b[0mclf\u001b[0m \u001b[0;34m=\u001b[0m \u001b[0mGridSearchCV\u001b[0m\u001b[0;34m(\u001b[0m\u001b[0mmodel\u001b[0m\u001b[0;34m,\u001b[0m \u001b[0mparameters\u001b[0m\u001b[0;34m)\u001b[0m\u001b[0;34m\u001b[0m\u001b[0m\n\u001b[0m\u001b[1;32m      4\u001b[0m \u001b[0mclf\u001b[0m\u001b[0;34m.\u001b[0m\u001b[0mfit\u001b[0m\u001b[0;34m(\u001b[0m\u001b[0mstrip_cols\u001b[0m\u001b[0;34m(\u001b[0m\u001b[0mcombined_reviews_valid\u001b[0m\u001b[0;34m)\u001b[0m\u001b[0;34m,\u001b[0m \u001b[0mcombined_reviews_valid\u001b[0m\u001b[0;34m.\u001b[0m\u001b[0mbaseline_stars\u001b[0m\u001b[0;34m)\u001b[0m\u001b[0;34m\u001b[0m\u001b[0m\n",
      "\u001b[0;32m/Users/nickhoernle/anaconda2/lib/python2.7/site-packages/sklearn/model_selection/_search.pyc\u001b[0m in \u001b[0;36m__init__\u001b[0;34m(self, estimator, param_grid, scoring, fit_params, n_jobs, iid, refit, cv, verbose, pre_dispatch, error_score, return_train_score)\u001b[0m\n\u001b[1;32m    923\u001b[0m             return_train_score=return_train_score)\n\u001b[1;32m    924\u001b[0m         \u001b[0mself\u001b[0m\u001b[0;34m.\u001b[0m\u001b[0mparam_grid\u001b[0m \u001b[0;34m=\u001b[0m \u001b[0mparam_grid\u001b[0m\u001b[0;34m\u001b[0m\u001b[0m\n\u001b[0;32m--> 925\u001b[0;31m         \u001b[0m_check_param_grid\u001b[0m\u001b[0;34m(\u001b[0m\u001b[0mparam_grid\u001b[0m\u001b[0;34m)\u001b[0m\u001b[0;34m\u001b[0m\u001b[0m\n\u001b[0m\u001b[1;32m    926\u001b[0m \u001b[0;34m\u001b[0m\u001b[0m\n\u001b[1;32m    927\u001b[0m     \u001b[0;32mdef\u001b[0m \u001b[0mfit\u001b[0m\u001b[0;34m(\u001b[0m\u001b[0mself\u001b[0m\u001b[0;34m,\u001b[0m \u001b[0mX\u001b[0m\u001b[0;34m,\u001b[0m \u001b[0my\u001b[0m\u001b[0;34m=\u001b[0m\u001b[0mNone\u001b[0m\u001b[0;34m,\u001b[0m \u001b[0mgroups\u001b[0m\u001b[0;34m=\u001b[0m\u001b[0mNone\u001b[0m\u001b[0;34m)\u001b[0m\u001b[0;34m:\u001b[0m\u001b[0;34m\u001b[0m\u001b[0m\n",
      "\u001b[0;32m/Users/nickhoernle/anaconda2/lib/python2.7/site-packages/sklearn/model_selection/_search.pyc\u001b[0m in \u001b[0;36m_check_param_grid\u001b[0;34m(param_grid)\u001b[0m\n\u001b[1;32m    340\u001b[0m                 raise ValueError(\"Parameter values for parameter ({0}) need \"\n\u001b[1;32m    341\u001b[0m                                  \u001b[0;34m\"to be a sequence(but not a string) or\"\u001b[0m\u001b[0;34m\u001b[0m\u001b[0m\n\u001b[0;32m--> 342\u001b[0;31m                                  \" np.ndarray.\".format(name))\n\u001b[0m\u001b[1;32m    343\u001b[0m \u001b[0;34m\u001b[0m\u001b[0m\n\u001b[1;32m    344\u001b[0m             \u001b[0;32mif\u001b[0m \u001b[0mlen\u001b[0m\u001b[0;34m(\u001b[0m\u001b[0mv\u001b[0m\u001b[0;34m)\u001b[0m \u001b[0;34m==\u001b[0m \u001b[0;36m0\u001b[0m\u001b[0;34m:\u001b[0m\u001b[0;34m\u001b[0m\u001b[0m\n",
      "\u001b[0;31mValueError\u001b[0m: Parameter values for parameter (max_features) need to be a sequence(but not a string) or np.ndarray."
     ]
    }
   ],
   "source": [
    "from sklearn.model_selection import GridSearchCV\n",
    "parameters = {'n_estimators':range(50,200,10), 'max_features':('log2'), 'max_depth':(5,10)}\n",
    "clf = GridSearchCV(model, parameters)\n",
    "clf.fit(strip_cols(combined_reviews_valid), combined_reviews_valid.baseline_stars)"
   ]
  },
  {
   "cell_type": "code",
   "execution_count": null,
   "metadata": {
    "collapsed": false
   },
   "outputs": [],
   "source": [
    "clf.best_estimator_"
   ]
  },
  {
   "cell_type": "code",
   "execution_count": null,
   "metadata": {
    "collapsed": false
   },
   "outputs": [],
   "source": [
    "t = clf.best_estimator_\n",
    "t.fit(strip_cols(combined_reviews_valid), combined_reviews_valid.baseline_stars)"
   ]
  },
  {
   "cell_type": "code",
   "execution_count": null,
   "metadata": {
    "collapsed": false
   },
   "outputs": [],
   "source": [
    "x_pred = t.predict(strip_cols(combined_reviews_test))\n",
    "s = np.sqrt(sklearn.metrics.mean_squared_error(combined_reviews_test.stars,\n",
    "                                       bc.inverse_transform(reviews_test, x_pred)))\n",
    "s"
   ]
  },
  {
   "cell_type": "code",
   "execution_count": null,
   "metadata": {
    "collapsed": true
   },
   "outputs": [],
   "source": []
  },
  {
   "cell_type": "code",
   "execution_count": null,
   "metadata": {
    "collapsed": true
   },
   "outputs": [],
   "source": []
  }
 ],
 "metadata": {
  "kernelspec": {
   "display_name": "Python 2",
   "language": "python",
   "name": "python2"
  }
 },
 "nbformat": 4,
 "nbformat_minor": 1
}
