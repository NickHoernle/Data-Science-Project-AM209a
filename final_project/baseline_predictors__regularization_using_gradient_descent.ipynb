{
 "cells": [
  {
   "cell_type": "code",
   "execution_count": 1,
   "metadata": {
    "collapsed": false
   },
   "outputs": [],
   "source": [
    "import sys; sys.path.append('../util')\n",
    "from load_yelp_data import load_yelp_dataframe, restaurants_and_bars_in, train_test_split_reviews\n",
    "import numpy as np\n",
    "import matplotlib.pyplot as plt\n",
    "import pandas as pd\n",
    "import sklearn.metrics\n",
    "import scipy.optimize\n",
    "%matplotlib inline\n",
    "\n",
    "from baseline_calculator import *"
   ]
  },
  {
   "cell_type": "code",
   "execution_count": 2,
   "metadata": {
    "collapsed": false
   },
   "outputs": [],
   "source": [
    "businesses = load_yelp_dataframe('businesses')\n",
    "reviews = load_yelp_dataframe('reviews')\n",
    "users = load_yelp_dataframe('users')"
   ]
  },
  {
   "cell_type": "code",
   "execution_count": 3,
   "metadata": {
    "collapsed": false
   },
   "outputs": [],
   "source": [
    "phoenix_restaurants, phoenix_reviews, phoenix_users = restaurants_and_bars_in('Phoenix', businesses, reviews, users)"
   ]
  },
  {
   "cell_type": "code",
   "execution_count": 4,
   "metadata": {
    "collapsed": false
   },
   "outputs": [],
   "source": [
    "reviews_train, reviews_test = train_test_split_reviews(phoenix_reviews)"
   ]
  },
  {
   "cell_type": "code",
   "execution_count": 5,
   "metadata": {
    "collapsed": false
   },
   "outputs": [
    {
     "name": "stdout",
     "output_type": "stream",
     "text": [
      "828243.574404\n",
      "820873.878045\n",
      "814394.684473\n",
      "808624.424522\n",
      "803428.02802\n",
      "798703.626399\n",
      "794373.295229\n",
      "790376.562701\n",
      "786665.822104\n",
      "783203.062639\n",
      "779957.518782\n",
      "776903.964011\n",
      "774021.459808\n",
      "771292.428842\n",
      "768701.960885\n",
      "766237.287241\n",
      "763887.378337\n",
      "761642.632134\n",
      "759494.630209\n",
      "757435.944728\n",
      "755459.984103\n",
      "753560.868332\n",
      "751733.327358\n",
      "749972.617459\n",
      "748274.451873\n",
      "746634.942808\n",
      "745050.552587\n",
      "743518.052239\n",
      "742034.486165\n",
      "740597.141817\n",
      "739203.523547\n",
      "737851.329934\n",
      "736538.43404\n",
      "735262.866145\n",
      "734022.798586\n",
      "732816.532403\n",
      "731642.485523\n",
      "730499.182288\n",
      "729385.244127\n",
      "728299.381244\n",
      "727240.385173\n",
      "726207.122103\n",
      "725198.526878\n",
      "724213.597585\n",
      "723251.390671\n",
      "722311.016518\n",
      "721391.63544\n",
      "720492.45403\n",
      "719612.721849\n",
      "718751.728401\n",
      "717908.800365\n",
      "717083.299075\n",
      "716274.618193\n",
      "715482.181592\n",
      "714705.441395\n",
      "713943.876178\n",
      "713196.989312\n",
      "712464.307434\n",
      "711745.379028\n",
      "711039.773123\n",
      "710347.078073\n",
      "709666.90044\n",
      "708998.863944\n",
      "708342.608498\n",
      "707697.789301\n",
      "707064.075999\n",
      "706441.151898\n",
      "705828.713238\n",
      "705226.468501\n",
      "704634.137781\n",
      "704051.452177\n",
      "703478.153237\n",
      "702913.992433\n",
      "702358.730667\n",
      "701812.137806\n",
      "701273.99225\n",
      "700744.080522\n",
      "700222.196882\n",
      "699708.142963\n",
      "699201.727435\n",
      "698702.765673\n",
      "698211.079463\n",
      "697726.496705\n",
      "697248.851151\n",
      "696777.982138\n",
      "696313.734353\n",
      "695855.957599\n",
      "695404.506577\n",
      "694959.24068\n",
      "694520.0238\n",
      "694086.724135\n",
      "693659.214018\n",
      "693237.36975\n",
      "692821.071434\n",
      "692410.202831\n",
      "692004.651212\n",
      "691604.307219\n",
      "691209.064739\n",
      "690818.820776\n",
      "690433.475333\n",
      "690052.931297\n"
     ]
    }
   ],
   "source": [
    "bc = L2RegLeastSquaresBaselineCalculator()\n",
    "bc.fit(reviews_train)"
   ]
  },
  {
   "cell_type": "code",
   "execution_count": 6,
   "metadata": {
    "collapsed": false
   },
   "outputs": [
    {
     "data": {
      "text/plain": [
       "1.2242238409059312"
      ]
     },
     "execution_count": 6,
     "metadata": {},
     "output_type": "execute_result"
    }
   ],
   "source": [
    "bc.baseline_rmse(reviews_train)"
   ]
  },
  {
   "cell_type": "code",
   "execution_count": 7,
   "metadata": {
    "collapsed": false
   },
   "outputs": [
    {
     "data": {
      "text/plain": [
       "1.2585870968573407"
      ]
     },
     "execution_count": 7,
     "metadata": {},
     "output_type": "execute_result"
    }
   ],
   "source": [
    "bc.baseline_rmse(reviews_test)"
   ]
  },
  {
   "cell_type": "code",
   "execution_count": 8,
   "metadata": {
    "collapsed": false
   },
   "outputs": [
    {
     "name": "stdout",
     "output_type": "stream",
     "text": [
      "828243.574404\n",
      "820860.237999\n",
      "814343.119102\n",
      "808515.925852\n",
      "803247.342421\n",
      "798438.234688\n",
      "794012.719585\n",
      "789911.887563\n",
      "786089.356487\n",
      "782508.096981\n",
      "779138.145874\n",
      "775954.944036\n",
      "772938.116315\n",
      "770070.566836\n",
      "767337.801075\n",
      "764727.412346\n",
      "762228.68858\n",
      "759832.307888\n",
      "757530.100308\n",
      "755314.859346\n",
      "753180.191363\n",
      "751120.394007\n",
      "749130.357163\n",
      "747205.481515\n",
      "745341.611043\n",
      "743534.976606\n",
      "741782.148471\n",
      "740079.996078\n",
      "738425.653735\n",
      "736816.491199\n",
      "735250.088301\n",
      "733724.212966\n",
      "732236.802076\n",
      "730785.944736\n",
      "729369.867587\n",
      "727986.921873\n",
      "726635.571999\n",
      "725314.38539\n",
      "724022.023463\n",
      "722757.23358\n",
      "721518.84184\n",
      "720305.746626\n",
      "719116.91279\n",
      "717951.366424\n",
      "716808.190132\n",
      "715686.518749\n",
      "714585.535466\n",
      "713504.468301\n",
      "712442.586894\n",
      "711399.199576\n",
      "710373.650701\n",
      "709365.318197\n",
      "708373.611325\n",
      "707397.968625\n",
      "706437.856023\n",
      "705492.765089\n",
      "704562.211437\n",
      "703645.733243\n",
      "702742.889875\n",
      "701853.260631\n",
      "700976.443562\n",
      "700112.054388\n",
      "699259.725486\n",
      "698419.104951\n",
      "697589.855726\n",
      "696771.654783\n",
      "695964.192369\n",
      "695167.171294\n",
      "694380.306273\n",
      "693603.323304\n",
      "692835.959091\n",
      "692077.960503\n",
      "691329.08406\n",
      "690589.095463\n",
      "689857.769139\n",
      "689134.887824\n",
      "688420.242168\n",
      "687713.630355\n",
      "687014.85776\n",
      "686323.736615\n",
      "685640.085692\n",
      "684963.730015\n",
      "684294.500579\n",
      "683632.234083\n",
      "682976.772686\n",
      "682327.963771\n",
      "681685.659718\n",
      "681049.717694\n",
      "680419.999457\n",
      "679796.371158\n",
      "679178.703168\n",
      "678566.8699\n",
      "677960.749653\n",
      "677360.22445\n",
      "676765.179896\n",
      "676175.505035\n",
      "675591.092219\n",
      "675011.836977\n",
      "674437.637901\n",
      "673868.39652\n",
      "673304.017199\n"
     ]
    }
   ],
   "source": [
    "bc2 = L2RegLeastSquaresBaselineCalculator()\n",
    "bc2.fit(reviews_train, l2_pen=0.1)"
   ]
  },
  {
   "cell_type": "code",
   "execution_count": 9,
   "metadata": {
    "collapsed": false
   },
   "outputs": [
    {
     "data": {
      "text/plain": [
       "1.2183229084612857"
      ]
     },
     "execution_count": 9,
     "metadata": {},
     "output_type": "execute_result"
    }
   ],
   "source": [
    "bc2.baseline_rmse(reviews_train)"
   ]
  },
  {
   "cell_type": "code",
   "execution_count": 10,
   "metadata": {
    "collapsed": false
   },
   "outputs": [
    {
     "data": {
      "text/plain": [
       "1.2554672409037799"
      ]
     },
     "execution_count": 10,
     "metadata": {},
     "output_type": "execute_result"
    }
   ],
   "source": [
    "bc2.baseline_rmse(reviews_test)"
   ]
  }
 ],
 "metadata": {
  "kernelspec": {
   "display_name": "Python 2",
   "language": "python",
   "name": "python2"
  },
  "language_info": {
   "codemirror_mode": {
    "name": "ipython",
    "version": 2
   },
   "file_extension": ".py",
   "mimetype": "text/x-python",
   "name": "python",
   "nbconvert_exporter": "python",
   "pygments_lexer": "ipython2",
   "version": "2.7"
  }
 },
 "nbformat": 4,
 "nbformat_minor": 1
}
