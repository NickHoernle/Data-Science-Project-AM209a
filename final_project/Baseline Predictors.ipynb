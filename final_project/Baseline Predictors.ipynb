{
 "cells": [
  {
   "cell_type": "code",
   "execution_count": 2,
   "metadata": {
    "collapsed": true
   },
   "outputs": [],
   "source": [
    "import sys; sys.path.append('../util')\n",
    "from load_yelp_data import load_yelp_dataframe, restaurants_and_bars_in, train_test_split_reviews\n",
    "import numpy as np\n",
    "import matplotlib.pyplot as plt\n",
    "import pandas as pd\n",
    "import sklearn.metrics\n",
    "import scipy.optimize\n",
    "from baseline_calculator import *\n",
    "%matplotlib inline"
   ]
  },
  {
   "cell_type": "code",
   "execution_count": 4,
   "metadata": {
    "collapsed": true
   },
   "outputs": [],
   "source": [
    "businesses = load_yelp_dataframe('businesses')\n",
    "reviews = load_yelp_dataframe('reviews')\n",
    "users = load_yelp_dataframe('users')\n",
    "reviews['date']=pd.to_datetime(reviews.year*10000+reviews.month*100+reviews.day,format='%Y%m%d')\n",
    "phoenix_restaurants, phoenix_reviews, phoenix_users = restaurants_and_bars_in(\n",
    "    'Phoenix', businesses, reviews, users)\n",
    "reviews_train, reviews_test = train_test_split_reviews(phoenix_reviews)"
   ]
  },
  {
   "cell_type": "code",
   "execution_count": 11,
   "metadata": {
    "collapsed": true
   },
   "outputs": [],
   "source": [
    "def summarize_performance(baseline_calculator, **kwargs):\n",
    "    baseline_calculator.fit(reviews_train, **kwargs)\n",
    "    print('for {}:'.format(baseline_calculator.__class__.__name__))\n",
    "    train_rmse = baseline_calculator.baseline_rmse(reviews_train)\n",
    "    test_rmse = baseline_calculator.baseline_rmse(reviews_test)\n",
    "    print('train RMSE: {}'.format(train_rmse))\n",
    "    print(' test RMSE: {}'.format(test_rmse))\n",
    "    return train_rmse, test_rmse"
   ]
  },
  {
   "cell_type": "code",
   "execution_count": 51,
   "metadata": {
    "collapsed": false
   },
   "outputs": [
    {
     "name": "stdout",
     "output_type": "stream",
     "text": [
      "for AbsoluteMeanBaselineCalculator:\n",
      "train RMSE: 1.35148870051\n",
      " test RMSE: 1.35392475252\n"
     ]
    }
   ],
   "source": [
    "ambc = AbsoluteMeanBaselineCalculator()\n",
    "ambc_train_rmse, ambc_test_rmse = summarize_performance(ambc)"
   ]
  },
  {
   "cell_type": "code",
   "execution_count": 52,
   "metadata": {
    "collapsed": false
   },
   "outputs": [
    {
     "name": "stdout",
     "output_type": "stream",
     "text": [
      "for SimpleAverageBaselineCalculator:\n",
      "train RMSE: 0.976644727132\n",
      " test RMSE: 1.34699149129\n"
     ]
    }
   ],
   "source": [
    "sabc = SimpleAverageBaselineCalculator()\n",
    "sabc_train_rmse, sabc_test_rmse = summarize_performance(sabc)"
   ]
  },
  {
   "cell_type": "code",
   "execution_count": 9,
   "metadata": {
    "collapsed": true
   },
   "outputs": [],
   "source": [
    "bpbc = BetaPriorBaselineCalculator()\n",
    "beta_priors = np.arange(2, 50, 1)\n",
    "beta_train_rmses = []\n",
    "beta_test_rmses = []\n",
    "for prior_strength in beta_priors:\n",
    "    bpbc.fit(reviews_train, prior_strength=prior_strength)\n",
    "    beta_train_rmses.append(bpbc.baseline_rmse(reviews_train))\n",
    "    beta_test_rmses.append(bpbc.baseline_rmse(reviews_test))"
   ]
  },
  {
   "cell_type": "code",
   "execution_count": 23,
   "metadata": {
    "collapsed": false
   },
   "outputs": [
    {
     "name": "stdout",
     "output_type": "stream",
     "text": [
      "Best prior: 8\n",
      "for BetaPriorBaselineCalculator:\n",
      "train RMSE: 1.09712142858\n",
      " test RMSE: 1.22970741401\n"
     ]
    }
   ],
   "source": [
    "best_prior = beta_priors[np.argmin(beta_test_rmses)]\n",
    "print('Best prior: {}'.format(best_prior))\n",
    "\n",
    "beta_train_rmse, beta_test_rmse = summarize_performance(\n",
    "    bpbc, prior_strength=best_prior)"
   ]
  },
  {
   "cell_type": "code",
   "execution_count": 22,
   "metadata": {
    "collapsed": false
   },
   "outputs": [],
   "source": [
    "from collections import defaultdict\n",
    "\n",
    "drbc = DecoupledRegularizedBaselineCalculator()\n",
    "lambda1s = [0.1, 0.25, 0.5, 1, 2.25, 2.5, 2.75, 5, 10, 50]\n",
    "lambda2s = [0.1, 0.25, 0.5, 1, 2.5, 4.75, 5, 5.25, 10, 50]\n",
    "drbc_train_rmses = defaultdict(dict)\n",
    "drbc_test_rmses = defaultdict(dict)\n",
    "\n",
    "for lambda1 in lambda1s:\n",
    "    for lambda2 in lambda2s:\n",
    "        drbc.fit(reviews_train, busi_reg_strength=lambda1, user_reg_strength=lambda2)\n",
    "        drbc_train_rmses[lambda1][lambda2] = drbc.baseline_rmse(reviews_train)\n",
    "        drbc_test_rmses[lambda1][lambda2] = drbc.baseline_rmse(reviews_test)"
   ]
  },
  {
   "cell_type": "code",
   "execution_count": 35,
   "metadata": {
    "collapsed": false
   },
   "outputs": [
    {
     "name": "stdout",
     "output_type": "stream",
     "text": [
      "Best lambdas: 2.75 for businesses and 5.25 for users\n",
      "for DecoupledRegularizedBaselineCalculator:\n",
      "train RMSE: 1.08195128135\n",
      " test RMSE: 1.22474806105\n"
     ]
    }
   ],
   "source": [
    "drbc_test_rmse, drbc_train_rmse, l1, l2 = min([\n",
    "        (test_rmses[l1][l2], train_rmses[l1][l2], l1, l2)\n",
    "        for l1 in lambda1s for l2 in lambda2s])\n",
    "\n",
    "print('Best lambdas: {} for businesses and {} for users'.format(l1, l2))\n",
    "print('for DecoupledRegularizedBaselineCalculator:')\n",
    "print('train RMSE: {}'.format(drbc_train_rmse))\n",
    "print(' test RMSE: {}'.format(drbc_test_rmse))"
   ]
  },
  {
   "cell_type": "code",
   "execution_count": 36,
   "metadata": {
    "collapsed": true
   },
   "outputs": [],
   "source": [
    "lsbc = L2RegLeastSquaresBaselineCalculator()\n",
    "\n",
    "l2_penalties = [0.1, 0.4, 0.5, 0.6, 1, 5, 7.5, 10, 12.5, 100]\n",
    "lsbc_train_rmses = []\n",
    "lsbc_test_rmses = []\n",
    "for l2 in l2_penalties:\n",
    "    lsbc.fit(reviews_train, l2_penalty=l2, tol=5, verbose=False, maxiters=1000, learning_rate=0.00001)\n",
    "    lsbc_train_rmses.append(lsbc.baseline_rmse(reviews_train))\n",
    "    lsbc_test_rmses.append(lsbc.baseline_rmse(reviews_test))"
   ]
  },
  {
   "cell_type": "code",
   "execution_count": 37,
   "metadata": {
    "collapsed": false
   },
   "outputs": [
    {
     "name": "stdout",
     "output_type": "stream",
     "text": [
      "best l2 penalty: 5\n",
      "for L2RegLeastSquaresBaselineCalculator:\n",
      "train RMSE: 1.08772407792\n",
      " test RMSE: 1.225275818\n"
     ]
    }
   ],
   "source": [
    "i = np.argmin(lsbc_test_rmses)\n",
    "l2 = l2_penalties[i]\n",
    "lsbc_train_rmse = lsbc_train_rmses[i]\n",
    "lsbc_test_rmse = lsbc_test_rmses[i]\n",
    "print('best l2 penalty: {}'.format(l2))\n",
    "print('for L2RegLeastSquaresBaselineCalculator:')\n",
    "print('train RMSE: {}'.format(lsbc_train_rmse))\n",
    "print(' test RMSE: {}'.format(lsbc_test_rmse))"
   ]
  },
  {
   "cell_type": "code",
   "execution_count": 38,
   "metadata": {
    "collapsed": true
   },
   "outputs": [],
   "source": [
    "narrower_l2_penalties = [4, 4.5, 5, 5.5, 6]\n",
    "narrower_lsbc_train_rmses = []\n",
    "narrower_lsbc_test_rmses = []\n",
    "for l2 in narrower_l2_penalties:\n",
    "    lsbc.fit(reviews_train, l2_penalty=l2, tol=5, verbose=False, maxiters=1000, learning_rate=0.00001)\n",
    "    narrower_lsbc_train_rmses.append(lsbc.baseline_rmse(reviews_train))\n",
    "    narrower_lsbc_test_rmses.append(lsbc.baseline_rmse(reviews_test))"
   ]
  },
  {
   "cell_type": "code",
   "execution_count": 42,
   "metadata": {
    "collapsed": false
   },
   "outputs": [
    {
     "name": "stdout",
     "output_type": "stream",
     "text": [
      "best l2 penalty: 4.5\n",
      "for L2RegLeastSquaresBaselineCalculator:\n",
      "train RMSE: 1.08200029808\n",
      " test RMSE: 1.22513266487\n"
     ]
    }
   ],
   "source": [
    "i = np.argmin(narrower_lsbc_test_rmses)\n",
    "l2 = narrower_l2_penalties[i]\n",
    "lsbc_train_rmse = narrower_lsbc_train_rmses[i]\n",
    "lsbc_test_rmse = narrower_lsbc_test_rmses[i]\n",
    "print('best l2 penalty: {}'.format(l2))\n",
    "print('for L2RegLeastSquaresBaselineCalculator:')\n",
    "print('train RMSE: {}'.format(lsbc_train_rmse))\n",
    "print(' test RMSE: {}'.format(lsbc_test_rmse))"
   ]
  },
  {
   "cell_type": "code",
   "execution_count": 50,
   "metadata": {
    "collapsed": false
   },
   "outputs": [
    {
     "data": {
      "image/png": "[encoded data removed]",
      "text/plain": [
       "<matplotlib.figure.Figure at 0x11ebf6290>"
      ]
     },
     "metadata": {},
     "output_type": "display_data"
    }
   ],
   "source": [
    "fig = plt.figure(figsize=(16,5))\n",
    "\n",
    "fig.add_subplot(121)\n",
    "plt.title('Prior Effect on Train RMSE')\n",
    "plt.ylabel('Train RMSE')\n",
    "plt.xlabel('Beta Prior Strength (a+b)')\n",
    "plt.axhline(ambc_train_rmse, label=r'Always Predict $\\mu$', ls='--', color='red')\n",
    "plt.axhline(sabc_train_rmse, label='Simple Averaging', ls='--', color='green')\n",
    "plt.axhline(drbc_train_rmse, label='Decoupled Regularization', ls='--', color='orange')\n",
    "plt.axhline(lsbc_train_rmse, label='Least-Squares + L2 via GD', ls='-.', color='blue')\n",
    "plt.plot(beta_priors, beta_train_rmses, label='Beta Prior Method', lw=2)\n",
    "plt.ylim(0.9, 1.5)\n",
    "plt.legend(loc='lower right')\n",
    "\n",
    "fig.add_subplot(122)\n",
    "plt.title('Prior Effect on Test RMSE')\n",
    "plt.ylabel('Test RMSE')\n",
    "plt.xlabel('Beta Prior Strength (a+b)')\n",
    "plt.axhline(ambc_test_rmse, label=r'Always Predict $\\mu$', ls='--', color='red')\n",
    "plt.axhline(sabc_test_rmse, label='Simple Averaging', ls='--', color='green')\n",
    "plt.axhline(drbc_test_rmse, label='Decoupled Regularization', ls='--', color='orange')\n",
    "plt.axhline(lsbc_test_rmse, label='Least-Squares + L2 via GD', ls='-.', color='blue')\n",
    "plt.plot(beta_priors, beta_test_rmses, label='Beta Prior Method', lw=2)\n",
    "plt.ylim(0.9, 1.5)\n",
    "plt.legend(loc='lower right')\n",
    "\n",
    "plt.show()"
   ]
  },
  {
   "cell_type": "code",
   "execution_count": 55,
   "metadata": {
    "collapsed": true
   },
   "outputs": [],
   "source": [
    "def avg_distance_between_baselines(bc1, bc2):\n",
    "    tot = 0\n",
    "    for u in reviews_train.user_id.unique():\n",
    "        tot += (bc1.user_baselines[u] - bc2.user_baselines[u])**2\n",
    "    for b in reviews_train.business_id.unique():\n",
    "        tot += (bc1.busi_baselines[b] - bc2.busi_baselines[b])**2\n",
    "    return np.sqrt(tot) / float(len(reviews_train))"
   ]
  },
  {
   "cell_type": "code",
   "execution_count": 54,
   "metadata": {
    "collapsed": true
   },
   "outputs": [],
   "source": [
    "lsbc.fit(reviews_train, l2_penalty=4.5, tol=5, verbose=False, maxiters=1000, learning_rate=0.00001)\n",
    "drbc.fit(reviews_train, busi_reg_strength=2.75, user_reg_strength=5.25)\n",
    "bpbc.fit(reviews_train, prior_strength=8)"
   ]
  },
  {
   "cell_type": "code",
   "execution_count": 56,
   "metadata": {
    "collapsed": false
   },
   "outputs": [
    {
     "data": {
      "text/plain": [
       "3.5663819372490444e-05"
      ]
     },
     "execution_count": 56,
     "metadata": {},
     "output_type": "execute_result"
    }
   ],
   "source": [
    "avg_distance_between_baselines(lsbc, drbc)"
   ]
  },
  {
   "cell_type": "code",
   "execution_count": 57,
   "metadata": {
    "collapsed": false
   },
   "outputs": [
    {
     "data": {
      "text/plain": [
       "7.903969892742913e-05"
      ]
     },
     "execution_count": 57,
     "metadata": {},
     "output_type": "execute_result"
    }
   ],
   "source": [
    "avg_distance_between_baselines(lsbc, bpbc)"
   ]
  },
  {
   "cell_type": "code",
   "execution_count": 58,
   "metadata": {
    "collapsed": false
   },
   "outputs": [
    {
     "data": {
      "text/plain": [
       "8.7646976020469883e-05"
      ]
     },
     "execution_count": 58,
     "metadata": {},
     "output_type": "execute_result"
    }
   ],
   "source": [
    "avg_distance_between_baselines(drbc, bpbc)"
   ]
  },
  {
   "cell_type": "code",
   "execution_count": 60,
   "metadata": {
    "collapsed": false
   },
   "outputs": [
    {
     "data": {
      "text/plain": [
       "0.00092177014064343606"
      ]
     },
     "execution_count": 60,
     "metadata": {},
     "output_type": "execute_result"
    }
   ],
   "source": [
    "avg_distance_between_baselines(drbc, sabc)"
   ]
  },
  {
   "cell_type": "code",
   "execution_count": 81,
   "metadata": {
    "collapsed": false
   },
   "outputs": [],
   "source": [
    "by_l2_penalties = np.arange(5, 15, 1)\n",
    "bybc = BusinessYearBaselineCalculator()\n",
    "bybc_train_rmses = []\n",
    "bybc_test_rmses = []\n",
    "for l2 in by_l2_penalties:\n",
    "    bybc.fit(reviews_train, l2_penalty=l2, tol=5, verbose=False, maxiters=1000, learning_rate=0.00001)\n",
    "    bybc_train_rmses.append(bybc.baseline_rmse(reviews_train))\n",
    "    bybc_test_rmses.append(bybc.baseline_rmse(reviews_test))"
   ]
  },
  {
   "cell_type": "code",
   "execution_count": 104,
   "metadata": {
    "collapsed": false
   },
   "outputs": [
    {
     "name": "stdout",
     "output_type": "stream",
     "text": [
      "1.22580010432\n"
     ]
    },
    {
     "data": {
      "image/png": "[encoded data removed]",
      "text/plain": [
       "<matplotlib.figure.Figure at 0x1228686d0>"
      ]
     },
     "metadata": {},
     "output_type": "display_data"
    }
   ],
   "source": [
    "print min(bybc_test_rmses)\n",
    "plt.plot(by_l2_penalties, bybc_test_rmses)\n",
    "plt.xlabel('L2 penalty')\n",
    "plt.ylabel('RMSE of Business-Time-Bin Model')\n",
    "plt.show()"
   ]
  },
  {
   "cell_type": "code",
   "execution_count": 102,
   "metadata": {
    "collapsed": true
   },
   "outputs": [],
   "source": [
    "b6mbc = Business6MonthBaselineCalculator()\n",
    "b6mbc.fit(reviews_train, l2_penalty=7, tol=5, verbose=False, maxiters=1000, learning_rate=0.00001)"
   ]
  },
  {
   "cell_type": "code",
   "execution_count": 103,
   "metadata": {
    "collapsed": false
   },
   "outputs": [
    {
     "data": {
      "text/plain": [
       "1.22982688572793"
      ]
     },
     "execution_count": 103,
     "metadata": {},
     "output_type": "execute_result"
    }
   ],
   "source": [
    "b6mbc.baseline_rmse(reviews_test)"
   ]
  },
  {
   "cell_type": "code",
   "execution_count": null,
   "metadata": {
    "collapsed": true
   },
   "outputs": [],
   "source": []
  }
 ],
 "metadata": {
  "kernelspec": {
   "display_name": "Python 2",
   "language": "python",
   "name": "python2"
  },
  "language_info": {
   "codemirror_mode": {
    "name": "ipython",
    "version": 2
   },
   "file_extension": ".py",
   "mimetype": "text/x-python",
   "name": "python",
   "nbconvert_exporter": "python",
   "pygments_lexer": "ipython2",
   "version": "2.7.11"
  }
 },
 "nbformat": 4,
 "nbformat_minor": 0
}
