{
 "cells": [
  {
   "cell_type": "code",
   "execution_count": 1,
   "metadata": {
    "collapsed": false
   },
   "outputs": [],
   "source": [
    "import sys; sys.path.append('../util')\n",
    "from load_yelp_data import load_yelp_dataframe, restaurants_and_bars_in, train_test_split_reviews\n",
    "import numpy as np\n",
    "import matplotlib.pyplot as plt\n",
    "import pandas as pd\n",
    "import sklearn.metrics\n",
    "import scipy.optimize\n",
    "import seaborn\n",
    "from baseline_calculator import *\n",
    "%matplotlib inline"
   ]
  },
  {
   "cell_type": "code",
   "execution_count": 2,
   "metadata": {
    "collapsed": false
   },
   "outputs": [],
   "source": [
    "businesses = load_yelp_dataframe('businesses')\n",
    "reviews = load_yelp_dataframe('reviews')\n",
    "users = load_yelp_dataframe('users')\n",
    "phoenix_restaurants, phoenix_reviews, phoenix_users = restaurants_and_bars_in(\n",
    "    'Phoenix', businesses, reviews, users)\n",
    "reviews_train, reviews_test = train_test_split_reviews(phoenix_reviews)"
   ]
  },
  {
   "cell_type": "code",
   "execution_count": 11,
   "metadata": {
    "collapsed": true
   },
   "outputs": [],
   "source": [
    "def summarize_performance(baseline_calculator, **kwargs):\n",
    "    baseline_calculator.fit(reviews_train, **kwargs)\n",
    "    print('for {}:'.format(baseline_calculator.__class__.__name__))\n",
    "    train_rmse = baseline_calculator.baseline_rmse(reviews_train)\n",
    "    test_rmse = baseline_calculator.baseline_rmse(reviews_test)\n",
    "    print('train RMSE: {}'.format(train_rmse))\n",
    "    print(' test RMSE: {}'.format(test_rmse))\n",
    "    return train_rmse, test_rmse"
   ]
  },
  {
   "cell_type": "markdown",
   "metadata": {},
   "source": [
    "### Really basic baselines -- averaging"
   ]
  },
  {
   "cell_type": "code",
   "execution_count": 51,
   "metadata": {
    "collapsed": false
   },
   "outputs": [
    {
     "name": "stdout",
     "output_type": "stream",
     "text": [
      "for AbsoluteMeanBaselineCalculator:\n",
      "train RMSE: 1.35148870051\n",
      " test RMSE: 1.35392475252\n"
     ]
    }
   ],
   "source": [
    "ambc = AbsoluteMeanBaselineCalculator()\n",
    "ambc_train_rmse, ambc_test_rmse = summarize_performance(ambc)"
   ]
  },
  {
   "cell_type": "code",
   "execution_count": 52,
   "metadata": {
    "collapsed": false
   },
   "outputs": [
    {
     "name": "stdout",
     "output_type": "stream",
     "text": [
      "for SimpleAverageBaselineCalculator:\n",
      "train RMSE: 0.976644727132\n",
      " test RMSE: 1.34699149129\n"
     ]
    }
   ],
   "source": [
    "sabc = SimpleAverageBaselineCalculator()\n",
    "sabc_train_rmse, sabc_test_rmse = summarize_performance(sabc)"
   ]
  },
  {
   "cell_type": "markdown",
   "metadata": {},
   "source": [
    "### Beta prior method"
   ]
  },
  {
   "cell_type": "code",
   "execution_count": 9,
   "metadata": {
    "collapsed": true
   },
   "outputs": [],
   "source": [
    "bpbc = BetaPriorBaselineCalculator()\n",
    "beta_priors = np.arange(2, 50, 1)\n",
    "beta_train_rmses = []\n",
    "beta_test_rmses = []\n",
    "for prior_strength in beta_priors:\n",
    "    bpbc.fit(reviews_train, prior_strength=prior_strength)\n",
    "    beta_train_rmses.append(bpbc.baseline_rmse(reviews_train))\n",
    "    beta_test_rmses.append(bpbc.baseline_rmse(reviews_test))"
   ]
  },
  {
   "cell_type": "code",
   "execution_count": 23,
   "metadata": {
    "collapsed": false
   },
   "outputs": [
    {
     "name": "stdout",
     "output_type": "stream",
     "text": [
      "Best prior: 8\n",
      "for BetaPriorBaselineCalculator:\n",
      "train RMSE: 1.09712142858\n",
      " test RMSE: 1.22970741401\n"
     ]
    }
   ],
   "source": [
    "best_prior = beta_priors[np.argmin(beta_test_rmses)]\n",
    "print('Best prior: {}'.format(best_prior))\n",
    "\n",
    "beta_train_rmse, beta_test_rmse = summarize_performance(\n",
    "    bpbc, prior_strength=best_prior)"
   ]
  },
  {
   "cell_type": "markdown",
   "metadata": {},
   "source": [
    "### Decoupling + regularization (eqns 2 and 3 from BellKor 2009)"
   ]
  },
  {
   "cell_type": "code",
   "execution_count": 22,
   "metadata": {
    "collapsed": false
   },
   "outputs": [],
   "source": [
    "from collections import defaultdict\n",
    "\n",
    "drbc = DecoupledRegularizedBaselineCalculator()\n",
    "lambda1s = [0.1, 0.25, 0.5, 1, 2.25, 2.5, 2.75, 5, 10, 50]\n",
    "lambda2s = [0.1, 0.25, 0.5, 1, 2.5, 4.75, 5, 5.25, 10, 50]\n",
    "drbc_train_rmses = defaultdict(dict)\n",
    "drbc_test_rmses = defaultdict(dict)\n",
    "\n",
    "for lambda1 in lambda1s:\n",
    "    for lambda2 in lambda2s:\n",
    "        drbc.fit(reviews_train, busi_reg_strength=lambda1, user_reg_strength=lambda2)\n",
    "        drbc_train_rmses[lambda1][lambda2] = drbc.baseline_rmse(reviews_train)\n",
    "        drbc_test_rmses[lambda1][lambda2] = drbc.baseline_rmse(reviews_test)"
   ]
  },
  {
   "cell_type": "code",
   "execution_count": 35,
   "metadata": {
    "collapsed": false
   },
   "outputs": [
    {
     "name": "stdout",
     "output_type": "stream",
     "text": [
      "Best lambdas: 2.75 for businesses and 5.25 for users\n",
      "for DecoupledRegularizedBaselineCalculator:\n",
      "train RMSE: 1.08195128135\n",
      " test RMSE: 1.22474806105\n"
     ]
    }
   ],
   "source": [
    "drbc_test_rmse, drbc_train_rmse, l1, l2 = min([\n",
    "        (test_rmses[l1][l2], train_rmses[l1][l2], l1, l2)\n",
    "        for l1 in lambda1s for l2 in lambda2s])\n",
    "\n",
    "print('Best lambdas: {} for businesses and {} for users'.format(l1, l2))\n",
    "print('for DecoupledRegularizedBaselineCalculator:')\n",
    "print('train RMSE: {}'.format(drbc_train_rmse))\n",
    "print(' test RMSE: {}'.format(drbc_test_rmse))"
   ]
  },
  {
   "cell_type": "markdown",
   "metadata": {},
   "source": [
    "### Least-squares + L2 penalty (eqn 4 from BellKor 2009)"
   ]
  },
  {
   "cell_type": "code",
   "execution_count": 36,
   "metadata": {
    "collapsed": true
   },
   "outputs": [],
   "source": [
    "lsbc = L2RegLeastSquaresBaselineCalculator()\n",
    "\n",
    "l2_penalties = [0.1, 0.4, 0.5, 0.6, 1, 5, 7.5, 10, 12.5, 100]\n",
    "lsbc_train_rmses = []\n",
    "lsbc_test_rmses = []\n",
    "for l2 in l2_penalties:\n",
    "    lsbc.fit(reviews_train, l2_penalty=l2, tol=5, verbose=False, maxiters=1000, learning_rate=0.00001)\n",
    "    lsbc_train_rmses.append(lsbc.baseline_rmse(reviews_train))\n",
    "    lsbc_test_rmses.append(lsbc.baseline_rmse(reviews_test))"
   ]
  },
  {
   "cell_type": "code",
   "execution_count": 37,
   "metadata": {
    "collapsed": false
   },
   "outputs": [
    {
     "name": "stdout",
     "output_type": "stream",
     "text": [
      "best l2 penalty: 5\n",
      "for L2RegLeastSquaresBaselineCalculator:\n",
      "train RMSE: 1.08772407792\n",
      " test RMSE: 1.225275818\n"
     ]
    }
   ],
   "source": [
    "i = np.argmin(lsbc_test_rmses)\n",
    "l2 = l2_penalties[i]\n",
    "lsbc_train_rmse = lsbc_train_rmses[i]\n",
    "lsbc_test_rmse = lsbc_test_rmses[i]\n",
    "print('best l2 penalty: {}'.format(l2))\n",
    "print('for L2RegLeastSquaresBaselineCalculator:')\n",
    "print('train RMSE: {}'.format(lsbc_train_rmse))\n",
    "print(' test RMSE: {}'.format(lsbc_test_rmse))"
   ]
  },
  {
   "cell_type": "code",
   "execution_count": 38,
   "metadata": {
    "collapsed": true
   },
   "outputs": [],
   "source": [
    "narrower_l2_penalties = [4, 4.5, 5, 5.5, 6]\n",
    "narrower_lsbc_train_rmses = []\n",
    "narrower_lsbc_test_rmses = []\n",
    "for l2 in narrower_l2_penalties:\n",
    "    lsbc.fit(reviews_train, l2_penalty=l2, tol=5, verbose=False, maxiters=1000, learning_rate=0.00001)\n",
    "    narrower_lsbc_train_rmses.append(lsbc.baseline_rmse(reviews_train))\n",
    "    narrower_lsbc_test_rmses.append(lsbc.baseline_rmse(reviews_test))"
   ]
  },
  {
   "cell_type": "code",
   "execution_count": 42,
   "metadata": {
    "collapsed": false
   },
   "outputs": [
    {
     "name": "stdout",
     "output_type": "stream",
     "text": [
      "best l2 penalty: 4.5\n",
      "for L2RegLeastSquaresBaselineCalculator:\n",
      "train RMSE: 1.08200029808\n",
      " test RMSE: 1.22513266487\n"
     ]
    }
   ],
   "source": [
    "i = np.argmin(narrower_lsbc_test_rmses)\n",
    "l2 = narrower_l2_penalties[i]\n",
    "lsbc_train_rmse = narrower_lsbc_train_rmses[i]\n",
    "lsbc_test_rmse = narrower_lsbc_test_rmses[i]\n",
    "print('best l2 penalty: {}'.format(l2))\n",
    "print('for L2RegLeastSquaresBaselineCalculator:')\n",
    "print('train RMSE: {}'.format(lsbc_train_rmse))\n",
    "print(' test RMSE: {}'.format(lsbc_test_rmse))"
   ]
  },
  {
   "cell_type": "markdown",
   "metadata": {},
   "source": [
    "### Comparison"
   ]
  },
  {
   "cell_type": "code",
   "execution_count": 174,
   "metadata": {
    "collapsed": false
   },
   "outputs": [
    {
     "data": {
      "image/png": "[encoded data removed]",
      "text/plain": [
       "<matplotlib.figure.Figure at 0x11cbb6e50>"
      ]
     },
     "metadata": {},
     "output_type": "display_data"
    }
   ],
   "source": [
    "fig = plt.figure(figsize=(16,5))\n",
    "\n",
    "fig.add_subplot(121)\n",
    "plt.title('Prior Effect on Train RMSE')\n",
    "plt.ylabel('Train RMSE')\n",
    "plt.xlabel('Beta Prior Strength (a+b)')\n",
    "plt.axhline(ambc_train_rmse, label=r'Always Predict Mean', ls='--', color='red')\n",
    "plt.axhline(sabc_train_rmse, label='Simple Averaging', ls='--', color='green')\n",
    "plt.axhline(drbc_train_rmse, label='Decoupled Regularization', ls='--', color='orange')\n",
    "plt.axhline(lsbc_train_rmse, label='Least-Squares + L2 via GD', ls='-.', color='blue')\n",
    "plt.plot(beta_priors, beta_train_rmses, label='Beta Prior Method', lw=2)\n",
    "plt.ylim(0.9, 1.5)\n",
    "plt.legend(loc='upper left', frameon=True)\n",
    "\n",
    "fig.add_subplot(122)\n",
    "plt.title('Prior Effect on Test RMSE')\n",
    "plt.ylabel('Test RMSE')\n",
    "plt.xlabel('Beta Prior Strength (a+b)')\n",
    "plt.axhline(ambc_test_rmse, label=r'Always Predict Mean', ls='--', color='red')\n",
    "plt.axhline(sabc_test_rmse, label='Simple Averaging', ls='--', color='green')\n",
    "plt.axhline(drbc_test_rmse, label='Decoupled Regularization', ls='--', color='orange')\n",
    "plt.axhline(lsbc_test_rmse, label='Least-Squares + L2 via GD', ls='-.', color='blue')\n",
    "plt.plot(beta_priors, beta_test_rmses, label='Beta Prior Method', lw=2)\n",
    "plt.ylim(0.9, 1.5)\n",
    "plt.legend(loc='lower right', frameon=True)\n",
    "\n",
    "plt.show()"
   ]
  },
  {
   "cell_type": "markdown",
   "metadata": {},
   "source": [
    "We should expect that baselines which obtain similar RMSE also have similar values for $b_u$ and $b_i$ -- let's check that quickly:"
   ]
  },
  {
   "cell_type": "code",
   "execution_count": 55,
   "metadata": {
    "collapsed": true
   },
   "outputs": [],
   "source": [
    "def avg_distance_between_baselines(bc1, bc2):\n",
    "    tot = 0\n",
    "    for u in reviews_train.user_id.unique():\n",
    "        tot += (bc1.user_baselines[u] - bc2.user_baselines[u])**2\n",
    "    for b in reviews_train.business_id.unique():\n",
    "        tot += (bc1.busi_baselines[b] - bc2.busi_baselines[b])**2\n",
    "    return np.sqrt(tot) / float(len(reviews_train))"
   ]
  },
  {
   "cell_type": "code",
   "execution_count": 54,
   "metadata": {
    "collapsed": true
   },
   "outputs": [],
   "source": [
    "lsbc.fit(reviews_train, l2_penalty=4.5, tol=5, verbose=False, maxiters=1000, learning_rate=0.00001)\n",
    "drbc.fit(reviews_train, busi_reg_strength=2.75, user_reg_strength=5.25)\n",
    "bpbc.fit(reviews_train, prior_strength=8)"
   ]
  },
  {
   "cell_type": "code",
   "execution_count": 56,
   "metadata": {
    "collapsed": false
   },
   "outputs": [
    {
     "data": {
      "text/plain": [
       "3.5663819372490444e-05"
      ]
     },
     "execution_count": 56,
     "metadata": {},
     "output_type": "execute_result"
    }
   ],
   "source": [
    "avg_distance_between_baselines(lsbc, drbc)"
   ]
  },
  {
   "cell_type": "code",
   "execution_count": 57,
   "metadata": {
    "collapsed": false
   },
   "outputs": [
    {
     "data": {
      "text/plain": [
       "7.903969892742913e-05"
      ]
     },
     "execution_count": 57,
     "metadata": {},
     "output_type": "execute_result"
    }
   ],
   "source": [
    "avg_distance_between_baselines(lsbc, bpbc)"
   ]
  },
  {
   "cell_type": "code",
   "execution_count": 58,
   "metadata": {
    "collapsed": false
   },
   "outputs": [
    {
     "data": {
      "text/plain": [
       "8.7646976020469883e-05"
      ]
     },
     "execution_count": 58,
     "metadata": {},
     "output_type": "execute_result"
    }
   ],
   "source": [
    "avg_distance_between_baselines(drbc, bpbc)"
   ]
  },
  {
   "cell_type": "code",
   "execution_count": 60,
   "metadata": {
    "collapsed": false
   },
   "outputs": [
    {
     "data": {
      "text/plain": [
       "0.00092177014064343606"
      ]
     },
     "execution_count": 60,
     "metadata": {},
     "output_type": "execute_result"
    }
   ],
   "source": [
    "avg_distance_between_baselines(drbc, sabc)"
   ]
  },
  {
   "cell_type": "markdown",
   "metadata": {},
   "source": [
    "The above shows that the Least-Squares and Decoupled Regularized baselines end up finding more similar parameters than the other methods, which makes sense.\n",
    "\n",
    "Now let's try some custom-column based methods that mostly explore time and frequency (per user or business):"
   ]
  },
  {
   "cell_type": "code",
   "execution_count": 81,
   "metadata": {
    "collapsed": false
   },
   "outputs": [],
   "source": [
    "by_l2_penalties = np.arange(5, 15, 1)\n",
    "bybc = BusinessYearBaselineCalculator()\n",
    "bybc_train_rmses = []\n",
    "bybc_test_rmses = []\n",
    "for l2 in by_l2_penalties:\n",
    "    bybc.fit(reviews_train, l2_penalty=l2, tol=5, verbose=False, maxiters=1000, learning_rate=0.00001)\n",
    "    bybc_train_rmses.append(bybc.baseline_rmse(reviews_train))\n",
    "    bybc_test_rmses.append(bybc.baseline_rmse(reviews_test))"
   ]
  },
  {
   "cell_type": "code",
   "execution_count": 104,
   "metadata": {
    "collapsed": false
   },
   "outputs": [
    {
     "name": "stdout",
     "output_type": "stream",
     "text": [
      "1.22580010432\n"
     ]
    },
    {
     "data": {
      "image/png": "[encoded data removed]",
      "text/plain": [
       "<matplotlib.figure.Figure at 0x1228686d0>"
      ]
     },
     "metadata": {},
     "output_type": "display_data"
    }
   ],
   "source": [
    "print min(bybc_test_rmses)\n",
    "plt.plot(by_l2_penalties, bybc_test_rmses)\n",
    "plt.xlabel('L2 penalty')\n",
    "plt.ylabel('RMSE of Business-Time-Bin Model')\n",
    "plt.show()"
   ]
  },
  {
   "cell_type": "code",
   "execution_count": 3,
   "metadata": {
    "collapsed": false
   },
   "outputs": [
    {
     "name": "stdout",
     "output_type": "stream",
     "text": [
      "loss at iter 0: 828243.5744044604\n",
      "loss at iter 25: 776445.9436448399\n",
      "loss at iter 50: 694874.0899386564\n",
      "loss at iter 75: 625830.2007411734\n",
      "loss at iter 100: 585264.038672758\n",
      "loss at iter 125: 581762.0493888604\n"
     ]
    }
   ],
   "source": [
    "b6mbc = Business6MonthBaselineCalculator()\n",
    "b6mbc.fit(reviews_train, l2_penalty=7, tol=5, maxiters=1000, learning_rate=0.00001)"
   ]
  },
  {
   "cell_type": "code",
   "execution_count": 4,
   "metadata": {
    "collapsed": false
   },
   "outputs": [
    {
     "data": {
      "text/plain": [
       "1.22982688572793"
      ]
     },
     "execution_count": 4,
     "metadata": {},
     "output_type": "execute_result"
    }
   ],
   "source": [
    "b6mbc.baseline_rmse(reviews_test)"
   ]
  },
  {
   "cell_type": "code",
   "execution_count": 5,
   "metadata": {
    "collapsed": false
   },
   "outputs": [
    {
     "name": "stdout",
     "output_type": "stream",
     "text": [
      "loss at iter 0: 828243.5744044604\n",
      "loss at iter 25: 822457.5569607995\n",
      "loss at iter 50: 819238.5965239974\n"
     ]
    }
   ],
   "source": [
    "fybc = FreqYearBaselineCalculator()\n",
    "fybc.fit(reviews_train, l2_penalty=7, tol=5, maxiters=1000, learning_rate=0.00001)"
   ]
  },
  {
   "cell_type": "code",
   "execution_count": 6,
   "metadata": {
    "collapsed": false
   },
   "outputs": [
    {
     "data": {
      "text/plain": [
       "1.3461154706856089"
      ]
     },
     "execution_count": 6,
     "metadata": {},
     "output_type": "execute_result"
    }
   ],
   "source": [
    "fybc.baseline_rmse(reviews_test)"
   ]
  },
  {
   "cell_type": "code",
   "execution_count": null,
   "metadata": {
    "collapsed": false
   },
   "outputs": [],
   "source": [
    "penalties = [0.1, 1, 3, 5, 7, 10]\n",
    "test_rmses = []\n",
    "for p in penalties:\n",
    "    mrbc = MoreThanOneReviewBizBaselineCalculator()\n",
    "    mrbc.fit(reviews_train, l2_penalty=p, tol=5, maxiters=1000, learning_rate=0.00001, verbose=False)\n",
    "    test_rmses.append(mrbc.baseline_rmse(reviews_test))"
   ]
  },
  {
   "cell_type": "code",
   "execution_count": null,
   "metadata": {
    "collapsed": false
   },
   "outputs": [],
   "source": [
    "print min(test_rmses)\n",
    "penalties[np.argmin(test_rmses)]"
   ]
  },
  {
   "cell_type": "code",
   "execution_count": 10,
   "metadata": {
    "collapsed": false
   },
   "outputs": [
    {
     "data": {
      "text/plain": [
       "1.2247027310455518"
      ]
     },
     "execution_count": 10,
     "metadata": {},
     "output_type": "execute_result"
    }
   ],
   "source": [
    "mrbc = MoreThanOneReviewBizBaselineCalculator()\n",
    "mrbc.fit(reviews_train, l2_penalty=5, tol=3, maxiters=1000, learning_rate=0.00001, verbose=False)\n",
    "mrbc.baseline_rmse(reviews_test)"
   ]
  },
  {
   "cell_type": "code",
   "execution_count": 12,
   "metadata": {
    "collapsed": false
   },
   "outputs": [
    {
     "data": {
      "text/plain": [
       "1.2255071075691415"
      ]
     },
     "execution_count": 12,
     "metadata": {},
     "output_type": "execute_result"
    }
   ],
   "source": [
    "mrbc = MoreThanOneReviewBizBaselineCalculator()\n",
    "mrbc.fit(reviews_train, l2_penalty=4, tol=1, maxiters=1000, learning_rate=0.00001, verbose=False)\n",
    "mrbc.baseline_rmse(reviews_test)"
   ]
  },
  {
   "cell_type": "code",
   "execution_count": 13,
   "metadata": {
    "collapsed": false
   },
   "outputs": [
    {
     "data": {
      "text/plain": [
       "1.224904626132298"
      ]
     },
     "execution_count": 13,
     "metadata": {},
     "output_type": "execute_result"
    }
   ],
   "source": [
    "mrbc = MoreThanOneReviewBizBaselineCalculator()\n",
    "mrbc.fit(reviews_train, l2_penalty=6, tol=1, maxiters=1000, learning_rate=0.00001, verbose=False)\n",
    "mrbc.baseline_rmse(reviews_test)"
   ]
  },
  {
   "cell_type": "code",
   "execution_count": 15,
   "metadata": {
    "collapsed": false
   },
   "outputs": [
    {
     "data": {
      "text/plain": [
       "1.2241024983167976"
      ]
     },
     "execution_count": 15,
     "metadata": {},
     "output_type": "execute_result"
    }
   ],
   "source": [
    "mrbc = MoreThanOneReviewBizBaselineCalculator()\n",
    "mrbc.fit(reviews_train, l2_penalty=4.75, tol=1, maxiters=1000, learning_rate=0.00001, verbose=False)\n",
    "mrbc.baseline_rmse(reviews_test)"
   ]
  },
  {
   "cell_type": "code",
   "execution_count": 16,
   "metadata": {
    "collapsed": false
   },
   "outputs": [
    {
     "data": {
      "text/plain": [
       "1.2240404851845823"
      ]
     },
     "execution_count": 16,
     "metadata": {},
     "output_type": "execute_result"
    }
   ],
   "source": [
    "mrbc = MoreThanOneReviewBizBaselineCalculator()\n",
    "mrbc.fit(reviews_train, l2_penalty=4.5, tol=1, maxiters=1000, learning_rate=0.00001, verbose=False)\n",
    "mrbc.baseline_rmse(reviews_test)"
   ]
  },
  {
   "cell_type": "code",
   "execution_count": 18,
   "metadata": {
    "collapsed": false
   },
   "outputs": [
    {
     "data": {
      "text/plain": [
       "1.2238666738910313"
      ]
     },
     "execution_count": 18,
     "metadata": {},
     "output_type": "execute_result"
    }
   ],
   "source": [
    "mrbc = MoreThanOneReviewBizBaselineCalculator()\n",
    "mrbc.fit(reviews_train, l2_penalty=4.67, tol=1, maxiters=1000, learning_rate=0.00001, verbose=False)\n",
    "mrbc.baseline_rmse(reviews_test)"
   ]
  },
  {
   "cell_type": "markdown",
   "metadata": {},
   "source": [
    "The above is actually our best result -- so perhaps frequencies help.\n",
    "\n",
    "The Netflix paper mentions that frequency information works best when applied as a per-business parameter, but let's also try it as a per-user parameter (despite the fact that that will introduce many more new parameters, since there are ~1e6 users as opposed to 1e5 businesses):"
   ]
  },
  {
   "cell_type": "code",
   "execution_count": 9,
   "metadata": {
    "collapsed": false
   },
   "outputs": [
    {
     "data": {
      "text/plain": [
       "1.2290238663168427"
      ]
     },
     "execution_count": 9,
     "metadata": {},
     "output_type": "execute_result"
    }
   ],
   "source": [
    "mubc = MoreThanOneReviewUserBaselineCalculator()\n",
    "mubc.fit(reviews_train, l2_penalty=10, tol=5, maxiters=1000, learning_rate=0.00001, verbose=False)\n",
    "mubc.baseline_rmse(reviews_test)"
   ]
  },
  {
   "cell_type": "code",
   "execution_count": 11,
   "metadata": {
    "collapsed": false
   },
   "outputs": [
    {
     "data": {
      "text/plain": [
       "1.2322530814836508"
      ]
     },
     "execution_count": 11,
     "metadata": {},
     "output_type": "execute_result"
    }
   ],
   "source": [
    "mubc = MoreThanOneReviewUserBaselineCalculator()\n",
    "mubc.fit(reviews_train, l2_penalty=15, tol=5, maxiters=1000, learning_rate=0.00001, verbose=False)\n",
    "mubc.baseline_rmse(reviews_test)"
   ]
  }
 ],
 "metadata": {
  "anaconda-cloud": {},
  "kernelspec": {
   "display_name": "Python 2",
   "language": "python",
   "name": "python2"
  },
  "language_info": {
   "codemirror_mode": {
    "name": "ipython",
    "version": 2
   },
   "file_extension": ".py",
   "mimetype": "text/x-python",
   "name": "python",
   "nbconvert_exporter": "python",
   "pygments_lexer": "ipython2",
   "version": "2.7.12"
  }
 },
 "nbformat": 4,
 "nbformat_minor": 0
}
