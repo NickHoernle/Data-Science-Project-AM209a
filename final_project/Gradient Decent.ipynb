{
 "cells": [
  {
   "cell_type": "code",
   "execution_count": 1,
   "metadata": {
    "collapsed": false
   },
   "outputs": [],
   "source": [
    "import sys; sys.path.append('../util')\n",
    "from load_yelp_data import load_yelp_dataframe, restaurants_and_bars_in, train_test_split_reviews\n",
    "import numpy as np\n",
    "import matplotlib.pyplot as plt\n",
    "import pandas as pd\n",
    "import sklearn.metrics\n",
    "import scipy.optimize\n",
    "%matplotlib inline\n",
    "\n",
    "from baseline_calculator import *"
   ]
  },
  {
   "cell_type": "code",
   "execution_count": 2,
   "metadata": {
    "collapsed": false
   },
   "outputs": [],
   "source": [
    "businesses = load_yelp_dataframe('businesses')\n",
    "reviews = load_yelp_dataframe('reviews')\n",
    "users = load_yelp_dataframe('users')\n",
    "phoenix_restaurants, phoenix_reviews, phoenix_users = restaurants_and_bars_in('Phoenix', businesses, reviews, users)\n",
    "reviews_train, reviews_test = train_test_split_reviews(phoenix_reviews)"
   ]
  },
  {
   "cell_type": "code",
   "execution_count": 3,
   "metadata": {
    "collapsed": false
   },
   "outputs": [
    {
     "name": "stdout",
     "output_type": "stream",
     "text": [
      "loss at iter 0: 828243.574404\n",
      "loss at iter 25: 782477.394191\n",
      "loss at iter 50: 706816.258588\n",
      "loss at iter 75: 631699.187843\n",
      "loss at iter 100: 542340.331922\n",
      "loss at iter 125: 485993.305199\n",
      "loss at iter 150: 473407.223579\n",
      "loss at iter 175: 465630.87191\n",
      "loss at iter 0: 828243.574404\n",
      "loss at iter 25: 782477.456982\n",
      "loss at iter 50: 706817.040721\n",
      "loss at iter 75: 631703.018553\n",
      "loss at iter 100: 542356.979319\n",
      "loss at iter 125: 483853.573884\n",
      "loss at iter 0: 828243.574404\n",
      "loss at iter 25: 782478.084886\n",
      "loss at iter 50: 706824.861597\n",
      "loss at iter 75: 631741.317574\n",
      "loss at iter 100: 542523.333776\n",
      "loss at iter 125: 491193.488612\n",
      "loss at iter 0: 828243.574404\n",
      "loss at iter 25: 782484.363265\n",
      "loss at iter 50: 706903.02436\n",
      "loss at iter 75: 632123.500528\n",
      "loss at iter 100: 544174.985589\n",
      "loss at iter 125: 489943.477912\n",
      "loss at iter 150: 476209.254523\n",
      "loss at iter 175: 468371.104896\n",
      "loss at iter 0: 828243.574404\n",
      "loss at iter 25: 782547.080724\n",
      "loss at iter 50: 707680.074631\n",
      "loss at iter 75: 635866.004673\n",
      "loss at iter 100: 559570.544153\n",
      "loss at iter 125: 526888.23985\n",
      "loss at iter 150: 513198.190756\n",
      "loss at iter 0: 828243.574404\n",
      "loss at iter 25: 783167.674748\n",
      "loss at iter 50: 715013.714001\n",
      "loss at iter 75: 666577.910718\n",
      "loss at iter 100: 645036.734008\n",
      "loss at iter 0: 828243.574404\n",
      "loss at iter 25: 788765.150689\n",
      "loss at iter 50: 757836.724209\n"
     ]
    }
   ],
   "source": [
    "bc = L2RegLeastSquaresBaselineCalculator()\n",
    "lambdas = [0.0001, 0.001, 0.01, 0.05, 0.1, 0.5, 1, 10, 100]\n",
    "train_rmses = []\n",
    "test_rmses = []\n",
    "for lamb in lambdas:\n",
    "    bc.fit(reviews_train, l2_penalty=lamb)\n",
    "    train_rmses.append(bc.baseline_rmse(reviews_train))\n",
    "    test_rmses.append(bc.baseline_rmse(reviews_test))"
   ]
  },
  {
   "cell_type": "code",
   "execution_count": 12,
   "metadata": {
    "collapsed": false
   },
   "outputs": [
    {
     "data": {
      "image/png": "[encoded data removed]",
      "text/plain": [
       "<matplotlib.figure.Figure at 0x118488c50>"
      ]
     },
     "metadata": {},
     "output_type": "display_data"
    }
   ],
   "source": [
    "plt.semilogx(lambdas, train_rmses, label='Train RMSE')\n",
    "plt.semilogx(lambdas, test_rmses, label='Test RMSE')\n",
    "plt.axhline(min(test_rmses), label='{:.3f}'.format(min(test_rmses)), color='red', ls='--')\n",
    "plt.legend(loc='best')\n",
    "plt.xlabel(r'$\\lambda$')\n",
    "plt.show()"
   ]
  },
  {
   "cell_type": "code",
   "execution_count": 10,
   "metadata": {
    "collapsed": false
   },
   "outputs": [
    {
     "name": "stdout",
     "output_type": "stream",
     "text": [
      "loss at iter 0: 828243.574404\n",
      "loss at iter 25: 782494.824549\n",
      "loss at iter 50: 707033.110031\n",
      "loss at iter 75: 632757.224732\n",
      "loss at iter 100: 546880.401626\n",
      "loss at iter 125: 506057.615955\n",
      "loss at iter 0: 828243.574404\n",
      "loss at iter 25: 782500.053934\n",
      "loss at iter 50: 707098.065996\n",
      "loss at iter 75: 633072.573036\n",
      "loss at iter 100: 548211.336579\n",
      "loss at iter 125: 504046.683376\n",
      "loss at iter 0: 828243.574404\n",
      "loss at iter 25: 782512.252575\n",
      "loss at iter 50: 707249.405119\n",
      "loss at iter 75: 633804.488581\n",
      "loss at iter 100: 551261.740162\n",
      "loss at iter 125: 505989.412875\n",
      "loss at iter 0: 828243.574404\n",
      "loss at iter 25: 782520.963099\n",
      "loss at iter 50: 707357.312154\n",
      "loss at iter 75: 634323.966906\n",
      "loss at iter 100: 553394.40881\n",
      "loss at iter 125: 509322.203539\n",
      "loss at iter 0: 828243.574404\n",
      "loss at iter 25: 782529.671298\n",
      "loss at iter 50: 707465.059229\n",
      "loss at iter 75: 634840.700384\n",
      "loss at iter 100: 555489.549921\n",
      "loss at iter 125: 538852.525025\n"
     ]
    }
   ],
   "source": [
    "lambdas2 = [0.25, 0.325, 0.5, 0.625, 0.75]\n",
    "train_rmses2 = []\n",
    "test_rmses2 = []\n",
    "for lamb in lambdas2:\n",
    "    bc.fit(reviews_train, l2_penalty=lamb)\n",
    "    train_rmses2.append(bc.baseline_rmse(reviews_train))\n",
    "    test_rmses2.append(bc.baseline_rmse(reviews_test))"
   ]
  },
  {
   "cell_type": "code",
   "execution_count": 11,
   "metadata": {
    "collapsed": false
   },
   "outputs": [
    {
     "data": {
      "image/png": "[encoded data removed]",
      "text/plain": [
       "<matplotlib.figure.Figure at 0x118474910>"
      ]
     },
     "metadata": {},
     "output_type": "display_data"
    }
   ],
   "source": [
    "plt.plot(lambdas2, train_rmses2, label='Train RMSE')\n",
    "plt.plot(lambdas2, test_rmses2, label='Test RMSE')\n",
    "plt.axhline(min(test_rmses2), label='{:.3f}'.format(min(test_rmses2)), color='red', ls='--')\n",
    "plt.legend(loc='best')\n",
    "plt.show()"
   ]
  },
  {
   "cell_type": "code",
   "execution_count": 15,
   "metadata": {
    "collapsed": false
   },
   "outputs": [
    {
     "name": "stdout",
     "output_type": "stream",
     "text": [
      "loss at iter 0: 828243.574404\n",
      "loss at iter 25: 782477.456982\n",
      "loss at iter 50: 706817.040721\n",
      "loss at iter 75: 631703.018553\n",
      "loss at iter 100: 542356.979319\n",
      "loss at iter 125: 483853.573884\n",
      "loss at iter 0: 828243.574404\n",
      "loss at iter 25: 782478.084886\n",
      "loss at iter 50: 706824.861597\n",
      "loss at iter 75: 631741.317574\n",
      "loss at iter 100: 542523.333776\n",
      "loss at iter 125: 491193.488612\n",
      "loss at iter 150: 474897.966211\n",
      "loss at iter 175: 466309.102576\n",
      "loss at iter 200: 457949.181732\n",
      "loss at iter 225: 450858.398233\n",
      "loss at iter 250: 444779.242365\n",
      "loss at iter 0: 828243.574404\n",
      "loss at iter 25: 782480.875426\n",
      "loss at iter 50: 706859.610924\n",
      "loss at iter 75: 631911.35771\n",
      "loss at iter 100: 543260.062803\n",
      "loss at iter 125: 487552.655969\n",
      "loss at iter 150: 478545.272164\n",
      "loss at iter 175: 466639.092644\n",
      "loss at iter 200: 460169.460474\n",
      "loss at iter 225: 454205.755814\n",
      "loss at iter 250: 446965.270238\n",
      "loss at iter 275: 441529.401499\n",
      "loss at iter 300: 437612.505548\n",
      "loss at iter 325: 431994.299839\n",
      "loss at iter 350: 428437.680628\n",
      "loss at iter 0: 828243.574404\n",
      "loss at iter 25: 782484.363265\n",
      "loss at iter 50: 706903.02436\n",
      "loss at iter 75: 632123.500528\n",
      "loss at iter 100: 544174.985589\n",
      "loss at iter 125: 489943.477912\n",
      "loss at iter 150: 476209.254523\n",
      "loss at iter 175: 468371.104896\n",
      "loss at iter 200: 460078.127037\n",
      "loss at iter 225: 453809.80694\n",
      "loss at iter 250: 448779.587547\n",
      "loss at iter 0: 828243.574404\n",
      "loss at iter 25: 782512.252575\n",
      "loss at iter 50: 707249.405119\n",
      "loss at iter 75: 633804.488581\n",
      "loss at iter 100: 551261.740162\n",
      "loss at iter 125: 505989.412875\n",
      "loss at iter 150: 493612.038449\n",
      "loss at iter 0: 828243.574404\n",
      "loss at iter 25: 782547.080724\n",
      "loss at iter 50: 707680.074631\n",
      "loss at iter 75: 635866.004673\n",
      "loss at iter 100: 559570.544153\n",
      "loss at iter 125: 526888.23985\n",
      "loss at iter 150: 513198.190756\n",
      "loss at iter 175: 508114.969153\n",
      "loss at iter 200: 504231.475701\n",
      "loss at iter 225: 501126.786964\n",
      "loss at iter 250: 498751.154121\n",
      "loss at iter 275: 496385.000172\n",
      "loss at iter 300: 494501.248558\n",
      "loss at iter 0: 828243.574404\n",
      "loss at iter 25: 782824.371617\n",
      "loss at iter 50: 711035.276953\n",
      "loss at iter 75: 650897.711206\n",
      "loss at iter 100: 609200.900262\n",
      "loss at iter 125: 600483.860966\n",
      "loss at iter 150: 599439.544881\n",
      "loss at iter 0: 828243.574404\n",
      "loss at iter 25: 783167.674748\n",
      "loss at iter 50: 715013.714001\n",
      "loss at iter 75: 666577.910718\n",
      "loss at iter 100: 645036.734008\n",
      "loss at iter 0: 828243.574404\n",
      "loss at iter 25: 788765.150689\n",
      "loss at iter 50: 757836.724209\n",
      "loss at iter 0: 828243.574404\n",
      "loss at iter 25: 813105.180354\n"
     ]
    }
   ],
   "source": [
    "bc = L2RegLeastSquaresBaselineCalculator()\n",
    "lambdas = [0.001, 0.01, 0.05, 0.1, 0.5, 1, 5, 10, 100, 1000]\n",
    "train_rmses = []\n",
    "test_rmses = []\n",
    "for lamb in lambdas:\n",
    "    bc.fit(reviews_train, l2_penalty=lamb, tol=5)\n",
    "    train_rmses.append(bc.baseline_rmse(reviews_train))\n",
    "    test_rmses.append(bc.baseline_rmse(reviews_test))"
   ]
  },
  {
   "cell_type": "code",
   "execution_count": 29,
   "metadata": {
    "collapsed": false
   },
   "outputs": [
    {
     "data": {
      "image/png": "[encoded data removed]",
      "text/plain": [
       "<matplotlib.figure.Figure at 0x115821750>"
      ]
     },
     "metadata": {},
     "output_type": "display_data"
    }
   ],
   "source": [
    "plt.ylabel('RMSE')\n",
    "plt.title('Least-Squares Determined Baselines w/ L2 Penalty')\n",
    "plt.axhline(1.353924, label=r'Just Predict $\\mu$', color='red', ls='--')\n",
    "plt.semilogx(lambdas, train_rmses, label='Train RMSE')\n",
    "plt.semilogx(lambdas, test_rmses, label='Test RMSE')\n",
    "plt.axhline(min(test_rmses), label='Best ({:.3f})'.format(min(test_rmses)), color='green', ls='--')\n",
    "\n",
    "plt.legend(loc='lower right')\n",
    "plt.xlabel(r'L2 Penalty $\\lambda$')\n",
    "plt.ylim(0.9, 1.5)\n",
    "plt.show()"
   ]
  },
  {
   "cell_type": "code",
   "execution_count": null,
   "metadata": {
    "collapsed": true
   },
   "outputs": [],
   "source": []
  }
 ],
 "metadata": {
  "kernelspec": {
   "display_name": "Python 2",
   "language": "python",
   "name": "python2"
  },
  "language_info": {
   "codemirror_mode": {
    "name": "ipython",
    "version": 2
   },
   "file_extension": ".py",
   "mimetype": "text/x-python",
   "name": "python",
   "nbconvert_exporter": "python",
   "pygments_lexer": "ipython2",
   "version": "2.7.11"
  }
 },
 "nbformat": 4,
 "nbformat_minor": 0
}
