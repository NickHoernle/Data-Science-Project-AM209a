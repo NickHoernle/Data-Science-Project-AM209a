{
 "cells": [
  {
   "cell_type": "code",
   "execution_count": 101,
   "metadata": {
    "collapsed": false
   },
   "outputs": [],
   "source": [
    "import sys; sys.path.append('../util')\n",
    "from load_yelp_data import load_yelp_dataframe, restaurants_and_bars_in, train_test_split_reviews\n",
    "import numpy as np\n",
    "import matplotlib.pyplot as plt\n",
    "import pandas as pd\n",
    "import sklearn as sk\n",
    "import sklearn.linear_model\n",
    "from sklearn.model_selection import train_test_split\n",
    "# import graphlab as gl\n",
    "import sklearn.metrics\n",
    "import ast\n",
    "%matplotlib inline\n",
    "\n",
    "from matrix_factorization_recommender import MatrixFactorizationRecommender\n",
    "from simple_averaging_recommender import SimpleAveragingRecommender"
   ]
  },
  {
   "cell_type": "code",
   "execution_count": 102,
   "metadata": {
    "collapsed": false
   },
   "outputs": [],
   "source": [
    "businesses = load_yelp_dataframe('businesses')\n",
    "reviews = load_yelp_dataframe('reviews')\n",
    "users = load_yelp_dataframe('users')\n",
    "\n",
    "phoenix_restaurants, phoenix_reviews, phoenix_users = restaurants_and_bars_in('Phoenix', businesses, reviews, users)\n",
    "reviews_train, reviews_test = train_test_split_reviews(phoenix_reviews)"
   ]
  },
  {
   "cell_type": "code",
   "execution_count": 103,
   "metadata": {
    "collapsed": false
   },
   "outputs": [
    {
     "data": {
      "text/html": [
       "<div>\n",
       "<table border=\"1\" class=\"dataframe\">\n",
       "  <thead>\n",
       "    <tr style=\"text-align: right;\">\n",
       "      <th></th>\n",
       "      <th>attributes</th>\n",
       "      <th>business_id</th>\n",
       "      <th>categories</th>\n",
       "      <th>city</th>\n",
       "      <th>full_address</th>\n",
       "      <th>hours</th>\n",
       "      <th>latitude</th>\n",
       "      <th>longitude</th>\n",
       "      <th>name</th>\n",
       "      <th>neighborhoods</th>\n",
       "      <th>open</th>\n",
       "      <th>review_count</th>\n",
       "      <th>stars</th>\n",
       "      <th>state</th>\n",
       "      <th>type</th>\n",
       "      <th>location</th>\n",
       "    </tr>\n",
       "  </thead>\n",
       "  <tbody>\n",
       "    <tr>\n",
       "      <th>2377</th>\n",
       "      <td>{'Accepts Credit Cards': True, 'Noise Level': ...</td>\n",
       "      <td>2377</td>\n",
       "      <td>['Sandwiches', 'Pizza', 'Chicken Wings', 'Rest...</td>\n",
       "      <td>Phoenix</td>\n",
       "      <td>2819 N Central Ave\\nPhoenix, AZ 85004</td>\n",
       "      <td>{'Monday': {'close': '00:00', 'open': '10:00'}...</td>\n",
       "      <td>33.479482</td>\n",
       "      <td>-112.073681</td>\n",
       "      <td>Domino's Pizza</td>\n",
       "      <td>[]</td>\n",
       "      <td>True</td>\n",
       "      <td>20</td>\n",
       "      <td>3.0</td>\n",
       "      <td>AZ</td>\n",
       "      <td>business</td>\n",
       "      <td>Phoenix</td>\n",
       "    </tr>\n",
       "    <tr>\n",
       "      <th>2378</th>\n",
       "      <td>{'Accepts Credit Cards': True, 'Noise Level': ...</td>\n",
       "      <td>2378</td>\n",
       "      <td>['American (New)', 'Sandwiches', 'Restaurants']</td>\n",
       "      <td>Phoenix</td>\n",
       "      <td>1850 N Central Ave\\nPhoenix, AZ 85004</td>\n",
       "      <td>{}</td>\n",
       "      <td>33.468547</td>\n",
       "      <td>-112.075085</td>\n",
       "      <td>Viad Tower Restaurants</td>\n",
       "      <td>[]</td>\n",
       "      <td>True</td>\n",
       "      <td>6</td>\n",
       "      <td>3.5</td>\n",
       "      <td>AZ</td>\n",
       "      <td>business</td>\n",
       "      <td>Phoenix</td>\n",
       "    </tr>\n",
       "  </tbody>\n",
       "</table>\n",
       "</div>"
      ],
      "text/plain": [
       "                                             attributes  business_id  \\\n",
       "2377  {'Accepts Credit Cards': True, 'Noise Level': ...         2377   \n",
       "2378  {'Accepts Credit Cards': True, 'Noise Level': ...         2378   \n",
       "\n",
       "                                             categories     city  \\\n",
       "2377  ['Sandwiches', 'Pizza', 'Chicken Wings', 'Rest...  Phoenix   \n",
       "2378    ['American (New)', 'Sandwiches', 'Restaurants']  Phoenix   \n",
       "\n",
       "                               full_address  \\\n",
       "2377  2819 N Central Ave\\nPhoenix, AZ 85004   \n",
       "2378  1850 N Central Ave\\nPhoenix, AZ 85004   \n",
       "\n",
       "                                                  hours   latitude  \\\n",
       "2377  {'Monday': {'close': '00:00', 'open': '10:00'}...  33.479482   \n",
       "2378                                                 {}  33.468547   \n",
       "\n",
       "       longitude                    name neighborhoods  open  review_count  \\\n",
       "2377 -112.073681          Domino's Pizza            []  True            20   \n",
       "2378 -112.075085  Viad Tower Restaurants            []  True             6   \n",
       "\n",
       "      stars state      type location  \n",
       "2377    3.0    AZ  business  Phoenix  \n",
       "2378    3.5    AZ  business  Phoenix  "
      ]
     },
     "execution_count": 103,
     "metadata": {},
     "output_type": "execute_result"
    }
   ],
   "source": [
    "phoenix_restaurants.head(2)"
   ]
  },
  {
   "cell_type": "markdown",
   "metadata": {},
   "source": [
    "### clean the data"
   ]
  },
  {
   "cell_type": "code",
   "execution_count": 104,
   "metadata": {
    "collapsed": false
   },
   "outputs": [
    {
     "data": {
      "text/plain": [
       "array([[<matplotlib.axes._subplots.AxesSubplot object at 0x1432ac890>]], dtype=object)"
      ]
     },
     "execution_count": 104,
     "metadata": {},
     "output_type": "execute_result"
    },
    {
     "data": {
      "image/png": "[encoded data removed]",
      "text/plain": [
       "<matplotlib.figure.Figure at 0x145324d90>"
      ]
     },
     "metadata": {},
     "output_type": "display_data"
    }
   ],
   "source": [
    "phoenix_restaurants.hist('stars')"
   ]
  },
  {
   "cell_type": "markdown",
   "metadata": {},
   "source": [
    "Note: looks almost normal!! Wooop"
   ]
  },
  {
   "cell_type": "code",
   "execution_count": 135,
   "metadata": {
    "collapsed": false,
    "scrolled": true
   },
   "outputs": [
    {
     "data": {
      "text/html": [
       "<div>\n",
       "<table border=\"1\" class=\"dataframe\">\n",
       "  <thead>\n",
       "    <tr style=\"text-align: right;\">\n",
       "      <th></th>\n",
       "      <th>Accepts Credit Cards</th>\n",
       "      <th>Accepts Insurance</th>\n",
       "      <th>Active Life</th>\n",
       "      <th>Adult Entertainment</th>\n",
       "      <th>Afghan</th>\n",
       "      <th>African</th>\n",
       "      <th>Ages Allowed_18plus</th>\n",
       "      <th>Ages Allowed_21plus</th>\n",
       "      <th>Ages Allowed_allages</th>\n",
       "      <th>Airport Lounges</th>\n",
       "      <th>...</th>\n",
       "      <th>Surprise</th>\n",
       "      <th>Tempe</th>\n",
       "      <th>Tolleson</th>\n",
       "      <th>Tonopah</th>\n",
       "      <th>Tonto Basin</th>\n",
       "      <th>Tortilla Flat</th>\n",
       "      <th>Wickenburg</th>\n",
       "      <th>Youngtown</th>\n",
       "      <th>glendale</th>\n",
       "      <th>phoenix</th>\n",
       "    </tr>\n",
       "  </thead>\n",
       "  <tbody>\n",
       "    <tr>\n",
       "      <th>2377</th>\n",
       "      <td>True</td>\n",
       "      <td>0</td>\n",
       "      <td>0</td>\n",
       "      <td>0</td>\n",
       "      <td>0</td>\n",
       "      <td>0</td>\n",
       "      <td>0</td>\n",
       "      <td>0</td>\n",
       "      <td>0</td>\n",
       "      <td>0</td>\n",
       "      <td>...</td>\n",
       "      <td>0</td>\n",
       "      <td>0</td>\n",
       "      <td>0</td>\n",
       "      <td>0</td>\n",
       "      <td>0</td>\n",
       "      <td>0</td>\n",
       "      <td>0</td>\n",
       "      <td>0</td>\n",
       "      <td>0</td>\n",
       "      <td>0</td>\n",
       "    </tr>\n",
       "    <tr>\n",
       "      <th>2378</th>\n",
       "      <td>True</td>\n",
       "      <td>0</td>\n",
       "      <td>0</td>\n",
       "      <td>0</td>\n",
       "      <td>0</td>\n",
       "      <td>0</td>\n",
       "      <td>0</td>\n",
       "      <td>0</td>\n",
       "      <td>0</td>\n",
       "      <td>0</td>\n",
       "      <td>...</td>\n",
       "      <td>0</td>\n",
       "      <td>0</td>\n",
       "      <td>0</td>\n",
       "      <td>0</td>\n",
       "      <td>0</td>\n",
       "      <td>0</td>\n",
       "      <td>0</td>\n",
       "      <td>0</td>\n",
       "      <td>0</td>\n",
       "      <td>0</td>\n",
       "    </tr>\n",
       "  </tbody>\n",
       "</table>\n",
       "<p>2 rows × 397 columns</p>\n",
       "</div>"
      ],
      "text/plain": [
       "     Accepts Credit Cards Accepts Insurance  Active Life  Adult Entertainment  \\\n",
       "2377                 True                 0            0                    0   \n",
       "2378                 True                 0            0                    0   \n",
       "\n",
       "      Afghan  African  Ages Allowed_18plus  Ages Allowed_21plus  \\\n",
       "2377       0        0                    0                    0   \n",
       "2378       0        0                    0                    0   \n",
       "\n",
       "      Ages Allowed_allages  Airport Lounges   ...    Surprise  Tempe  \\\n",
       "2377                     0                0   ...           0      0   \n",
       "2378                     0                0   ...           0      0   \n",
       "\n",
       "      Tolleson Tonopah Tonto Basin Tortilla Flat Wickenburg Youngtown  \\\n",
       "2377         0       0           0             0          0         0   \n",
       "2378         0       0           0             0          0         0   \n",
       "\n",
       "     glendale phoenix  \n",
       "2377        0       0  \n",
       "2378        0       0  \n",
       "\n",
       "[2 rows x 397 columns]"
      ]
     },
     "execution_count": 135,
     "metadata": {},
     "output_type": "execute_result"
    }
   ],
   "source": [
    "# phoenix_restaurants, phoenix_reviews, phoenix_users = restaurants_and_bars_in('Phoenix', businesses, reviews, users)\n",
    "# interesting columns\n",
    "columns_of_interest = ['business_id',\n",
    "                     'attributes',\n",
    "                     'categories',\n",
    "                     'city',\n",
    "#                      'hours', # looks complicated\n",
    "                     'latitude',\n",
    "                     'longitude',\n",
    "                     'neighborhoods',\n",
    "                     'open',\n",
    "                     'review_count',\n",
    "                     'stars']\n",
    "phoenix_restaurants = phoenix_restaurants[columns_of_interest]\n",
    "\n",
    "def flatten(dct, separator='_'):\n",
    "    \"\"\"A fast way to flatten a dictionary,\"\"\"\n",
    "    res = {}\n",
    "    queue = [('', dct)]\n",
    "\n",
    "    while queue:\n",
    "        prefix, d = queue.pop()\n",
    "        for k, v in d.items():\n",
    "            key = prefix + k\n",
    "            if not isinstance(v, dict):\n",
    "                res[key] = [v]\n",
    "            else:\n",
    "                queue.append((key + separator, v))\n",
    "    return res\n",
    "\n",
    "def parse_data(row):\n",
    "    attribs = flatten(ast.literal_eval(row.attributes))\n",
    "    categories = ast.literal_eval(row.categories)\n",
    "    neighborhoods = ast.literal_eval(row.neighborhoods)\n",
    "    attributes = pd.DataFrame.from_dict(attribs, orient='columns')\n",
    "    categories = pd.DataFrame.from_dict(dict([[c, [1]] for c in categories]))\n",
    "    neighborhoods = pd.DataFrame.from_dict(dict([[n, [1]] for n in neighborhoods]))\n",
    "    \n",
    "    row = row.drop(['attributes', 'categories', 'neighborhoods'])\n",
    "    if (neighborhoods.shape[0] > 0) & (attributes.shape[0] > 0):\n",
    "        result = pd.concat((row, categories.iloc[0], neighborhoods.iloc[0], pd.get_dummies(attributes).iloc[0]), axis=0)\n",
    "    elif (neighborhoods.shape[0] > 0):\n",
    "        result = pd.concat((row, categories.iloc[0], neighborhoods.iloc[0]), axis=0)\n",
    "    elif (attributes.shape[0] > 0):\n",
    "        result = pd.concat((row, categories.iloc[0], pd.get_dummies(attributes).iloc[0]), axis=0)\n",
    "    else:\n",
    "        result = pd.concat((row, categories.iloc[0]), axis=0)\n",
    "    return result\n",
    "\n",
    "phoenix_update = phoenix_restaurants.apply(parse_data,axis=1,)\n",
    "phoenix_update = pd.concat((phoenix_update, pd.get_dummies(phoenix_update['city'])), axis=1)\n",
    "phoenix_update = phoenix_update.drop('city', axis=1)\n",
    "phoenix_update = phoenix_update.fillna(0)\n",
    "phoenix_update.head(2)"
   ]
  },
  {
   "cell_type": "code",
   "execution_count": 136,
   "metadata": {
    "collapsed": false
   },
   "outputs": [
    {
     "data": {
      "text/plain": [
       "(10182,)"
      ]
     },
     "execution_count": 136,
     "metadata": {},
     "output_type": "execute_result"
    }
   ],
   "source": [
    "phoenix_update['business_id'].shape"
   ]
  },
  {
   "cell_type": "code",
   "execution_count": 109,
   "metadata": {
    "collapsed": false
   },
   "outputs": [
    {
     "data": {
      "text/html": [
       "<div>\n",
       "<table border=\"1\" class=\"dataframe\">\n",
       "  <thead>\n",
       "    <tr style=\"text-align: right;\">\n",
       "      <th></th>\n",
       "      <th>Accepts Credit Cards</th>\n",
       "      <th>Accepts Insurance</th>\n",
       "      <th>Active Life</th>\n",
       "      <th>Adult Entertainment</th>\n",
       "      <th>Afghan</th>\n",
       "      <th>African</th>\n",
       "      <th>Ages Allowed_18plus</th>\n",
       "      <th>Ages Allowed_21plus</th>\n",
       "      <th>Ages Allowed_allages</th>\n",
       "      <th>Ahwatukee</th>\n",
       "      <th>...</th>\n",
       "      <th>Yoga</th>\n",
       "      <th>Youngtown</th>\n",
       "      <th>business_id</th>\n",
       "      <th>glendale</th>\n",
       "      <th>latitude</th>\n",
       "      <th>longitude</th>\n",
       "      <th>open</th>\n",
       "      <th>phoenix</th>\n",
       "      <th>review_count</th>\n",
       "      <th>stars</th>\n",
       "    </tr>\n",
       "  </thead>\n",
       "  <tbody>\n",
       "    <tr>\n",
       "      <th>2377</th>\n",
       "      <td>True</td>\n",
       "      <td>0</td>\n",
       "      <td>0</td>\n",
       "      <td>0</td>\n",
       "      <td>0</td>\n",
       "      <td>0</td>\n",
       "      <td>0</td>\n",
       "      <td>0</td>\n",
       "      <td>0</td>\n",
       "      <td>0</td>\n",
       "      <td>...</td>\n",
       "      <td>0</td>\n",
       "      <td>0</td>\n",
       "      <td>2377</td>\n",
       "      <td>0</td>\n",
       "      <td>33.479482</td>\n",
       "      <td>-112.073681</td>\n",
       "      <td>True</td>\n",
       "      <td>0</td>\n",
       "      <td>20</td>\n",
       "      <td>3.0</td>\n",
       "    </tr>\n",
       "    <tr>\n",
       "      <th>2378</th>\n",
       "      <td>True</td>\n",
       "      <td>0</td>\n",
       "      <td>0</td>\n",
       "      <td>0</td>\n",
       "      <td>0</td>\n",
       "      <td>0</td>\n",
       "      <td>0</td>\n",
       "      <td>0</td>\n",
       "      <td>0</td>\n",
       "      <td>0</td>\n",
       "      <td>...</td>\n",
       "      <td>0</td>\n",
       "      <td>0</td>\n",
       "      <td>2378</td>\n",
       "      <td>0</td>\n",
       "      <td>33.468547</td>\n",
       "      <td>-112.075085</td>\n",
       "      <td>True</td>\n",
       "      <td>0</td>\n",
       "      <td>6</td>\n",
       "      <td>3.5</td>\n",
       "    </tr>\n",
       "  </tbody>\n",
       "</table>\n",
       "<p>2 rows × 397 columns</p>\n",
       "</div>"
      ],
      "text/plain": [
       "     Accepts Credit Cards Accepts Insurance  Active Life  Adult Entertainment  \\\n",
       "2377                 True                 0            0                    0   \n",
       "2378                 True                 0            0                    0   \n",
       "\n",
       "      Afghan  African  Ages Allowed_18plus  Ages Allowed_21plus  \\\n",
       "2377       0        0                    0                    0   \n",
       "2378       0        0                    0                    0   \n",
       "\n",
       "      Ages Allowed_allages  Ahwatukee  ...   Yoga  Youngtown  business_id  \\\n",
       "2377                     0          0  ...      0          0         2377   \n",
       "2378                     0          0  ...      0          0         2378   \n",
       "\n",
       "      glendale   latitude   longitude  open phoenix review_count stars  \n",
       "2377         0  33.479482 -112.073681  True       0           20   3.0  \n",
       "2378         0  33.468547 -112.075085  True       0            6   3.5  \n",
       "\n",
       "[2 rows x 397 columns]"
      ]
     },
     "execution_count": 109,
     "metadata": {},
     "output_type": "execute_result"
    }
   ],
   "source": [
    "phoenix_update.head(2)"
   ]
  },
  {
   "cell_type": "code",
   "execution_count": 34,
   "metadata": {
    "collapsed": false
   },
   "outputs": [
    {
     "data": {
      "text/plain": [
       "array([ -0.00000000e+00,   0.00000000e+00,   0.00000000e+00,\n",
       "        -0.00000000e+00,   0.00000000e+00,   0.00000000e+00,\n",
       "        -0.00000000e+00,  -0.00000000e+00,  -0.00000000e+00,\n",
       "        -0.00000000e+00,  -0.00000000e+00,   8.93067089e-02,\n",
       "        -4.04754354e-02,   3.81984824e-02,   0.00000000e+00,\n",
       "         0.00000000e+00,   2.73929456e-02,   0.00000000e+00,\n",
       "         0.00000000e+00,   0.00000000e+00,  -0.00000000e+00,\n",
       "        -0.00000000e+00,   0.00000000e+00,   0.00000000e+00,\n",
       "        -4.64273422e-02,   0.00000000e+00,  -0.00000000e+00,\n",
       "         0.00000000e+00,  -0.00000000e+00,   0.00000000e+00,\n",
       "         0.00000000e+00,  -0.00000000e+00,   0.00000000e+00,\n",
       "        -0.00000000e+00,   0.00000000e+00,   0.00000000e+00,\n",
       "        -0.00000000e+00,  -5.32875569e-02,   0.00000000e+00,\n",
       "        -0.00000000e+00,  -0.00000000e+00,   0.00000000e+00,\n",
       "        -0.00000000e+00,   0.00000000e+00,   0.00000000e+00,\n",
       "         0.00000000e+00,   0.00000000e+00,  -0.00000000e+00,\n",
       "        -0.00000000e+00,  -0.00000000e+00,  -0.00000000e+00,\n",
       "         0.00000000e+00,   0.00000000e+00,   0.00000000e+00,\n",
       "        -0.00000000e+00,  -0.00000000e+00,  -0.00000000e+00,\n",
       "         0.00000000e+00,  -0.00000000e+00,   0.00000000e+00,\n",
       "         0.00000000e+00,   0.00000000e+00,   0.00000000e+00,\n",
       "         0.00000000e+00,  -0.00000000e+00,  -0.00000000e+00,\n",
       "        -0.00000000e+00,   0.00000000e+00,   0.00000000e+00,\n",
       "        -0.00000000e+00,  -1.43672110e-01,  -1.03098567e-01,\n",
       "         0.00000000e+00,   0.00000000e+00,   0.00000000e+00,\n",
       "         0.00000000e+00,   0.00000000e+00,  -0.00000000e+00,\n",
       "        -0.00000000e+00,   0.00000000e+00,   0.00000000e+00,\n",
       "         0.00000000e+00,  -0.00000000e+00,  -0.00000000e+00,\n",
       "         0.00000000e+00,  -0.00000000e+00,  -0.00000000e+00,\n",
       "         0.00000000e+00,   9.54838542e-02,  -0.00000000e+00,\n",
       "        -0.00000000e+00,  -0.00000000e+00,  -0.00000000e+00,\n",
       "        -0.00000000e+00,  -0.00000000e+00,   0.00000000e+00,\n",
       "        -0.00000000e+00,  -0.00000000e+00,  -2.57983868e-01,\n",
       "        -6.21634912e-03,   0.00000000e+00,   0.00000000e+00,\n",
       "         0.00000000e+00,   0.00000000e+00,   0.00000000e+00,\n",
       "         0.00000000e+00,   0.00000000e+00,   0.00000000e+00,\n",
       "         0.00000000e+00,   0.00000000e+00,   0.00000000e+00,\n",
       "         0.00000000e+00,  -0.00000000e+00,   0.00000000e+00,\n",
       "         0.00000000e+00,  -0.00000000e+00,  -0.00000000e+00,\n",
       "         0.00000000e+00,   0.00000000e+00,   0.00000000e+00,\n",
       "         0.00000000e+00,  -0.00000000e+00,   0.00000000e+00,\n",
       "         0.00000000e+00,  -3.74056211e-02,   0.00000000e+00,\n",
       "         0.00000000e+00,   0.00000000e+00,   0.00000000e+00,\n",
       "         0.00000000e+00,   0.00000000e+00,   0.00000000e+00,\n",
       "         0.00000000e+00,  -0.00000000e+00,  -0.00000000e+00,\n",
       "         0.00000000e+00,  -0.00000000e+00,   0.00000000e+00,\n",
       "        -0.00000000e+00,   0.00000000e+00,   0.00000000e+00,\n",
       "         0.00000000e+00,  -2.19490274e-01,   0.00000000e+00,\n",
       "         0.00000000e+00,  -0.00000000e+00,   0.00000000e+00,\n",
       "         0.00000000e+00,   0.00000000e+00,   0.00000000e+00,\n",
       "         0.00000000e+00,  -2.57733635e-01,  -0.00000000e+00,\n",
       "         0.00000000e+00,   0.00000000e+00,  -0.00000000e+00,\n",
       "         0.00000000e+00,   0.00000000e+00,  -0.00000000e+00,\n",
       "         0.00000000e+00,   2.30236064e-01,   0.00000000e+00,\n",
       "        -0.00000000e+00,   0.00000000e+00,   0.00000000e+00,\n",
       "        -0.00000000e+00,  -0.00000000e+00,  -0.00000000e+00,\n",
       "         0.00000000e+00,   0.00000000e+00,   0.00000000e+00,\n",
       "         0.00000000e+00,   0.00000000e+00,   0.00000000e+00,\n",
       "        -0.00000000e+00,   0.00000000e+00,  -0.00000000e+00,\n",
       "        -0.00000000e+00,  -0.00000000e+00,  -0.00000000e+00,\n",
       "         0.00000000e+00,  -0.00000000e+00,   0.00000000e+00,\n",
       "         0.00000000e+00,   0.00000000e+00,   4.74290544e-02,\n",
       "        -0.00000000e+00,   0.00000000e+00,   0.00000000e+00,\n",
       "         0.00000000e+00,  -0.00000000e+00,   5.22208518e-02,\n",
       "        -0.00000000e+00,  -0.00000000e+00,   0.00000000e+00,\n",
       "         0.00000000e+00,  -0.00000000e+00,   0.00000000e+00,\n",
       "        -0.00000000e+00,  -0.00000000e+00,   0.00000000e+00,\n",
       "         0.00000000e+00,   0.00000000e+00,   0.00000000e+00,\n",
       "        -0.00000000e+00,   0.00000000e+00,   0.00000000e+00,\n",
       "        -0.00000000e+00,   0.00000000e+00,   0.00000000e+00,\n",
       "         0.00000000e+00,  -0.00000000e+00,   0.00000000e+00,\n",
       "         0.00000000e+00,   0.00000000e+00,   0.00000000e+00,\n",
       "        -0.00000000e+00,   0.00000000e+00,  -0.00000000e+00,\n",
       "         0.00000000e+00,   0.00000000e+00,   0.00000000e+00,\n",
       "         0.00000000e+00,   0.00000000e+00,   0.00000000e+00,\n",
       "         0.00000000e+00,   0.00000000e+00,   0.00000000e+00,\n",
       "         0.00000000e+00,   0.00000000e+00,  -0.00000000e+00,\n",
       "        -0.00000000e+00,  -0.00000000e+00,  -0.00000000e+00,\n",
       "         0.00000000e+00,   0.00000000e+00,   0.00000000e+00,\n",
       "         0.00000000e+00,   0.00000000e+00,   0.00000000e+00,\n",
       "        -0.00000000e+00,  -0.00000000e+00,  -0.00000000e+00,\n",
       "         0.00000000e+00,   0.00000000e+00,  -0.00000000e+00,\n",
       "        -0.00000000e+00,   0.00000000e+00,   0.00000000e+00,\n",
       "         0.00000000e+00,   0.00000000e+00,   0.00000000e+00,\n",
       "        -0.00000000e+00,   0.00000000e+00,   0.00000000e+00,\n",
       "        -0.00000000e+00,   0.00000000e+00,  -0.00000000e+00,\n",
       "         0.00000000e+00,  -0.00000000e+00,   0.00000000e+00,\n",
       "         0.00000000e+00,  -0.00000000e+00,   0.00000000e+00,\n",
       "         5.34305706e-03,  -8.30391542e-02,   8.58753206e-02,\n",
       "        -1.33336727e-01,  -0.00000000e+00,  -0.00000000e+00,\n",
       "         0.00000000e+00,   0.00000000e+00,  -0.00000000e+00,\n",
       "         0.00000000e+00,   1.05225907e-02,  -0.00000000e+00,\n",
       "        -0.00000000e+00,   0.00000000e+00,   1.10393941e-01,\n",
       "         0.00000000e+00,   0.00000000e+00,  -0.00000000e+00,\n",
       "         0.00000000e+00,   0.00000000e+00,   0.00000000e+00,\n",
       "        -0.00000000e+00,  -0.00000000e+00,   0.00000000e+00,\n",
       "         0.00000000e+00,   0.00000000e+00,   0.00000000e+00,\n",
       "        -0.00000000e+00,  -0.00000000e+00,  -0.00000000e+00,\n",
       "        -0.00000000e+00,  -0.00000000e+00,   0.00000000e+00,\n",
       "        -0.00000000e+00,  -0.00000000e+00,   0.00000000e+00,\n",
       "         0.00000000e+00,   0.00000000e+00,  -1.42028897e-02,\n",
       "        -0.00000000e+00,   0.00000000e+00,  -0.00000000e+00,\n",
       "        -0.00000000e+00,  -0.00000000e+00,  -0.00000000e+00,\n",
       "        -1.03600543e-01,  -0.00000000e+00,  -0.00000000e+00,\n",
       "         0.00000000e+00,   0.00000000e+00,  -0.00000000e+00,\n",
       "         0.00000000e+00,   0.00000000e+00,  -0.00000000e+00,\n",
       "        -0.00000000e+00,   0.00000000e+00,  -0.00000000e+00,\n",
       "        -0.00000000e+00,  -0.00000000e+00,   0.00000000e+00,\n",
       "         0.00000000e+00,   0.00000000e+00,   0.00000000e+00,\n",
       "         0.00000000e+00,  -0.00000000e+00,   0.00000000e+00,\n",
       "         0.00000000e+00,  -0.00000000e+00,  -0.00000000e+00,\n",
       "        -0.00000000e+00,   0.00000000e+00,   0.00000000e+00,\n",
       "         0.00000000e+00,   0.00000000e+00,   0.00000000e+00,\n",
       "        -0.00000000e+00,   0.00000000e+00,  -0.00000000e+00,\n",
       "         0.00000000e+00,  -0.00000000e+00,  -0.00000000e+00,\n",
       "        -0.00000000e+00,  -0.00000000e+00,   0.00000000e+00,\n",
       "        -0.00000000e+00,  -0.00000000e+00,  -0.00000000e+00,\n",
       "         4.59959007e-04,   0.00000000e+00,   0.00000000e+00,\n",
       "         0.00000000e+00,   0.00000000e+00,  -0.00000000e+00,\n",
       "        -0.00000000e+00,  -0.00000000e+00,   0.00000000e+00,\n",
       "         0.00000000e+00,  -0.00000000e+00,  -0.00000000e+00,\n",
       "        -0.00000000e+00,  -0.00000000e+00,   0.00000000e+00,\n",
       "         0.00000000e+00,  -0.00000000e+00,  -0.00000000e+00,\n",
       "         0.00000000e+00,   0.00000000e+00,  -0.00000000e+00,\n",
       "         0.00000000e+00,   0.00000000e+00,  -0.00000000e+00,\n",
       "        -0.00000000e+00,   0.00000000e+00,   1.17109550e-01,\n",
       "         0.00000000e+00,  -0.00000000e+00,   0.00000000e+00,\n",
       "        -0.00000000e+00,  -0.00000000e+00,   0.00000000e+00,\n",
       "         0.00000000e+00,   0.00000000e+00,   0.00000000e+00,\n",
       "         0.00000000e+00,  -0.00000000e+00,   6.00819512e-06,\n",
       "        -0.00000000e+00,   9.13007776e-02,  -3.48076617e-04,\n",
       "         0.00000000e+00,  -0.00000000e+00,   1.11038658e-03])"
      ]
     },
     "execution_count": 34,
     "metadata": {},
     "output_type": "execute_result"
    }
   ],
   "source": [
    "las = sklearn.linear_model.Lasso(alpha=10**(-2.5))\n",
    "las.fit(phoenix_update.drop('stars', axis=1), phoenix_update['stars'].values)\n",
    "las.coef_"
   ]
  },
  {
   "cell_type": "code",
   "execution_count": 35,
   "metadata": {
    "collapsed": false
   },
   "outputs": [
    {
     "data": {
      "text/plain": [
       "Index([u'Alcohol_beer_and_wine', u'Alcohol_none', u'Ambience_divey', u'Caters',\n",
       "       u'Food', u'Good For Groups', u'Good For_lunch', u'Noise Level_average',\n",
       "       u'Noise Level_quiet', u'Outdoor Seating', u'Parking_lot',\n",
       "       u'Takes Reservations', u'Wheelchair Accessible', u'business_id',\n",
       "       u'latitude', u'review_count'],\n",
       "      dtype='object')"
      ]
     },
     "execution_count": 35,
     "metadata": {},
     "output_type": "execute_result"
    }
   ],
   "source": [
    "x = phoenix_update.drop('stars', axis=1)\n",
    "x.columns[las.coef_ > 0]"
   ]
  },
  {
   "cell_type": "code",
   "execution_count": 36,
   "metadata": {
    "collapsed": false
   },
   "outputs": [
    {
     "data": {
      "image/png": "[encoded data removed]",
      "text/plain": [
       "<matplotlib.figure.Figure at 0x123a846d0>"
      ]
     },
     "metadata": {},
     "output_type": "display_data"
    }
   ],
   "source": [
    "fig, ax = plt.subplots(1,1, figsize=(10,10))\n",
    "ind = np.arange(len(las.coef_[las.coef_ != 0]))\n",
    "width = 0.35\n",
    "ax.bar(ind, las.coef_[las.coef_ != 0], width)\n",
    "ax.set_xticks(ind + width)\n",
    "ax.set_xticklabels(x.columns[las.coef_ != 0])\n",
    "plt.setp(ax.get_xticklabels(), rotation=90, fontsize=10)\n",
    "plt.show()"
   ]
  },
  {
   "cell_type": "code",
   "execution_count": 38,
   "metadata": {
    "collapsed": false
   },
   "outputs": [],
   "source": [
    "scores = []\n",
    "i_vals = np.logspace(-5,5,15)\n",
    "for i in i_vals:\n",
    "    las = sklearn.linear_model.Ridge(alpha=i)\n",
    "    las.fit(X_train, y_train)\n",
    "    scores.append(las.score(X_test, y_test))"
   ]
  },
  {
   "cell_type": "code",
   "execution_count": 39,
   "metadata": {
    "collapsed": false
   },
   "outputs": [
    {
     "data": {
      "text/plain": [
       "[<matplotlib.lines.Line2D at 0x11098e2d0>]"
      ]
     },
     "execution_count": 39,
     "metadata": {},
     "output_type": "execute_result"
    },
    {
     "data": {
      "image/png": "[encoded data removed]",
      "text/plain": [
       "<matplotlib.figure.Figure at 0x1463e3350>"
      ]
     },
     "metadata": {},
     "output_type": "display_data"
    }
   ],
   "source": [
    "plt.semilogx(i_vals, scores)"
   ]
  },
  {
   "cell_type": "code",
   "execution_count": 40,
   "metadata": {
    "collapsed": false
   },
   "outputs": [
    {
     "data": {
      "text/plain": [
       "array([ 0.15226436,  0.15072471,  0.10916788,  0.15002856,  0.16908688,\n",
       "        0.25712769,  0.21524714,  0.11246947,  0.10114922,  0.20544133,\n",
       "        0.17035783,  0.18583085,  0.16372963,  0.15018835,  0.12549465,\n",
       "        0.1458065 ,  0.10671399,  0.17709466,  0.23800304,  0.1268617 ,\n",
       "        0.16033101,  0.12940705,  0.17949194,  0.26739105,  0.30407336,\n",
       "        0.40639366,  0.15370951,  0.14683242,  0.17530052,  0.10247068,\n",
       "        0.15497901,  0.10044886,  0.14355698,  0.12455189,  0.16635861,\n",
       "        0.11207668,  0.15263938,  0.15528993,  0.10455303,  0.15253731,\n",
       "        0.14704764,  0.1869904 ,  0.10928947,  0.15151599,  0.22050327,\n",
       "        0.17327239,  0.16889622,  0.19547529,  0.11370969,  0.17209553,\n",
       "        0.16059449,  0.11775123,  0.10850395,  0.19484427])"
      ]
     },
     "execution_count": 40,
     "metadata": {},
     "output_type": "execute_result"
    }
   ],
   "source": [
    "las = sklearn.linear_model.Ridge(alpha=10**1.2)\n",
    "las.fit(X_train, y_train)\n",
    "las.coef_[las.coef_>0.1]"
   ]
  },
  {
   "cell_type": "code",
   "execution_count": 41,
   "metadata": {
    "collapsed": false
   },
   "outputs": [
    {
     "data": {
      "image/png": "[encoded data removed]",
      "text/plain": [
       "<matplotlib.figure.Figure at 0x113f79310>"
      ]
     },
     "metadata": {},
     "output_type": "display_data"
    }
   ],
   "source": [
    "fig, ax = plt.subplots(1,1, figsize=(10,10))\n",
    "thresh = 0.18\n",
    "selected_coef = (las.coef_ > thresh)|(las.coef_ < -thresh)\n",
    "ind = np.arange(len(las.coef_[selected_coef]))\n",
    "width = 0.35\n",
    "ax.bar(ind, las.coef_[selected_coef], width)\n",
    "ax.set_xticks(ind + width)\n",
    "ax.set_xticklabels(x.columns[selected_coef])\n",
    "plt.setp(ax.get_xticklabels(), rotation=90, fontsize=10)\n",
    "plt.show()"
   ]
  },
  {
   "cell_type": "markdown",
   "metadata": {
    "collapsed": true
   },
   "source": [
    "## Content based filtering"
   ]
  },
  {
   "cell_type": "code",
   "execution_count": 113,
   "metadata": {
    "collapsed": false
   },
   "outputs": [
    {
     "data": {
      "text/plain": [
       "(10182, 10)"
      ]
     },
     "execution_count": 113,
     "metadata": {},
     "output_type": "execute_result"
    }
   ],
   "source": [
    "# X_train, X_test, y_train, y_test = train_test_split(\n",
    "#     phoenix_update.drop('stars', axis=1), phoenix_update['stars'].values, test_size=0.3, random_state=0)\n",
    "# print 'Train shape: ', X_train.shape\n",
    "# print 'Test shape: ', X_test.shape\n",
    "# phoenix_update['business_id'].shape\n",
    "# X_train['business_id'].isin(X_test['business_id'])\n",
    "# phoenix_update[phoenix_update['business_id'].isin(phoenix_update['business_id'].unique())].shape\n",
    "phoenix_restaurants.shape"
   ]
  },
  {
   "cell_type": "code",
   "execution_count": 45,
   "metadata": {
    "collapsed": false
   },
   "outputs": [],
   "source": [
    "x_train = pd.merge(reviews_train, phoenix_update, how='inner', on='business_id')\n",
    "x_test = pd.merge(reviews, X_test, how='inner', on='business_id')\n",
    "\n",
    "y_train = x_train['stars']\n",
    "y_test = x_test['stars']\n",
    "\n",
    "x_train.drop('stars', axis=1)\n",
    "x_test.drop('stars', axis=1)"
   ]
  },
  {
   "cell_type": "code",
   "execution_count": 47,
   "metadata": {
    "collapsed": false
   },
   "outputs": [
    {
     "data": {
      "text/plain": [
       "[<matplotlib.lines.Line2D at 0x118262250>]"
      ]
     },
     "execution_count": 47,
     "metadata": {},
     "output_type": "execute_result"
    },
    {
     "data": {
      "image/png": "[encoded data removed]",
      "text/plain": [
       "<matplotlib.figure.Figure at 0x11822bcd0>"
      ]
     },
     "metadata": {},
     "output_type": "display_data"
    }
   ],
   "source": [
    "scores = []\n",
    "i_vals = np.logspace(-5,5,15)\n",
    "for i in i_vals:\n",
    "    las = sklearn.linear_model.Ridge(alpha=i)\n",
    "    las.fit(x_train, y_train)\n",
    "    scores.append(las.score(x_test, y_test))\n",
    "plt.semilogx(i_vals, scores)"
   ]
  },
  {
   "cell_type": "code",
   "execution_count": 48,
   "metadata": {
    "collapsed": false
   },
   "outputs": [
    {
     "data": {
      "text/plain": [
       "Ridge(alpha=10000, copy_X=True, fit_intercept=True, max_iter=None,\n",
       "   normalize=False, random_state=None, solver='auto', tol=0.001)"
      ]
     },
     "execution_count": 48,
     "metadata": {},
     "output_type": "execute_result"
    }
   ],
   "source": [
    "las = sklearn.linear_model.Ridge(alpha=10**4)\n",
    "las.fit(x_train, y_train)"
   ]
  },
  {
   "cell_type": "code",
   "execution_count": 52,
   "metadata": {
    "collapsed": false
   },
   "outputs": [
    {
     "data": {
      "text/plain": [
       "0.014896439325708433"
      ]
     },
     "execution_count": 52,
     "metadata": {},
     "output_type": "execute_result"
    }
   ],
   "source": [
    "np.sqrt(sklearn.metrics.mean_squared_error(y_test, las.predict(x_test)))\n",
    "# np.sum((las.predict(x_test) - y_test)**2/float(len(y_test)))"
   ]
  },
  {
   "cell_type": "code",
   "execution_count": 53,
   "metadata": {
    "collapsed": false
   },
   "outputs": [
    {
     "data": {
      "text/plain": [
       "array([ 3.99403956,  3.99403956,  3.99403956, ...,  3.99971784,\n",
       "        4.98952876,  4.98892126])"
      ]
     },
     "execution_count": 53,
     "metadata": {},
     "output_type": "execute_result"
    }
   ],
   "source": [
    "las.predict(x_test)"
   ]
  },
  {
   "cell_type": "code",
   "execution_count": 54,
   "metadata": {
    "collapsed": false
   },
   "outputs": [
    {
     "data": {
      "text/plain": [
       "0         4\n",
       "1         4\n",
       "2         4\n",
       "3         4\n",
       "4         4\n",
       "5         4\n",
       "6         4\n",
       "7         4\n",
       "8         4\n",
       "9         4\n",
       "10        4\n",
       "11        4\n",
       "12        4\n",
       "13        4\n",
       "14        4\n",
       "15        4\n",
       "16        4\n",
       "17        4\n",
       "18        4\n",
       "19        4\n",
       "20        4\n",
       "21        4\n",
       "22        4\n",
       "23        4\n",
       "24        4\n",
       "25        4\n",
       "26        4\n",
       "27        4\n",
       "28        4\n",
       "29        4\n",
       "         ..\n",
       "211305    4\n",
       "211306    4\n",
       "211307    2\n",
       "211308    4\n",
       "211309    4\n",
       "211310    1\n",
       "211311    4\n",
       "211312    4\n",
       "211313    3\n",
       "211314    5\n",
       "211315    1\n",
       "211316    4\n",
       "211317    4\n",
       "211318    2\n",
       "211319    5\n",
       "211320    2\n",
       "211321    5\n",
       "211322    4\n",
       "211323    1\n",
       "211324    5\n",
       "211325    5\n",
       "211326    5\n",
       "211327    4\n",
       "211328    4\n",
       "211329    2\n",
       "211330    5\n",
       "211331    4\n",
       "211332    4\n",
       "211333    5\n",
       "211334    5\n",
       "Name: stars, dtype: int64"
      ]
     },
     "execution_count": 54,
     "metadata": {},
     "output_type": "execute_result"
    }
   ],
   "source": [
    "y_test"
   ]
  },
  {
   "cell_type": "code",
   "execution_count": null,
   "metadata": {
    "collapsed": true
   },
   "outputs": [],
   "source": []
  }
 ],
 "metadata": {
  "kernelspec": {
   "display_name": "Python 2",
   "language": "python",
   "name": "python2"
  },
  "language_info": {
   "codemirror_mode": {
    "name": "ipython",
    "version": 2
   },
   "file_extension": ".py",
   "mimetype": "text/x-python",
   "name": "python",
   "nbconvert_exporter": "python",
   "pygments_lexer": "ipython2",
   "version": "2.7.12"
  }
 },
 "nbformat": 4,
 "nbformat_minor": 1
}
