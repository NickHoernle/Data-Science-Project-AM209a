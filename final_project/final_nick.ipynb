{
 "cells": [
  {
   "cell_type": "code",
   "execution_count": 2,
   "metadata": {
    "collapsed": false
   },
   "outputs": [],
   "source": [
    "import sys; sys.path.append('../util')\n",
    "from load_yelp_data import load_yelp_dataframe, restaurants_and_bars_in, train_test_split_reviews\n",
    "import numpy as np\n",
    "import matplotlib.pyplot as plt\n",
    "import pandas as pd\n",
    "import sklearn as sk\n",
    "import sklearn.linear_model\n",
    "from sklearn.model_selection import train_test_split\n",
    "from sklearn.decomposition import NMF\n",
    "import scipy as sp\n",
    "# import scipy.sparse\n",
    "from scipy.sparse.linalg import svds\n",
    "from sklearn.metrics import mean_squared_error\n",
    "# import graphlab as gl\n",
    "import sklearn.metrics\n",
    "import ast\n",
    "%matplotlib inline\n",
    "\n",
    "from matrix_factorization_recommender import MatrixFactorizationRecommender\n",
    "from simple_averaging_recommender import SimpleAveragingRecommender"
   ]
  },
  {
   "cell_type": "code",
   "execution_count": 3,
   "metadata": {
    "collapsed": false
   },
   "outputs": [],
   "source": [
    "businesses = load_yelp_dataframe('businesses')\n",
    "reviews = load_yelp_dataframe('reviews')\n",
    "users = load_yelp_dataframe('users')\n",
    "\n",
    "phoenix_restaurants, phoenix_reviews, phoenix_users = restaurants_and_bars_in('Phoenix', businesses, reviews, users)\n",
    "reviews_train, reviews_test = train_test_split_reviews(phoenix_reviews)"
   ]
  },
  {
   "cell_type": "code",
   "execution_count": 4,
   "metadata": {
    "collapsed": false
   },
   "outputs": [
    {
     "data": {
      "text/html": [
       "<div>\n",
       "<table border=\"1\" class=\"dataframe\">\n",
       "  <thead>\n",
       "    <tr style=\"text-align: right;\">\n",
       "      <th></th>\n",
       "      <th>attributes</th>\n",
       "      <th>business_id</th>\n",
       "      <th>categories</th>\n",
       "      <th>city</th>\n",
       "      <th>full_address</th>\n",
       "      <th>hours</th>\n",
       "      <th>latitude</th>\n",
       "      <th>longitude</th>\n",
       "      <th>name</th>\n",
       "      <th>neighborhoods</th>\n",
       "      <th>open</th>\n",
       "      <th>review_count</th>\n",
       "      <th>stars</th>\n",
       "      <th>state</th>\n",
       "      <th>type</th>\n",
       "      <th>location</th>\n",
       "    </tr>\n",
       "  </thead>\n",
       "  <tbody>\n",
       "    <tr>\n",
       "      <th>2377</th>\n",
       "      <td>{'Accepts Credit Cards': True, 'Noise Level': ...</td>\n",
       "      <td>2377</td>\n",
       "      <td>['Sandwiches', 'Pizza', 'Chicken Wings', 'Rest...</td>\n",
       "      <td>Phoenix</td>\n",
       "      <td>2819 N Central Ave\\nPhoenix, AZ 85004</td>\n",
       "      <td>{'Monday': {'close': '00:00', 'open': '10:00'}...</td>\n",
       "      <td>33.479482</td>\n",
       "      <td>-112.073681</td>\n",
       "      <td>Domino's Pizza</td>\n",
       "      <td>[]</td>\n",
       "      <td>True</td>\n",
       "      <td>20</td>\n",
       "      <td>3.0</td>\n",
       "      <td>AZ</td>\n",
       "      <td>business</td>\n",
       "      <td>Phoenix</td>\n",
       "    </tr>\n",
       "    <tr>\n",
       "      <th>2378</th>\n",
       "      <td>{'Accepts Credit Cards': True, 'Noise Level': ...</td>\n",
       "      <td>2378</td>\n",
       "      <td>['American (New)', 'Sandwiches', 'Restaurants']</td>\n",
       "      <td>Phoenix</td>\n",
       "      <td>1850 N Central Ave\\nPhoenix, AZ 85004</td>\n",
       "      <td>{}</td>\n",
       "      <td>33.468547</td>\n",
       "      <td>-112.075085</td>\n",
       "      <td>Viad Tower Restaurants</td>\n",
       "      <td>[]</td>\n",
       "      <td>True</td>\n",
       "      <td>6</td>\n",
       "      <td>3.5</td>\n",
       "      <td>AZ</td>\n",
       "      <td>business</td>\n",
       "      <td>Phoenix</td>\n",
       "    </tr>\n",
       "  </tbody>\n",
       "</table>\n",
       "</div>"
      ],
      "text/plain": [
       "                                             attributes  business_id  \\\n",
       "2377  {'Accepts Credit Cards': True, 'Noise Level': ...         2377   \n",
       "2378  {'Accepts Credit Cards': True, 'Noise Level': ...         2378   \n",
       "\n",
       "                                             categories     city  \\\n",
       "2377  ['Sandwiches', 'Pizza', 'Chicken Wings', 'Rest...  Phoenix   \n",
       "2378    ['American (New)', 'Sandwiches', 'Restaurants']  Phoenix   \n",
       "\n",
       "                               full_address  \\\n",
       "2377  2819 N Central Ave\\nPhoenix, AZ 85004   \n",
       "2378  1850 N Central Ave\\nPhoenix, AZ 85004   \n",
       "\n",
       "                                                  hours   latitude  \\\n",
       "2377  {'Monday': {'close': '00:00', 'open': '10:00'}...  33.479482   \n",
       "2378                                                 {}  33.468547   \n",
       "\n",
       "       longitude                    name neighborhoods  open  review_count  \\\n",
       "2377 -112.073681          Domino's Pizza            []  True            20   \n",
       "2378 -112.075085  Viad Tower Restaurants            []  True             6   \n",
       "\n",
       "      stars state      type location  \n",
       "2377    3.0    AZ  business  Phoenix  \n",
       "2378    3.5    AZ  business  Phoenix  "
      ]
     },
     "execution_count": 4,
     "metadata": {},
     "output_type": "execute_result"
    }
   ],
   "source": [
    "phoenix_restaurants.head(2)"
   ]
  },
  {
   "cell_type": "markdown",
   "metadata": {},
   "source": [
    "### clean the data"
   ]
  },
  {
   "cell_type": "code",
   "execution_count": 5,
   "metadata": {
    "collapsed": false
   },
   "outputs": [
    {
     "data": {
      "text/plain": [
       "array([[<matplotlib.axes._subplots.AxesSubplot object at 0x106b2bb10>]], dtype=object)"
      ]
     },
     "execution_count": 5,
     "metadata": {},
     "output_type": "execute_result"
    },
    {
     "data": {
      "image/png": "[encoded data removed]",
      "text/plain": [
       "<matplotlib.figure.Figure at 0x106b2b950>"
      ]
     },
     "metadata": {},
     "output_type": "display_data"
    }
   ],
   "source": [
    "phoenix_restaurants.hist('stars')"
   ]
  },
  {
   "cell_type": "markdown",
   "metadata": {},
   "source": [
    "Note: looks almost normal!! Wooop"
   ]
  },
  {
   "cell_type": "code",
   "execution_count": 6,
   "metadata": {
    "collapsed": false,
    "scrolled": true
   },
   "outputs": [
    {
     "data": {
      "text/html": [
       "<div>\n",
       "<table border=\"1\" class=\"dataframe\">\n",
       "  <thead>\n",
       "    <tr style=\"text-align: right;\">\n",
       "      <th></th>\n",
       "      <th>Accepts Credit Cards</th>\n",
       "      <th>Accepts Insurance</th>\n",
       "      <th>Active Life</th>\n",
       "      <th>Adult Entertainment</th>\n",
       "      <th>Afghan</th>\n",
       "      <th>African</th>\n",
       "      <th>Ages Allowed_18plus</th>\n",
       "      <th>Ages Allowed_21plus</th>\n",
       "      <th>Ages Allowed_allages</th>\n",
       "      <th>Airport Lounges</th>\n",
       "      <th>...</th>\n",
       "      <th>Surprise</th>\n",
       "      <th>Tempe</th>\n",
       "      <th>Tolleson</th>\n",
       "      <th>Tonopah</th>\n",
       "      <th>Tonto Basin</th>\n",
       "      <th>Tortilla Flat</th>\n",
       "      <th>Wickenburg</th>\n",
       "      <th>Youngtown</th>\n",
       "      <th>glendale</th>\n",
       "      <th>phoenix</th>\n",
       "    </tr>\n",
       "  </thead>\n",
       "  <tbody>\n",
       "    <tr>\n",
       "      <th>2377</th>\n",
       "      <td>True</td>\n",
       "      <td>0</td>\n",
       "      <td>0</td>\n",
       "      <td>0</td>\n",
       "      <td>0</td>\n",
       "      <td>0</td>\n",
       "      <td>0</td>\n",
       "      <td>0</td>\n",
       "      <td>0</td>\n",
       "      <td>0</td>\n",
       "      <td>...</td>\n",
       "      <td>0</td>\n",
       "      <td>0</td>\n",
       "      <td>0</td>\n",
       "      <td>0</td>\n",
       "      <td>0</td>\n",
       "      <td>0</td>\n",
       "      <td>0</td>\n",
       "      <td>0</td>\n",
       "      <td>0</td>\n",
       "      <td>0</td>\n",
       "    </tr>\n",
       "    <tr>\n",
       "      <th>2378</th>\n",
       "      <td>True</td>\n",
       "      <td>0</td>\n",
       "      <td>0</td>\n",
       "      <td>0</td>\n",
       "      <td>0</td>\n",
       "      <td>0</td>\n",
       "      <td>0</td>\n",
       "      <td>0</td>\n",
       "      <td>0</td>\n",
       "      <td>0</td>\n",
       "      <td>...</td>\n",
       "      <td>0</td>\n",
       "      <td>0</td>\n",
       "      <td>0</td>\n",
       "      <td>0</td>\n",
       "      <td>0</td>\n",
       "      <td>0</td>\n",
       "      <td>0</td>\n",
       "      <td>0</td>\n",
       "      <td>0</td>\n",
       "      <td>0</td>\n",
       "    </tr>\n",
       "  </tbody>\n",
       "</table>\n",
       "<p>2 rows × 397 columns</p>\n",
       "</div>"
      ],
      "text/plain": [
       "     Accepts Credit Cards Accepts Insurance  Active Life  Adult Entertainment  \\\n",
       "2377                 True                 0            0                    0   \n",
       "2378                 True                 0            0                    0   \n",
       "\n",
       "      Afghan  African  Ages Allowed_18plus  Ages Allowed_21plus  \\\n",
       "2377       0        0                    0                    0   \n",
       "2378       0        0                    0                    0   \n",
       "\n",
       "      Ages Allowed_allages  Airport Lounges   ...    Surprise  Tempe  \\\n",
       "2377                     0                0   ...           0      0   \n",
       "2378                     0                0   ...           0      0   \n",
       "\n",
       "      Tolleson Tonopah Tonto Basin Tortilla Flat Wickenburg Youngtown  \\\n",
       "2377         0       0           0             0          0         0   \n",
       "2378         0       0           0             0          0         0   \n",
       "\n",
       "     glendale phoenix  \n",
       "2377        0       0  \n",
       "2378        0       0  \n",
       "\n",
       "[2 rows x 397 columns]"
      ]
     },
     "execution_count": 6,
     "metadata": {},
     "output_type": "execute_result"
    }
   ],
   "source": [
    "# phoenix_restaurants, phoenix_reviews, phoenix_users = restaurants_and_bars_in('Phoenix', businesses, reviews, users)\n",
    "# interesting columns\n",
    "columns_of_interest = ['business_id',\n",
    "                     'attributes',\n",
    "                     'categories',\n",
    "                     'city',\n",
    "#                      'hours', # looks complicated\n",
    "                     'latitude',\n",
    "                     'longitude',\n",
    "                     'neighborhoods',\n",
    "                     'open',\n",
    "                     'review_count',\n",
    "                     'stars']\n",
    "phoenix_restaurants = phoenix_restaurants[columns_of_interest]\n",
    "\n",
    "def flatten(dct, separator='_'):\n",
    "    \"\"\"A fast way to flatten a dictionary,\"\"\"\n",
    "    res = {}\n",
    "    queue = [('', dct)]\n",
    "\n",
    "    while queue:\n",
    "        prefix, d = queue.pop()\n",
    "        for k, v in d.items():\n",
    "            key = prefix + k\n",
    "            if not isinstance(v, dict):\n",
    "                res[key] = [v]\n",
    "            else:\n",
    "                queue.append((key + separator, v))\n",
    "    return res\n",
    "\n",
    "def parse_data(row):\n",
    "    attribs = flatten(ast.literal_eval(row.attributes))\n",
    "    categories = ast.literal_eval(row.categories)\n",
    "    neighborhoods = ast.literal_eval(row.neighborhoods)\n",
    "    attributes = pd.DataFrame.from_dict(attribs, orient='columns')\n",
    "    categories = pd.DataFrame.from_dict(dict([[c, [1]] for c in categories]))\n",
    "    neighborhoods = pd.DataFrame.from_dict(dict([[n, [1]] for n in neighborhoods]))\n",
    "    \n",
    "    row = row.drop(['attributes', 'categories', 'neighborhoods'])\n",
    "    if (neighborhoods.shape[0] > 0) & (attributes.shape[0] > 0):\n",
    "        result = pd.concat((row, categories.iloc[0], neighborhoods.iloc[0], pd.get_dummies(attributes).iloc[0]), axis=0)\n",
    "    elif (neighborhoods.shape[0] > 0):\n",
    "        result = pd.concat((row, categories.iloc[0], neighborhoods.iloc[0]), axis=0)\n",
    "    elif (attributes.shape[0] > 0):\n",
    "        result = pd.concat((row, categories.iloc[0], pd.get_dummies(attributes).iloc[0]), axis=0)\n",
    "    else:\n",
    "        result = pd.concat((row, categories.iloc[0]), axis=0)\n",
    "    return result\n",
    "\n",
    "phoenix_update = phoenix_restaurants.apply(parse_data,axis=1,)\n",
    "phoenix_update = pd.concat((phoenix_update, pd.get_dummies(phoenix_update['city'])), axis=1)\n",
    "phoenix_update = phoenix_update.drop('city', axis=1)\n",
    "phoenix_update = phoenix_update.fillna(0)\n",
    "phoenix_update.head(2)"
   ]
  },
  {
   "cell_type": "code",
   "execution_count": 7,
   "metadata": {
    "collapsed": false
   },
   "outputs": [
    {
     "data": {
      "text/html": [
       "<div>\n",
       "<table border=\"1\" class=\"dataframe\">\n",
       "  <thead>\n",
       "    <tr style=\"text-align: right;\">\n",
       "      <th></th>\n",
       "      <th>Accepts Credit Cards</th>\n",
       "      <th>Accepts Insurance</th>\n",
       "      <th>Active Life</th>\n",
       "      <th>Adult Entertainment</th>\n",
       "      <th>Afghan</th>\n",
       "      <th>African</th>\n",
       "      <th>Ages Allowed_18plus</th>\n",
       "      <th>Ages Allowed_21plus</th>\n",
       "      <th>Ages Allowed_allages</th>\n",
       "      <th>Airport Lounges</th>\n",
       "      <th>...</th>\n",
       "      <th>Surprise</th>\n",
       "      <th>Tempe</th>\n",
       "      <th>Tolleson</th>\n",
       "      <th>Tonopah</th>\n",
       "      <th>Tonto Basin</th>\n",
       "      <th>Tortilla Flat</th>\n",
       "      <th>Wickenburg</th>\n",
       "      <th>Youngtown</th>\n",
       "      <th>glendale</th>\n",
       "      <th>phoenix</th>\n",
       "    </tr>\n",
       "  </thead>\n",
       "  <tbody>\n",
       "    <tr>\n",
       "      <th>2377</th>\n",
       "      <td>True</td>\n",
       "      <td>0</td>\n",
       "      <td>0</td>\n",
       "      <td>0</td>\n",
       "      <td>0</td>\n",
       "      <td>0</td>\n",
       "      <td>0</td>\n",
       "      <td>0</td>\n",
       "      <td>0</td>\n",
       "      <td>0</td>\n",
       "      <td>...</td>\n",
       "      <td>0</td>\n",
       "      <td>0</td>\n",
       "      <td>0</td>\n",
       "      <td>0</td>\n",
       "      <td>0</td>\n",
       "      <td>0</td>\n",
       "      <td>0</td>\n",
       "      <td>0</td>\n",
       "      <td>0</td>\n",
       "      <td>0</td>\n",
       "    </tr>\n",
       "    <tr>\n",
       "      <th>2378</th>\n",
       "      <td>True</td>\n",
       "      <td>0</td>\n",
       "      <td>0</td>\n",
       "      <td>0</td>\n",
       "      <td>0</td>\n",
       "      <td>0</td>\n",
       "      <td>0</td>\n",
       "      <td>0</td>\n",
       "      <td>0</td>\n",
       "      <td>0</td>\n",
       "      <td>...</td>\n",
       "      <td>0</td>\n",
       "      <td>0</td>\n",
       "      <td>0</td>\n",
       "      <td>0</td>\n",
       "      <td>0</td>\n",
       "      <td>0</td>\n",
       "      <td>0</td>\n",
       "      <td>0</td>\n",
       "      <td>0</td>\n",
       "      <td>0</td>\n",
       "    </tr>\n",
       "  </tbody>\n",
       "</table>\n",
       "<p>2 rows × 397 columns</p>\n",
       "</div>"
      ],
      "text/plain": [
       "     Accepts Credit Cards Accepts Insurance  Active Life  Adult Entertainment  \\\n",
       "2377                 True                 0            0                    0   \n",
       "2378                 True                 0            0                    0   \n",
       "\n",
       "      Afghan  African  Ages Allowed_18plus  Ages Allowed_21plus  \\\n",
       "2377       0        0                    0                    0   \n",
       "2378       0        0                    0                    0   \n",
       "\n",
       "      Ages Allowed_allages  Airport Lounges   ...    Surprise  Tempe  \\\n",
       "2377                     0                0   ...           0      0   \n",
       "2378                     0                0   ...           0      0   \n",
       "\n",
       "      Tolleson Tonopah Tonto Basin Tortilla Flat Wickenburg Youngtown  \\\n",
       "2377         0       0           0             0          0         0   \n",
       "2378         0       0           0             0          0         0   \n",
       "\n",
       "     glendale phoenix  \n",
       "2377        0       0  \n",
       "2378        0       0  \n",
       "\n",
       "[2 rows x 397 columns]"
      ]
     },
     "execution_count": 7,
     "metadata": {},
     "output_type": "execute_result"
    }
   ],
   "source": [
    "phoenix_update.head(2)"
   ]
  },
  {
   "cell_type": "code",
   "execution_count": 8,
   "metadata": {
    "collapsed": false
   },
   "outputs": [
    {
     "data": {
      "text/html": [
       "<div>\n",
       "<table border=\"1\" class=\"dataframe\">\n",
       "  <thead>\n",
       "    <tr style=\"text-align: right;\">\n",
       "      <th></th>\n",
       "      <th>Accepts Credit Cards</th>\n",
       "      <th>Accepts Insurance</th>\n",
       "      <th>Active Life</th>\n",
       "      <th>Adult Entertainment</th>\n",
       "      <th>Afghan</th>\n",
       "      <th>African</th>\n",
       "      <th>Ages Allowed_18plus</th>\n",
       "      <th>Ages Allowed_21plus</th>\n",
       "      <th>Ages Allowed_allages</th>\n",
       "      <th>Airport Lounges</th>\n",
       "      <th>...</th>\n",
       "      <th>Surprise</th>\n",
       "      <th>Tempe</th>\n",
       "      <th>Tolleson</th>\n",
       "      <th>Tonopah</th>\n",
       "      <th>Tonto Basin</th>\n",
       "      <th>Tortilla Flat</th>\n",
       "      <th>Wickenburg</th>\n",
       "      <th>Youngtown</th>\n",
       "      <th>glendale</th>\n",
       "      <th>phoenix</th>\n",
       "    </tr>\n",
       "  </thead>\n",
       "  <tbody>\n",
       "    <tr>\n",
       "      <th>2377</th>\n",
       "      <td>True</td>\n",
       "      <td>0</td>\n",
       "      <td>0</td>\n",
       "      <td>0</td>\n",
       "      <td>0</td>\n",
       "      <td>0</td>\n",
       "      <td>0</td>\n",
       "      <td>0</td>\n",
       "      <td>0</td>\n",
       "      <td>0</td>\n",
       "      <td>...</td>\n",
       "      <td>0</td>\n",
       "      <td>0</td>\n",
       "      <td>0</td>\n",
       "      <td>0</td>\n",
       "      <td>0</td>\n",
       "      <td>0</td>\n",
       "      <td>0</td>\n",
       "      <td>0</td>\n",
       "      <td>0</td>\n",
       "      <td>0</td>\n",
       "    </tr>\n",
       "    <tr>\n",
       "      <th>2378</th>\n",
       "      <td>True</td>\n",
       "      <td>0</td>\n",
       "      <td>0</td>\n",
       "      <td>0</td>\n",
       "      <td>0</td>\n",
       "      <td>0</td>\n",
       "      <td>0</td>\n",
       "      <td>0</td>\n",
       "      <td>0</td>\n",
       "      <td>0</td>\n",
       "      <td>...</td>\n",
       "      <td>0</td>\n",
       "      <td>0</td>\n",
       "      <td>0</td>\n",
       "      <td>0</td>\n",
       "      <td>0</td>\n",
       "      <td>0</td>\n",
       "      <td>0</td>\n",
       "      <td>0</td>\n",
       "      <td>0</td>\n",
       "      <td>0</td>\n",
       "    </tr>\n",
       "  </tbody>\n",
       "</table>\n",
       "<p>2 rows × 397 columns</p>\n",
       "</div>"
      ],
      "text/plain": [
       "     Accepts Credit Cards Accepts Insurance  Active Life  Adult Entertainment  \\\n",
       "2377                 True                 0            0                    0   \n",
       "2378                 True                 0            0                    0   \n",
       "\n",
       "      Afghan  African  Ages Allowed_18plus  Ages Allowed_21plus  \\\n",
       "2377       0        0                    0                    0   \n",
       "2378       0        0                    0                    0   \n",
       "\n",
       "      Ages Allowed_allages  Airport Lounges   ...    Surprise  Tempe  \\\n",
       "2377                     0                0   ...           0      0   \n",
       "2378                     0                0   ...           0      0   \n",
       "\n",
       "      Tolleson Tonopah Tonto Basin Tortilla Flat Wickenburg Youngtown  \\\n",
       "2377         0       0           0             0          0         0   \n",
       "2378         0       0           0             0          0         0   \n",
       "\n",
       "     glendale phoenix  \n",
       "2377        0       0  \n",
       "2378        0       0  \n",
       "\n",
       "[2 rows x 397 columns]"
      ]
     },
     "execution_count": 8,
     "metadata": {},
     "output_type": "execute_result"
    }
   ],
   "source": [
    "phoenix_update.head(2)"
   ]
  },
  {
   "cell_type": "code",
   "execution_count": 8,
   "metadata": {
    "collapsed": false
   },
   "outputs": [
    {
     "data": {
      "text/plain": [
       "array([ -0.00000000e+00,   0.00000000e+00,   0.00000000e+00,\n",
       "        -0.00000000e+00,   0.00000000e+00,   0.00000000e+00,\n",
       "        -0.00000000e+00,  -0.00000000e+00,  -0.00000000e+00,\n",
       "        -0.00000000e+00,   1.46224072e-01,  -3.76143418e-02,\n",
       "         8.43333856e-02,   0.00000000e+00,   0.00000000e+00,\n",
       "         7.88437831e-02,   0.00000000e+00,   0.00000000e+00,\n",
       "         0.00000000e+00,  -0.00000000e+00,  -0.00000000e+00,\n",
       "         0.00000000e+00,   0.00000000e+00,  -5.75948204e-02,\n",
       "         0.00000000e+00,   0.00000000e+00,   0.00000000e+00,\n",
       "         0.00000000e+00,  -0.00000000e+00,   0.00000000e+00,\n",
       "         0.00000000e+00,   0.00000000e+00,  -0.00000000e+00,\n",
       "        -8.09566106e-02,   0.00000000e+00,  -0.00000000e+00,\n",
       "        -0.00000000e+00,   0.00000000e+00,   0.00000000e+00,\n",
       "         0.00000000e+00,   0.00000000e+00,   0.00000000e+00,\n",
       "        -0.00000000e+00,  -2.53287821e-02,  -0.00000000e+00,\n",
       "        -0.00000000e+00,   0.00000000e+00,   0.00000000e+00,\n",
       "         0.00000000e+00,  -0.00000000e+00,  -0.00000000e+00,\n",
       "        -0.00000000e+00,   0.00000000e+00,   0.00000000e+00,\n",
       "         0.00000000e+00,   0.00000000e+00,   0.00000000e+00,\n",
       "         0.00000000e+00,  -0.00000000e+00,  -0.00000000e+00,\n",
       "        -0.00000000e+00,   0.00000000e+00,   0.00000000e+00,\n",
       "        -2.86030771e-01,  -1.31655739e-01,   0.00000000e+00,\n",
       "         0.00000000e+00,   0.00000000e+00,   0.00000000e+00,\n",
       "         8.97090593e-03,  -0.00000000e+00,  -0.00000000e+00,\n",
       "         0.00000000e+00,   0.00000000e+00,   0.00000000e+00,\n",
       "        -0.00000000e+00,   0.00000000e+00,  -0.00000000e+00,\n",
       "         0.00000000e+00,   9.60337927e-02,  -0.00000000e+00,\n",
       "         0.00000000e+00,  -0.00000000e+00,  -0.00000000e+00,\n",
       "        -3.03019031e-01,  -6.95267327e-02,   0.00000000e+00,\n",
       "         0.00000000e+00,   0.00000000e+00,   0.00000000e+00,\n",
       "         0.00000000e+00,   0.00000000e+00,   0.00000000e+00,\n",
       "         0.00000000e+00,   0.00000000e+00,   0.00000000e+00,\n",
       "         0.00000000e+00,   0.00000000e+00,   0.00000000e+00,\n",
       "         0.00000000e+00,  -0.00000000e+00,  -0.00000000e+00,\n",
       "         0.00000000e+00,   0.00000000e+00,   0.00000000e+00,\n",
       "         0.00000000e+00,  -0.00000000e+00,   0.00000000e+00,\n",
       "         0.00000000e+00,  -7.29330759e-02,  -0.00000000e+00,\n",
       "         0.00000000e+00,   0.00000000e+00,   0.00000000e+00,\n",
       "         0.00000000e+00,   0.00000000e+00,   0.00000000e+00,\n",
       "         0.00000000e+00,   0.00000000e+00,  -0.00000000e+00,\n",
       "         0.00000000e+00,  -0.00000000e+00,   0.00000000e+00,\n",
       "        -0.00000000e+00,   0.00000000e+00,   0.00000000e+00,\n",
       "         0.00000000e+00,  -2.47523820e-01,   0.00000000e+00,\n",
       "         0.00000000e+00,   0.00000000e+00,   0.00000000e+00,\n",
       "         0.00000000e+00,   0.00000000e+00,   0.00000000e+00,\n",
       "        -2.71018707e-01,  -0.00000000e+00,   0.00000000e+00,\n",
       "         0.00000000e+00,  -0.00000000e+00,   0.00000000e+00,\n",
       "         0.00000000e+00,   0.00000000e+00,   2.51629470e-01,\n",
       "         0.00000000e+00,  -0.00000000e+00,   0.00000000e+00,\n",
       "         0.00000000e+00,   0.00000000e+00,   0.00000000e+00,\n",
       "         0.00000000e+00,   0.00000000e+00,   0.00000000e+00,\n",
       "         0.00000000e+00,   0.00000000e+00,   0.00000000e+00,\n",
       "         0.00000000e+00,   0.00000000e+00,   0.00000000e+00,\n",
       "         8.59653107e-02,  -1.92682114e-02,   0.00000000e+00,\n",
       "         0.00000000e+00,   5.49939176e-03,  -0.00000000e+00,\n",
       "         6.17602276e-02,   0.00000000e+00,   1.05926361e-02,\n",
       "         0.00000000e+00,   0.00000000e+00,   0.00000000e+00,\n",
       "        -0.00000000e+00,   0.00000000e+00,   0.00000000e+00,\n",
       "         0.00000000e+00,   0.00000000e+00,   0.00000000e+00,\n",
       "         0.00000000e+00,  -0.00000000e+00,   0.00000000e+00,\n",
       "         0.00000000e+00,   0.00000000e+00,  -0.00000000e+00,\n",
       "         0.00000000e+00,   0.00000000e+00,   0.00000000e+00,\n",
       "         0.00000000e+00,  -0.00000000e+00,   0.00000000e+00,\n",
       "        -0.00000000e+00,   0.00000000e+00,  -0.00000000e+00,\n",
       "         0.00000000e+00,   0.00000000e+00,   0.00000000e+00,\n",
       "         0.00000000e+00,   0.00000000e+00,   0.00000000e+00,\n",
       "         0.00000000e+00,   0.00000000e+00,   0.00000000e+00,\n",
       "        -0.00000000e+00,   0.00000000e+00,   0.00000000e+00,\n",
       "         0.00000000e+00,   0.00000000e+00,   0.00000000e+00,\n",
       "         0.00000000e+00,  -0.00000000e+00,   0.00000000e+00,\n",
       "         8.34872428e-02,   0.00000000e+00,   0.00000000e+00,\n",
       "         0.00000000e+00,   0.00000000e+00,   0.00000000e+00,\n",
       "         0.00000000e+00,   0.00000000e+00,  -0.00000000e+00,\n",
       "         0.00000000e+00,  -0.00000000e+00,   0.00000000e+00,\n",
       "        -0.00000000e+00,   0.00000000e+00,   0.00000000e+00,\n",
       "         0.00000000e+00,   0.00000000e+00,  -1.46130445e-01,\n",
       "         9.15954114e-02,  -2.57792016e-01,  -0.00000000e+00,\n",
       "         0.00000000e+00,   0.00000000e+00,  -0.00000000e+00,\n",
       "         0.00000000e+00,   1.40804747e-02,  -0.00000000e+00,\n",
       "         0.00000000e+00,   1.16738398e-01,   1.95027858e-02,\n",
       "         0.00000000e+00,  -0.00000000e+00,   0.00000000e+00,\n",
       "         0.00000000e+00,   0.00000000e+00,   0.00000000e+00,\n",
       "        -0.00000000e+00,   0.00000000e+00,   0.00000000e+00,\n",
       "        -0.00000000e+00,  -0.00000000e+00,   0.00000000e+00,\n",
       "        -0.00000000e+00,  -0.00000000e+00,   0.00000000e+00,\n",
       "         0.00000000e+00,   0.00000000e+00,  -2.92167750e-02,\n",
       "        -0.00000000e+00,   0.00000000e+00,  -0.00000000e+00,\n",
       "        -0.00000000e+00,  -1.41020890e-01,  -0.00000000e+00,\n",
       "         0.00000000e+00,   0.00000000e+00,   0.00000000e+00,\n",
       "         0.00000000e+00,   0.00000000e+00,  -0.00000000e+00,\n",
       "        -0.00000000e+00,   0.00000000e+00,   0.00000000e+00,\n",
       "         0.00000000e+00,   0.00000000e+00,   0.00000000e+00,\n",
       "        -0.00000000e+00,   0.00000000e+00,   0.00000000e+00,\n",
       "        -0.00000000e+00,  -0.00000000e+00,   0.00000000e+00,\n",
       "         0.00000000e+00,   0.00000000e+00,   0.00000000e+00,\n",
       "         0.00000000e+00,  -5.86244881e-02,   0.00000000e+00,\n",
       "        -0.00000000e+00,   0.00000000e+00,   0.00000000e+00,\n",
       "        -0.00000000e+00,   0.00000000e+00,  -0.00000000e+00,\n",
       "         3.54054928e-02,   0.00000000e+00,   0.00000000e+00,\n",
       "         0.00000000e+00,   0.00000000e+00,  -0.00000000e+00,\n",
       "        -0.00000000e+00,   0.00000000e+00,   0.00000000e+00,\n",
       "        -0.00000000e+00,   0.00000000e+00,  -0.00000000e+00,\n",
       "        -0.00000000e+00,   0.00000000e+00,   0.00000000e+00,\n",
       "        -0.00000000e+00,   0.00000000e+00,   0.00000000e+00,\n",
       "        -0.00000000e+00,   0.00000000e+00,   0.00000000e+00,\n",
       "         1.09946452e-01,   0.00000000e+00,  -7.13665508e-03,\n",
       "         0.00000000e+00,  -0.00000000e+00,   0.00000000e+00,\n",
       "         0.00000000e+00,  -0.00000000e+00,   0.00000000e+00,\n",
       "         0.00000000e+00,   5.84276048e-06,   0.00000000e+00,\n",
       "         0.00000000e+00,   4.25765451e-03,   1.03694858e-03,\n",
       "         0.00000000e+00,  -0.00000000e+00,   0.00000000e+00,\n",
       "         0.00000000e+00,   0.00000000e+00,  -0.00000000e+00,\n",
       "        -0.00000000e+00,   0.00000000e+00,   0.00000000e+00,\n",
       "         0.00000000e+00,  -0.00000000e+00,   0.00000000e+00,\n",
       "        -0.00000000e+00,  -0.00000000e+00,  -0.00000000e+00,\n",
       "         0.00000000e+00,  -0.00000000e+00,  -0.00000000e+00,\n",
       "         0.00000000e+00,   0.00000000e+00,  -0.00000000e+00,\n",
       "         0.00000000e+00,   0.00000000e+00,  -0.00000000e+00,\n",
       "        -0.00000000e+00,   0.00000000e+00,  -0.00000000e+00,\n",
       "         0.00000000e+00,  -0.00000000e+00,  -0.00000000e+00,\n",
       "         0.00000000e+00,  -0.00000000e+00,  -0.00000000e+00,\n",
       "        -0.00000000e+00,  -0.00000000e+00,   0.00000000e+00,\n",
       "        -0.00000000e+00,   0.00000000e+00,  -0.00000000e+00,\n",
       "         0.00000000e+00,   0.00000000e+00,   0.00000000e+00,\n",
       "         0.00000000e+00,   4.96781242e-02,   0.00000000e+00,\n",
       "        -0.00000000e+00,   0.00000000e+00,   0.00000000e+00,\n",
       "        -0.00000000e+00,   0.00000000e+00,   6.90469359e-02,\n",
       "         0.00000000e+00,  -0.00000000e+00,  -0.00000000e+00,\n",
       "         0.00000000e+00,   0.00000000e+00,  -1.54553777e-02,\n",
       "        -7.75153979e-03,  -0.00000000e+00,   0.00000000e+00,\n",
       "         0.00000000e+00,  -0.00000000e+00,   0.00000000e+00,\n",
       "         0.00000000e+00,   0.00000000e+00,   0.00000000e+00])"
      ]
     },
     "execution_count": 8,
     "metadata": {},
     "output_type": "execute_result"
    }
   ],
   "source": [
    "las = sklearn.linear_model.Lasso(alpha=10**(-2.5))\n",
    "las.fit(phoenix_update.drop('stars', axis=1), phoenix_update['stars'].values)\n",
    "las.coef_"
   ]
  },
  {
   "cell_type": "code",
   "execution_count": 9,
   "metadata": {
    "collapsed": false
   },
   "outputs": [
    {
     "data": {
      "text/plain": [
       "Index([u'Alcohol_beer_and_wine', u'Alcohol_none', u'Ambience_divey', u'Cafes',\n",
       "       u'Caters', u'Food', u'Good For Groups', u'Good For_dinner',\n",
       "       u'Good For_lunch', u'Greek', u'Mediterranean', u'Noise Level_quiet',\n",
       "       u'Outdoor Seating', u'Parking_lot', u'Parking_street',\n",
       "       u'Takes Reservations', u'Wheelchair Accessible', u'business_id',\n",
       "       u'open', u'review_count', u'Phoenix', u'Scottsdale'],\n",
       "      dtype='object')"
      ]
     },
     "execution_count": 9,
     "metadata": {},
     "output_type": "execute_result"
    }
   ],
   "source": [
    "x = phoenix_update.drop('stars', axis=1)\n",
    "x.columns[las.coef_ > 0]"
   ]
  },
  {
   "cell_type": "code",
   "execution_count": 10,
   "metadata": {
    "collapsed": false
   },
   "outputs": [
    {
     "data": {
      "image/png": "[encoded data removed]",
      "text/plain": [
       "<matplotlib.figure.Figure at 0x10c603b10>"
      ]
     },
     "metadata": {},
     "output_type": "display_data"
    }
   ],
   "source": [
    "fig, ax = plt.subplots(1,1, figsize=(10,10))\n",
    "ind = np.arange(len(las.coef_[las.coef_ != 0]))\n",
    "width = 0.35\n",
    "ax.bar(ind, las.coef_[las.coef_ != 0], width)\n",
    "ax.set_xticks(ind + width)\n",
    "ax.set_xticklabels(x.columns[las.coef_ != 0])\n",
    "plt.setp(ax.get_xticklabels(), rotation=90, fontsize=10)\n",
    "plt.show()"
   ]
  },
  {
   "cell_type": "code",
   "execution_count": 11,
   "metadata": {
    "collapsed": false
   },
   "outputs": [
    {
     "ename": "NameError",
     "evalue": "name 'X_train' is not defined",
     "output_type": "error",
     "traceback": [
      "\u001b[0;31m--------------------------------------\u001b[0m",
      "\u001b[0;31mNameError\u001b[0mTraceback (most recent call last)",
      "\u001b[0;32m<ipython-input-11-adf1fe6f9421>\u001b[0m in \u001b[0;36m<module>\u001b[0;34m()\u001b[0m\n\u001b[1;32m      3\u001b[0m \u001b[0;32mfor\u001b[0m \u001b[0mi\u001b[0m \u001b[0;32min\u001b[0m \u001b[0mi_vals\u001b[0m\u001b[0;34m:\u001b[0m\u001b[0;34m\u001b[0m\u001b[0m\n\u001b[1;32m      4\u001b[0m     \u001b[0mlas\u001b[0m \u001b[0;34m=\u001b[0m \u001b[0msklearn\u001b[0m\u001b[0;34m.\u001b[0m\u001b[0mlinear_model\u001b[0m\u001b[0;34m.\u001b[0m\u001b[0mRidge\u001b[0m\u001b[0;34m(\u001b[0m\u001b[0malpha\u001b[0m\u001b[0;34m=\u001b[0m\u001b[0mi\u001b[0m\u001b[0;34m)\u001b[0m\u001b[0;34m\u001b[0m\u001b[0m\n\u001b[0;32m----> 5\u001b[0;31m     \u001b[0mlas\u001b[0m\u001b[0;34m.\u001b[0m\u001b[0mfit\u001b[0m\u001b[0;34m(\u001b[0m\u001b[0mX_train\u001b[0m\u001b[0;34m,\u001b[0m \u001b[0my_train\u001b[0m\u001b[0;34m)\u001b[0m\u001b[0;34m\u001b[0m\u001b[0m\n\u001b[0m\u001b[1;32m      6\u001b[0m     \u001b[0mscores\u001b[0m\u001b[0;34m.\u001b[0m\u001b[0mappend\u001b[0m\u001b[0;34m(\u001b[0m\u001b[0mlas\u001b[0m\u001b[0;34m.\u001b[0m\u001b[0mscore\u001b[0m\u001b[0;34m(\u001b[0m\u001b[0mX_test\u001b[0m\u001b[0;34m,\u001b[0m \u001b[0my_test\u001b[0m\u001b[0;34m)\u001b[0m\u001b[0;34m)\u001b[0m\u001b[0;34m\u001b[0m\u001b[0m\n",
      "\u001b[0;31mNameError\u001b[0m: name 'X_train' is not defined"
     ]
    }
   ],
   "source": [
    "scores = []\n",
    "i_vals = np.logspace(-5,5,15)\n",
    "for i in i_vals:\n",
    "    las = sklearn.linear_model.Ridge(alpha=i)\n",
    "    las.fit(X_train, y_train)\n",
    "    scores.append(las.score(X_test, y_test))"
   ]
  },
  {
   "cell_type": "code",
   "execution_count": null,
   "metadata": {
    "collapsed": false
   },
   "outputs": [],
   "source": [
    "plt.semilogx(i_vals, scores)"
   ]
  },
  {
   "cell_type": "code",
   "execution_count": null,
   "metadata": {
    "collapsed": false
   },
   "outputs": [],
   "source": [
    "las = sklearn.linear_model.Ridge(alpha=10**1.2)\n",
    "las.fit(X_train, y_train)\n",
    "las.coef_[las.coef_>0.1]"
   ]
  },
  {
   "cell_type": "code",
   "execution_count": null,
   "metadata": {
    "collapsed": false
   },
   "outputs": [],
   "source": [
    "fig, ax = plt.subplots(1,1, figsize=(10,10))\n",
    "thresh = 0.18\n",
    "selected_coef = (las.coef_ > thresh)|(las.coef_ < -thresh)\n",
    "ind = np.arange(len(las.coef_[selected_coef]))\n",
    "width = 0.35\n",
    "ax.bar(ind, las.coef_[selected_coef], width)\n",
    "ax.set_xticks(ind + width)\n",
    "ax.set_xticklabels(x.columns[selected_coef])\n",
    "plt.setp(ax.get_xticklabels(), rotation=90, fontsize=10)\n",
    "plt.show()"
   ]
  },
  {
   "cell_type": "markdown",
   "metadata": {
    "collapsed": true
   },
   "source": [
    "## Content based filtering"
   ]
  },
  {
   "cell_type": "code",
   "execution_count": null,
   "metadata": {
    "collapsed": false
   },
   "outputs": [],
   "source": [
    "# X_train, X_test, y_train, y_test = train_test_split(\n",
    "#     phoenix_update.drop('stars', axis=1), phoenix_update['stars'].values, test_size=0.3, random_state=0)\n",
    "# print 'Train shape: ', X_train.shape\n",
    "# print 'Test shape: ', X_test.shape\n",
    "# phoenix_update['business_id'].shape\n",
    "# X_train['business_id'].isin(X_test['business_id'])\n",
    "# phoenix_update[phoenix_update['business_id'].isin(phoenix_update['business_id'].unique())].shape\n",
    "phoenix_restaurants.shape"
   ]
  },
  {
   "cell_type": "code",
   "execution_count": null,
   "metadata": {
    "collapsed": false
   },
   "outputs": [],
   "source": [
    "x_train = pd.merge(reviews_train, phoenix_update, how='inner', on='business_id')\n",
    "x_test = pd.merge(reviews_test, phoenix_update, how='inner', on='business_id')\n",
    "\n",
    "y_train = x_train['stars_x']\n",
    "y_test = x_test['stars_x']\n",
    "\n",
    "bus_rating_train = x_train['stars_y']\n",
    "bus_rating_test = x_test['stars_y']\n",
    "\n",
    "# x_train = x_train.drop(['stars_x', 'stars_y'], axis=1)\n",
    "# x_test = x_test.drop(['stars_x', 'stars_y'], axis=1)\n",
    "None"
   ]
  },
  {
   "cell_type": "code",
   "execution_count": null,
   "metadata": {
    "collapsed": false
   },
   "outputs": [],
   "source": [
    "x_train.head(2)"
   ]
  },
  {
   "cell_type": "code",
   "execution_count": 159,
   "metadata": {
    "collapsed": false
   },
   "outputs": [
    {
     "data": {
      "text/plain": [
       "[<matplotlib.lines.Line2D at 0x118860650>]"
      ]
     },
     "execution_count": 159,
     "metadata": {},
     "output_type": "execute_result"
    },
    {
     "data": {
      "image/png": "[encoded data removed]",
      "text/plain": [
       "<matplotlib.figure.Figure at 0x118bd0a10>"
      ]
     },
     "metadata": {},
     "output_type": "display_data"
    }
   ],
   "source": [
    "scores = []\n",
    "i_vals = np.logspace(-5,5,15)\n",
    "for i in i_vals:\n",
    "    las = sklearn.linear_model.Ridge(alpha=i)\n",
    "    las.fit(x_train, y_train)\n",
    "    scores.append(las.score(x_test, y_test))\n",
    "plt.semilogx(i_vals, scores)"
   ]
  },
  {
   "cell_type": "code",
   "execution_count": 160,
   "metadata": {
    "collapsed": false
   },
   "outputs": [
    {
     "data": {
      "text/plain": [
       "[<matplotlib.lines.Line2D at 0x11087c190>]"
      ]
     },
     "execution_count": 160,
     "metadata": {},
     "output_type": "execute_result"
    },
    {
     "data": {
      "image/png": "[encoded data removed]",
      "text/plain": [
       "<matplotlib.figure.Figure at 0x1188b21d0>"
      ]
     },
     "metadata": {},
     "output_type": "display_data"
    }
   ],
   "source": [
    "scores = []\n",
    "i_vals = np.logspace(-5,5,15)\n",
    "for i in i_vals:\n",
    "    las = sklearn.linear_model.Lasso(alpha=i)\n",
    "    las.fit(x_train, y_train)\n",
    "    scores.append(las.score(x_test, y_test))\n",
    "plt.semilogx(i_vals, scores)"
   ]
  },
  {
   "cell_type": "code",
   "execution_count": 161,
   "metadata": {
    "collapsed": false
   },
   "outputs": [
    {
     "data": {
      "text/plain": [
       "1.3058334681603359"
      ]
     },
     "execution_count": 161,
     "metadata": {},
     "output_type": "execute_result"
    }
   ],
   "source": [
    "las = sklearn.linear_model.Ridge(alpha=1)\n",
    "las.fit(x_train, y_train)\n",
    "np.sqrt(sklearn.metrics.mean_squared_error(y_test, las.predict(x_test)))"
   ]
  },
  {
   "cell_type": "code",
   "execution_count": 165,
   "metadata": {
    "collapsed": false
   },
   "outputs": [
    {
     "data": {
      "text/plain": [
       "0.53052824558950096"
      ]
     },
     "execution_count": 165,
     "metadata": {},
     "output_type": "execute_result"
    }
   ],
   "source": [
    "las = sklearn.linear_model.Lasso(alpha=1)\n",
    "las.fit(x_train, bus_rating_train)\n",
    "np.sqrt(sklearn.metrics.mean_squared_error(bus_rating_test, las.predict(x_test)))"
   ]
  },
  {
   "cell_type": "markdown",
   "metadata": {},
   "source": [
    "Matrix Factorisation Blank"
   ]
  },
  {
   "cell_type": "code",
   "execution_count": 7,
   "metadata": {
    "collapsed": false
   },
   "outputs": [
    {
     "data": {
      "text/html": [
       "<div>\n",
       "<table border=\"1\" class=\"dataframe\">\n",
       "  <thead>\n",
       "    <tr style=\"text-align: right;\">\n",
       "      <th></th>\n",
       "      <th>average_stars</th>\n",
       "      <th>compliment_cool</th>\n",
       "      <th>compliment_cute</th>\n",
       "      <th>compliment_funny</th>\n",
       "      <th>compliment_hot</th>\n",
       "      <th>compliment_list</th>\n",
       "      <th>compliment_more</th>\n",
       "      <th>compliment_note</th>\n",
       "      <th>compliment_photos</th>\n",
       "      <th>compliment_plain</th>\n",
       "      <th>...</th>\n",
       "      <th>elite_2013</th>\n",
       "      <th>elite_2014</th>\n",
       "      <th>elite_2015</th>\n",
       "      <th>elite_2016</th>\n",
       "      <th>fans</th>\n",
       "      <th>review_count</th>\n",
       "      <th>user_id</th>\n",
       "      <th>votecool</th>\n",
       "      <th>votefunny</th>\n",
       "      <th>voteuseful</th>\n",
       "    </tr>\n",
       "  </thead>\n",
       "  <tbody>\n",
       "    <tr>\n",
       "      <th>1</th>\n",
       "      <td>3.67</td>\n",
       "      <td>1675</td>\n",
       "      <td>204</td>\n",
       "      <td>594</td>\n",
       "      <td>1111</td>\n",
       "      <td>38</td>\n",
       "      <td>137</td>\n",
       "      <td>611</td>\n",
       "      <td>361</td>\n",
       "      <td>970</td>\n",
       "      <td>...</td>\n",
       "      <td>1</td>\n",
       "      <td>1</td>\n",
       "      <td>1</td>\n",
       "      <td>1</td>\n",
       "      <td>1345</td>\n",
       "      <td>1292</td>\n",
       "      <td>1</td>\n",
       "      <td>12091</td>\n",
       "      <td>8399</td>\n",
       "      <td>15242</td>\n",
       "    </tr>\n",
       "    <tr>\n",
       "      <th>2</th>\n",
       "      <td>3.68</td>\n",
       "      <td>134</td>\n",
       "      <td>22</td>\n",
       "      <td>96</td>\n",
       "      <td>99</td>\n",
       "      <td>4</td>\n",
       "      <td>18</td>\n",
       "      <td>79</td>\n",
       "      <td>27</td>\n",
       "      <td>86</td>\n",
       "      <td>...</td>\n",
       "      <td>1</td>\n",
       "      <td>1</td>\n",
       "      <td>1</td>\n",
       "      <td>0</td>\n",
       "      <td>105</td>\n",
       "      <td>395</td>\n",
       "      <td>2</td>\n",
       "      <td>657</td>\n",
       "      <td>722</td>\n",
       "      <td>1349</td>\n",
       "    </tr>\n",
       "  </tbody>\n",
       "</table>\n",
       "<p>2 rows × 30 columns</p>\n",
       "</div>"
      ],
      "text/plain": [
       "   average_stars  compliment_cool  compliment_cute  compliment_funny  \\\n",
       "1           3.67             1675              204               594   \n",
       "2           3.68              134               22                96   \n",
       "\n",
       "   compliment_hot  compliment_list  compliment_more  compliment_note  \\\n",
       "1            1111               38              137              611   \n",
       "2              99                4               18               79   \n",
       "\n",
       "   compliment_photos  compliment_plain     ...      elite_2013  elite_2014  \\\n",
       "1                361               970     ...               1           1   \n",
       "2                 27                86     ...               1           1   \n",
       "\n",
       "   elite_2015  elite_2016  fans  review_count  user_id  votecool  votefunny  \\\n",
       "1           1           1  1345          1292        1     12091       8399   \n",
       "2           1           0   105           395        2       657        722   \n",
       "\n",
       "   voteuseful  \n",
       "1       15242  \n",
       "2        1349  \n",
       "\n",
       "[2 rows x 30 columns]"
      ]
     },
     "execution_count": 7,
     "metadata": {},
     "output_type": "execute_result"
    }
   ],
   "source": [
    "# phoenix_restaurants, phoenix_reviews, phoenix_users = restaurants_and_bars_in('Phoenix', businesses, reviews, users)\n",
    "# interesting columns\n",
    "columns_of_interest = ['user_id',\n",
    "                    'average_stars',\n",
    "                     'compliments',\n",
    "                     'elite',\n",
    "                     'fans',\n",
    "                    'votes',\n",
    "#                      'hours', # looks complicated\n",
    "                     'review_count',\n",
    "#                      'yelping_since'\n",
    "                      ]\n",
    "phoenix_users = phoenix_users[columns_of_interest]\n",
    "\n",
    "def flatten(dct, separator='_'):\n",
    "    \"\"\"A fast way to flatten a dictionary,\"\"\"\n",
    "    res = {}\n",
    "    queue = [('', dct)]\n",
    "\n",
    "    while queue:\n",
    "        prefix, d = queue.pop()\n",
    "        for k, v in d.items():\n",
    "            key = prefix + k\n",
    "            if not isinstance(v, dict):\n",
    "                res[key] = [v]\n",
    "            else:\n",
    "                queue.append((key + separator, v))\n",
    "    return res\n",
    "\n",
    "def parse_data(row):\n",
    "    compliments = pd.DataFrame.from_dict(flatten(ast.literal_eval(row.compliments)), orient='columns')\n",
    "    votes = pd.DataFrame.from_dict(flatten(ast.literal_eval(row.votes)), orient='columns')\n",
    "    elite = pd.DataFrame.from_dict(dict([['elite_{}'.format(e), [1]] for e in ast.literal_eval(row.elite)]))\n",
    "    \n",
    "    compliments.columns = ['compliment_' + c for c in compliments.columns]\n",
    "    votes.columns = ['vote' + v for v in votes.columns]\n",
    "    \n",
    "    row = row.drop(['compliments', 'votes', 'elite'])\n",
    " \n",
    "    if (elite.shape[0] > 0) & (votes.shape[0] > 0) & (compliments.shape[0] > 0):\n",
    "        result = pd.concat((row, elite.iloc[0], votes.iloc[0],  compliments.iloc[0]), axis=0)\n",
    "    elif (elite.shape[0] > 0) & (votes.shape[0] > 0):\n",
    "        result = pd.concat((row, elite.iloc[0], votes.iloc[0]), axis=0)\n",
    "    elif (elite.shape[0] > 0) & (compliments.shape[0] > 0):\n",
    "        result = pd.concat((row, elite.iloc[0], compliments.iloc[0]), axis=0)\n",
    "    elif (votes.shape[0] > 0) & (compliments.shape[0] > 0):\n",
    "        result = pd.concat((row, votes.iloc[0], compliments.iloc[0]), axis=0)\n",
    "    elif (elite.shape[0] > 0):\n",
    "        result = pd.concat((row, elite.iloc[0]), axis=0)\n",
    "    elif (votes.shape[0] > 0):\n",
    "        result = pd.concat((row, votes.iloc[0]), axis=0)    \n",
    "    elif (compliments.shape[0] > 0):\n",
    "        result = pd.concat((row, compliments.iloc[0]), axis=0)\n",
    "    else:\n",
    "        result = row\n",
    "        \n",
    "    return result\n",
    "\n",
    "phoenix_users_update = phoenix_users.apply(parse_data,axis=1,)\n",
    "phoenix_users_update = phoenix_users_update.fillna(0)\n",
    "phoenix_users_update.head(2)"
   ]
  },
  {
   "cell_type": "code",
   "execution_count": 10,
   "metadata": {
    "collapsed": false
   },
   "outputs": [
    {
     "data": {
      "text/html": [
       "<div>\n",
       "<table border=\"1\" class=\"dataframe\">\n",
       "  <thead>\n",
       "    <tr style=\"text-align: right;\">\n",
       "      <th></th>\n",
       "      <th>Accepts Credit Cards</th>\n",
       "      <th>Accepts Insurance</th>\n",
       "      <th>Active Life</th>\n",
       "      <th>Adult Entertainment</th>\n",
       "      <th>Afghan</th>\n",
       "      <th>African</th>\n",
       "      <th>Ages Allowed_18plus</th>\n",
       "      <th>Ages Allowed_21plus</th>\n",
       "      <th>Ages Allowed_allages</th>\n",
       "      <th>Airport Lounges</th>\n",
       "      <th>...</th>\n",
       "      <th>Tortilla Flat</th>\n",
       "      <th>Wickenburg</th>\n",
       "      <th>Youngtown</th>\n",
       "      <th>glendale</th>\n",
       "      <th>phoenix</th>\n",
       "      <th>user_id</th>\n",
       "      <th>year</th>\n",
       "      <th>month</th>\n",
       "      <th>day</th>\n",
       "      <th>stars_y</th>\n",
       "    </tr>\n",
       "  </thead>\n",
       "  <tbody>\n",
       "    <tr>\n",
       "      <th>0</th>\n",
       "      <td>True</td>\n",
       "      <td>0</td>\n",
       "      <td>0</td>\n",
       "      <td>0</td>\n",
       "      <td>0</td>\n",
       "      <td>0</td>\n",
       "      <td>0</td>\n",
       "      <td>0</td>\n",
       "      <td>0</td>\n",
       "      <td>0</td>\n",
       "      <td>...</td>\n",
       "      <td>0</td>\n",
       "      <td>0</td>\n",
       "      <td>0</td>\n",
       "      <td>0</td>\n",
       "      <td>0</td>\n",
       "      <td>547856</td>\n",
       "      <td>2010</td>\n",
       "      <td>4</td>\n",
       "      <td>2</td>\n",
       "      <td>4</td>\n",
       "    </tr>\n",
       "    <tr>\n",
       "      <th>2</th>\n",
       "      <td>True</td>\n",
       "      <td>0</td>\n",
       "      <td>0</td>\n",
       "      <td>0</td>\n",
       "      <td>0</td>\n",
       "      <td>0</td>\n",
       "      <td>0</td>\n",
       "      <td>0</td>\n",
       "      <td>0</td>\n",
       "      <td>0</td>\n",
       "      <td>...</td>\n",
       "      <td>0</td>\n",
       "      <td>0</td>\n",
       "      <td>0</td>\n",
       "      <td>0</td>\n",
       "      <td>0</td>\n",
       "      <td>658647</td>\n",
       "      <td>2010</td>\n",
       "      <td>11</td>\n",
       "      <td>2</td>\n",
       "      <td>5</td>\n",
       "    </tr>\n",
       "  </tbody>\n",
       "</table>\n",
       "<p>2 rows × 402 columns</p>\n",
       "</div>"
      ],
      "text/plain": [
       "  Accepts Credit Cards Accepts Insurance  Active Life  Adult Entertainment  \\\n",
       "0                 True                 0            0                    0   \n",
       "2                 True                 0            0                    0   \n",
       "\n",
       "   Afghan  African  Ages Allowed_18plus  Ages Allowed_21plus  \\\n",
       "0       0        0                    0                    0   \n",
       "2       0        0                    0                    0   \n",
       "\n",
       "   Ages Allowed_allages  Airport Lounges   ...    Tortilla Flat  Wickenburg  \\\n",
       "0                     0                0   ...                0           0   \n",
       "2                     0                0   ...                0           0   \n",
       "\n",
       "   Youngtown glendale phoenix user_id  year month day stars_y  \n",
       "0          0        0       0  547856  2010     4   2       4  \n",
       "2          0        0       0  658647  2010    11   2       5  \n",
       "\n",
       "[2 rows x 402 columns]"
      ]
     },
     "execution_count": 10,
     "metadata": {},
     "output_type": "execute_result"
    }
   ],
   "source": [
    "# X_data = pd.merge((phoenix_users_update, reviews), how='inner', on='user_id')\n",
    "X_data = pd.merge(phoenix_update, reviews, how='inner', on='business_id')\n",
    "X_data = X_data.drop_duplicates(subset=['user_id', 'business_id'])\n",
    "X_data.head(2)"
   ]
  },
  {
   "cell_type": "code",
   "execution_count": null,
   "metadata": {
    "collapsed": false
   },
   "outputs": [],
   "source": [
    "## make the factor matrix for SVD\n",
    "factor_matrix = X_data.pivot(index='user_id', columns='business_id', values='stars_x')\n",
    "factor_matrix.set_index('user_id')"
   ]
  },
  {
   "cell_type": "code",
   "execution_count": null,
   "metadata": {
    "collapsed": false
   },
   "outputs": [],
   "source": [
    "## add all of the business and user data to the factor matrix\n",
    "X_data.set_index('user_id')\n",
    "X_data = X_data.join(factor_matrix)\n",
    "# X_data = pd.merge(phoenix_users_update, X_data, how='inner', on='user_id')\n",
    "X_data.head(2)"
   ]
  },
  {
   "cell_type": "code",
   "execution_count": 1,
   "metadata": {
    "collapsed": false
   },
   "outputs": [
    {
     "ename": "NameError",
     "evalue": "name 'factor_matrix' is not defined",
     "output_type": "error",
     "traceback": [
      "\u001b[0;31m--------------------------------------\u001b[0m",
      "\u001b[0;31mNameError\u001b[0mTraceback (most recent call last)",
      "\u001b[0;32m<ipython-input-1-2174d882980e>\u001b[0m in \u001b[0;36m<module>\u001b[0;34m()\u001b[0m\n\u001b[1;32m      1\u001b[0m \u001b[0;31m# train_data, test_data = train_test_split(X_data, )\u001b[0m\u001b[0;34m\u001b[0m\u001b[0;34m\u001b[0m\u001b[0m\n\u001b[0;32m----> 2\u001b[0;31m \u001b[0mfactor_matrix\u001b[0m\u001b[0;34m.\u001b[0m\u001b[0mhead\u001b[0m\u001b[0;34m(\u001b[0m\u001b[0;36m1\u001b[0m\u001b[0;34m)\u001b[0m\u001b[0;34m\u001b[0m\u001b[0m\n\u001b[0m",
      "\u001b[0;31mNameError\u001b[0m: name 'factor_matrix' is not defined"
     ]
    }
   ],
   "source": [
    "# train_data, test_data = train_test_split(X_data, )\n",
    "factor_matrix.head(1)"
   ]
  },
  {
   "cell_type": "code",
   "execution_count": 51,
   "metadata": {
    "collapsed": false
   },
   "outputs": [],
   "source": [
    "X = phoenix_reviews.drop_duplicates(['user_id', 'business_id'])\n",
    "# X = X.pivot(index='user_id', columns='business_id', values='stars')"
   ]
  },
  {
   "cell_type": "code",
   "execution_count": null,
   "metadata": {
    "collapsed": false
   },
   "outputs": [],
   "source": [
    "X = X.fillna(0)\n",
    "\n",
    "model = NMF(n_components=2, init='random', random_state=0)\n",
    "model.fit(X)"
   ]
  },
  {
   "cell_type": "code",
   "execution_count": 210,
   "metadata": {
    "collapsed": false
   },
   "outputs": [
    {
     "data": {
      "text/plain": [
       "array([[ 2.05196954,  0.        ],\n",
       "       [ 0.        ,  2.58176394]])"
      ]
     },
     "execution_count": 210,
     "metadata": {},
     "output_type": "execute_result"
    }
   ],
   "source": [
    "model.components_"
   ]
  },
  {
   "cell_type": "code",
   "execution_count": 8,
   "metadata": {
    "collapsed": false
   },
   "outputs": [],
   "source": [
    "#get SVD components from train matrix. Choose k.\n",
    "X = X.fillna(0)\n",
    "u, s, vt = np.linalg.svd(X, k = 20)"
   ]
  },
  {
   "cell_type": "code",
   "execution_count": 19,
   "metadata": {
    "collapsed": false
   },
   "outputs": [
    {
     "ename": "NameError",
     "evalue": "name 'x_train' is not defined",
     "output_type": "error",
     "traceback": [
      "\u001b[0;31m--------------------------------------\u001b[0m",
      "\u001b[0;31mNameError\u001b[0mTraceback (most recent call last)",
      "\u001b[0;32m<ipython-input-19-47ab19bd7668>\u001b[0m in \u001b[0;36m<module>\u001b[0;34m()\u001b[0m\n\u001b[0;32m----> 1\u001b[0;31m \u001b[0mX\u001b[0m \u001b[0;34m=\u001b[0m \u001b[0mx_train\u001b[0m\u001b[0;34m.\u001b[0m\u001b[0mdrop_duplicates\u001b[0m\u001b[0;34m(\u001b[0m\u001b[0msubset\u001b[0m\u001b[0;34m=\u001b[0m\u001b[0;34m[\u001b[0m\u001b[0;34m'user_id'\u001b[0m\u001b[0;34m,\u001b[0m \u001b[0;34m'business_id'\u001b[0m\u001b[0;34m]\u001b[0m\u001b[0;34m)\u001b[0m\u001b[0;34m\u001b[0m\u001b[0m\n\u001b[0m\u001b[1;32m      2\u001b[0m \u001b[0mX\u001b[0m \u001b[0;34m=\u001b[0m \u001b[0mX\u001b[0m\u001b[0;34m.\u001b[0m\u001b[0miloc\u001b[0m\u001b[0;34m[\u001b[0m\u001b[0;36m0\u001b[0m\u001b[0;34m:\u001b[0m\u001b[0;36m10\u001b[0m\u001b[0;34m]\u001b[0m\u001b[0;34m.\u001b[0m\u001b[0mpivot\u001b[0m\u001b[0;34m(\u001b[0m\u001b[0mindex\u001b[0m\u001b[0;34m=\u001b[0m\u001b[0;34m'user_id'\u001b[0m\u001b[0;34m,\u001b[0m \u001b[0mcolumns\u001b[0m\u001b[0;34m=\u001b[0m\u001b[0;34m'business_id'\u001b[0m\u001b[0;34m,\u001b[0m \u001b[0mvalues\u001b[0m\u001b[0;34m=\u001b[0m\u001b[0;34m'stars_x'\u001b[0m\u001b[0;34m)\u001b[0m\u001b[0;34m\u001b[0m\u001b[0m\n\u001b[1;32m      3\u001b[0m \u001b[0mX\u001b[0m \u001b[0;34m=\u001b[0m \u001b[0mX\u001b[0m\u001b[0;34m.\u001b[0m\u001b[0mfillna\u001b[0m\u001b[0;34m(\u001b[0m\u001b[0;36m0\u001b[0m\u001b[0;34m)\u001b[0m\u001b[0;34m\u001b[0m\u001b[0m\n",
      "\u001b[0;31mNameError\u001b[0m: name 'x_train' is not defined"
     ]
    }
   ],
   "source": [
    "X = x_train.drop_duplicates(subset=['user_id', 'business_id'])\n",
    "X = X.iloc[0:10].pivot(index='user_id', columns='business_id', values='stars_x')\n",
    "X = X.fillna(0)"
   ]
  },
  {
   "cell_type": "code",
   "execution_count": null,
   "metadata": {
    "collapsed": false
   },
   "outputs": [],
   "source": [
    "from sklearn import cross_validation as cv\n",
    "from sklearn.metrics.pairwise import pairwise_distances\n",
    "\n",
    "train_data, test_data = cv.train_test_split(X, test_size=0.25)\n",
    "\n",
    "user_similarity = pairwise_distances(train_data, metric='cosine')\n",
    "item_similarity = pairwise_distances(train_data.T, metric='cosine')"
   ]
  },
  {
   "cell_type": "code",
   "execution_count": null,
   "metadata": {
    "collapsed": false
   },
   "outputs": [],
   "source": [
    "n_users, n_items = train_data.shape\n",
    "sparsity=round(1.0-len(train_data)/float(n_users*n_items),3)\n",
    "print 'The sparsity level of MovieLens100K is ' +  str(sparsity*100) + '%'"
   ]
  },
  {
   "cell_type": "code",
   "execution_count": null,
   "metadata": {
    "collapsed": false
   },
   "outputs": [],
   "source": [
    "u, s, vt = svds(train_data, k = 20)\n",
    "s_diag_matrix=np.diag(s)\n",
    "X_pred = np.dot(np.dot(u, s_diag_matrix), vt)\n",
    "print 'User-based CF MSE: ' + str(rmse(X_pred, test_data))"
   ]
  },
  {
   "cell_type": "code",
   "execution_count": 5,
   "metadata": {
    "collapsed": false
   },
   "outputs": [
    {
     "name": "stderr",
     "output_type": "stream",
     "text": [
      "/Users/nickhoernle/anaconda2/lib/python2.7/site-packages/IPython/core/interactiveshell.py:2717: DtypeWarning: Columns (1,2,14,15,16,17,18,19,20,21,22,39,68,99,112,113,114,115,116,117,118,160,234,235,236,238,239,240,241,242) have mixed types. Specify dtype option on import or set low_memory=False.\n",
      "  interactivity=interactivity, compiler=compiler, result=result)\n"
     ]
    }
   ],
   "source": [
    "test = pd.read_csv('./test.csv')"
   ]
  },
  {
   "cell_type": "code",
   "execution_count": 6,
   "metadata": {
    "collapsed": false
   },
   "outputs": [
    {
     "data": {
      "text/html": [
       "<div>\n",
       "<table border=\"1\" class=\"dataframe\">\n",
       "  <thead>\n",
       "    <tr style=\"text-align: right;\">\n",
       "      <th></th>\n",
       "      <th>Unnamed: 0</th>\n",
       "      <th>Accepts Credit Cards</th>\n",
       "      <th>Accepts Insurance</th>\n",
       "      <th>Active Life</th>\n",
       "      <th>Adult Entertainment</th>\n",
       "      <th>Afghan</th>\n",
       "      <th>African</th>\n",
       "      <th>Ages Allowed_18plus</th>\n",
       "      <th>Ages Allowed_21plus</th>\n",
       "      <th>Ages Allowed_allages</th>\n",
       "      <th>...</th>\n",
       "      <th>85477</th>\n",
       "      <th>85478</th>\n",
       "      <th>85495</th>\n",
       "      <th>85501</th>\n",
       "      <th>85517</th>\n",
       "      <th>85656</th>\n",
       "      <th>85674</th>\n",
       "      <th>85769</th>\n",
       "      <th>85889</th>\n",
       "      <th>85897</th>\n",
       "    </tr>\n",
       "  </thead>\n",
       "  <tbody>\n",
       "    <tr>\n",
       "      <th>0</th>\n",
       "      <td>0</td>\n",
       "      <td>True</td>\n",
       "      <td>0</td>\n",
       "      <td>0</td>\n",
       "      <td>0</td>\n",
       "      <td>0</td>\n",
       "      <td>0</td>\n",
       "      <td>0</td>\n",
       "      <td>0</td>\n",
       "      <td>0</td>\n",
       "      <td>...</td>\n",
       "      <td>NaN</td>\n",
       "      <td>NaN</td>\n",
       "      <td>NaN</td>\n",
       "      <td>NaN</td>\n",
       "      <td>NaN</td>\n",
       "      <td>NaN</td>\n",
       "      <td>NaN</td>\n",
       "      <td>NaN</td>\n",
       "      <td>NaN</td>\n",
       "      <td>NaN</td>\n",
       "    </tr>\n",
       "  </tbody>\n",
       "</table>\n",
       "<p>1 rows × 3309 columns</p>\n",
       "</div>"
      ],
      "text/plain": [
       "   Unnamed: 0 Accepts Credit Cards Accepts Insurance  Active Life  \\\n",
       "0           0                 True                 0            0   \n",
       "\n",
       "   Adult Entertainment  Afghan  African  Ages Allowed_18plus  \\\n",
       "0                    0       0        0                    0   \n",
       "\n",
       "   Ages Allowed_21plus  Ages Allowed_allages  ...   85477  85478  85495  \\\n",
       "0                    0                     0  ...     NaN    NaN    NaN   \n",
       "\n",
       "   85501 85517 85656 85674 85769 85889 85897  \n",
       "0    NaN   NaN   NaN   NaN   NaN   NaN   NaN  \n",
       "\n",
       "[1 rows x 3309 columns]"
      ]
     },
     "execution_count": 6,
     "metadata": {},
     "output_type": "execute_result"
    }
   ],
   "source": [
    "test.head(1)"
   ]
  },
  {
   "cell_type": "code",
   "execution_count": null,
   "metadata": {
    "collapsed": false
   },
   "outputs": [],
   "source": [
    "phoenix_update = phoenix_update.rename(columns={'review_count':'bus_review_count', 'stars':'bus_stars'})\n",
    "X.reset_index()\n",
    "X.set_index('business_id')\n",
    "X = X.join(phoenix_update.set_index('business_id'))\n",
    "X.drop_duplicates(subset=['user_id', 'business_id'])\n",
    "X.reset_index()"
   ]
  },
  {
   "cell_type": "code",
   "execution_count": 53,
   "metadata": {
    "collapsed": false
   },
   "outputs": [
    {
     "data": {
      "text/html": [
       "<div>\n",
       "<table border=\"1\" class=\"dataframe\">\n",
       "  <thead>\n",
       "    <tr style=\"text-align: right;\">\n",
       "      <th></th>\n",
       "      <th>user_id</th>\n",
       "      <th>business_id</th>\n",
       "      <th>year</th>\n",
       "      <th>month</th>\n",
       "      <th>day</th>\n",
       "      <th>stars</th>\n",
       "      <th>Accepts Credit Cards</th>\n",
       "      <th>Accepts Insurance</th>\n",
       "      <th>Active Life</th>\n",
       "      <th>Adult Entertainment</th>\n",
       "      <th>...</th>\n",
       "      <th>Surprise</th>\n",
       "      <th>Tempe</th>\n",
       "      <th>Tolleson</th>\n",
       "      <th>Tonopah</th>\n",
       "      <th>Tonto Basin</th>\n",
       "      <th>Tortilla Flat</th>\n",
       "      <th>Wickenburg</th>\n",
       "      <th>Youngtown</th>\n",
       "      <th>glendale</th>\n",
       "      <th>phoenix</th>\n",
       "    </tr>\n",
       "  </thead>\n",
       "  <tbody>\n",
       "    <tr>\n",
       "      <th>46032</th>\n",
       "      <td>547856</td>\n",
       "      <td>2377</td>\n",
       "      <td>2010</td>\n",
       "      <td>4</td>\n",
       "      <td>2</td>\n",
       "      <td>4</td>\n",
       "      <td>NaN</td>\n",
       "      <td>NaN</td>\n",
       "      <td>NaN</td>\n",
       "      <td>NaN</td>\n",
       "      <td>...</td>\n",
       "      <td>NaN</td>\n",
       "      <td>NaN</td>\n",
       "      <td>NaN</td>\n",
       "      <td>NaN</td>\n",
       "      <td>NaN</td>\n",
       "      <td>NaN</td>\n",
       "      <td>NaN</td>\n",
       "      <td>NaN</td>\n",
       "      <td>NaN</td>\n",
       "      <td>NaN</td>\n",
       "    </tr>\n",
       "    <tr>\n",
       "      <th>46034</th>\n",
       "      <td>658647</td>\n",
       "      <td>2377</td>\n",
       "      <td>2010</td>\n",
       "      <td>11</td>\n",
       "      <td>2</td>\n",
       "      <td>5</td>\n",
       "      <td>NaN</td>\n",
       "      <td>NaN</td>\n",
       "      <td>NaN</td>\n",
       "      <td>NaN</td>\n",
       "      <td>...</td>\n",
       "      <td>NaN</td>\n",
       "      <td>NaN</td>\n",
       "      <td>NaN</td>\n",
       "      <td>NaN</td>\n",
       "      <td>NaN</td>\n",
       "      <td>NaN</td>\n",
       "      <td>NaN</td>\n",
       "      <td>NaN</td>\n",
       "      <td>NaN</td>\n",
       "      <td>NaN</td>\n",
       "    </tr>\n",
       "  </tbody>\n",
       "</table>\n",
       "<p>2 rows × 402 columns</p>\n",
       "</div>"
      ],
      "text/plain": [
       "       user_id  business_id  year  month  day  stars Accepts Credit Cards  \\\n",
       "46032   547856         2377  2010      4    2      4                  NaN   \n",
       "46034   658647         2377  2010     11    2      5                  NaN   \n",
       "\n",
       "      Accepts Insurance  Active Life  Adult Entertainment   ...    Surprise  \\\n",
       "46032               NaN          NaN                  NaN   ...         NaN   \n",
       "46034               NaN          NaN                  NaN   ...         NaN   \n",
       "\n",
       "       Tempe  Tolleson  Tonopah  Tonto Basin  Tortilla Flat  Wickenburg  \\\n",
       "46032    NaN       NaN      NaN          NaN            NaN         NaN   \n",
       "46034    NaN       NaN      NaN          NaN            NaN         NaN   \n",
       "\n",
       "       Youngtown  glendale phoenix  \n",
       "46032        NaN       NaN     NaN  \n",
       "46034        NaN       NaN     NaN  \n",
       "\n",
       "[2 rows x 402 columns]"
      ]
     },
     "execution_count": 53,
     "metadata": {},
     "output_type": "execute_result"
    }
   ],
   "source": [
    "X.head(2)"
   ]
  },
  {
   "cell_type": "code",
   "execution_count": null,
   "metadata": {
    "collapsed": true
   },
   "outputs": [],
   "source": []
  },
  {
   "cell_type": "code",
   "execution_count": null,
   "metadata": {
    "collapsed": true
   },
   "outputs": [],
   "source": []
  },
  {
   "cell_type": "code",
   "execution_count": null,
   "metadata": {
    "collapsed": true
   },
   "outputs": [],
   "source": []
  },
  {
   "cell_type": "code",
   "execution_count": null,
   "metadata": {
    "collapsed": true
   },
   "outputs": [],
   "source": []
  },
  {
   "cell_type": "code",
   "execution_count": 2,
   "metadata": {
    "collapsed": false
   },
   "outputs": [
    {
     "ename": "NameError",
     "evalue": "name 'TfidfVectorizer' is not defined",
     "output_type": "error",
     "traceback": [
      "\u001b[0;31m--------------------------------------\u001b[0m",
      "\u001b[0;31mNameError\u001b[0mTraceback (most recent call last)",
      "\u001b[0;32m<ipython-input-2-bbc6e4e6e7a7>\u001b[0m in \u001b[0;36m<module>\u001b[0;34m()\u001b[0m\n\u001b[0;32m----> 1\u001b[0;31m vectorizer = TfidfVectorizer(\n\u001b[0m\u001b[1;32m      2\u001b[0m     \u001b[0mmax_features\u001b[0m\u001b[0;34m=\u001b[0m\u001b[0;36m10000\u001b[0m\u001b[0;34m,\u001b[0m\u001b[0;34m\u001b[0m\u001b[0m\n\u001b[1;32m      3\u001b[0m     ngram_range=(1,2))\n\u001b[1;32m      4\u001b[0m \u001b[0mtfidf\u001b[0m \u001b[0;34m=\u001b[0m \u001b[0mvectorizer\u001b[0m\u001b[0;34m.\u001b[0m\u001b[0mfit_transform\u001b[0m\u001b[0;34m(\u001b[0m\u001b[0mdata\u001b[0m\u001b[0;34m)\u001b[0m\u001b[0;34m\u001b[0m\u001b[0m\n",
      "\u001b[0;31mNameError\u001b[0m: name 'TfidfVectorizer' is not defined"
     ]
    }
   ],
   "source": [
    "vectorizer = TfidfVectorizer(\n",
    "    max_features=10000,\n",
    "    ngram_range=(1,2))\n",
    "tfidf = vectorizer.fit_transform(data)"
   ]
  },
  {
   "cell_type": "code",
   "execution_count": 7,
   "metadata": {
    "collapsed": false
   },
   "outputs": [],
   "source": [
    "from scipy.sparse import csr_matrix\n",
    "\n",
    "user_u = list(np.sort(phoenix_reviews.user_id.unique()))\n",
    "bus_u = list(np.sort(phoenix_reviews.business_id.unique()))\n",
    "\n",
    "data = reviews_train['stars'].tolist()\n",
    "row = reviews_train.user_id.astype('category', categories=user_u).cat.codes\n",
    "col = reviews_train.business_id.astype('category', categories=bus_u).cat.codes\n",
    "sparse_matrix_train = csr_matrix((data, (row, col)), shape=(len(user_u), len(bus_u)), dtype=np.float32)\n",
    "\n",
    "data = reviews_test['stars'].tolist()\n",
    "row = reviews_test.user_id.astype('category', categories=user_u).cat.codes\n",
    "col = reviews_test.business_id.astype('category', categories=bus_u).cat.codes\n",
    "sparse_matrix_test = csr_matrix((data, (row, col)), shape=(len(user_u), len(bus_u)), dtype=np.float32)\n",
    "\n",
    "sparse_matrix_train[sparse_matrix_train>5]=5.\n",
    "sparse_matrix_test[sparse_matrix_test>5]=5."
   ]
  },
  {
   "cell_type": "code",
   "execution_count": null,
   "metadata": {
    "collapsed": true
   },
   "outputs": [],
   "source": [
    "user_cols = list(np.sort(phoenix_users_update.columns))\n",
    "row_data = list(np.sort(phoenix_users_update.user_id.unique()))"
   ]
  },
  {
   "cell_type": "code",
   "execution_count": 8,
   "metadata": {
    "collapsed": false
   },
   "outputs": [],
   "source": [
    "def rmse(prediction, ground_truth):\n",
    "    prediction = prediction[ground_truth.nonzero()].tolist()\n",
    "    ground_truth = ground_truth[ground_truth.nonzero()].tolist()[0]\n",
    "    return np.sqrt(mean_squared_error(prediction, ground_truth))"
   ]
  },
  {
   "cell_type": "code",
   "execution_count": 7,
   "metadata": {
    "collapsed": false
   },
   "outputs": [],
   "source": [
    "import scipy.sparse as sp\n",
    "from scipy.sparse.linalg import svds\n",
    "\n",
    "#get SVD components from train matrix. Choose k.\n",
    "u, s, vt = svds(sparse_matrix_train, k = 100)\n",
    "s_diag_matrix=np.diag(s)\n",
    "X_pred = np.dot(np.dot(u, s_diag_matrix), vt)"
   ]
  },
  {
   "cell_type": "code",
   "execution_count": 8,
   "metadata": {
    "collapsed": false
   },
   "outputs": [
    {
     "name": "stdout",
     "output_type": "stream",
     "text": [
      "User-based CF MSE: 3.9255329189\n"
     ]
    }
   ],
   "source": [
    "print 'User-based CF MSE: ' + str(rmse(X_pred, sparse_matrix_test))"
   ]
  },
  {
   "cell_type": "code",
   "execution_count": null,
   "metadata": {
    "collapsed": false
   },
   "outputs": [
    {
     "name": "stderr",
     "output_type": "stream",
     "text": [
      "/Users/nickhoernle/anaconda2/lib/python2.7/site-packages/sklearn/decomposition/nmf.py:997: DeprecationWarning: Controlling regularization through the sparseness, beta and eta arguments is only available for 'pg' solver, which will be removed in release 0.19. Use another solver with L1 or L2 regularization instead.\n",
      "  \" regularization instead.\", DeprecationWarning)\n"
     ]
    }
   ],
   "source": [
    "model = NMF(n_components = 100, init='nndsvd', random_state=0)\n",
    "model.fit(sparse_matrix_train)\n",
    "W = model.transform(sparse_matrix_train) \n",
    "H = model.components_"
   ]
  },
  {
   "cell_type": "code",
   "execution_count": 8,
   "metadata": {
    "collapsed": false
   },
   "outputs": [],
   "source": [
    "nR = W.dot(H)"
   ]
  },
  {
   "cell_type": "code",
   "execution_count": 9,
   "metadata": {
    "collapsed": false
   },
   "outputs": [
    {
     "name": "stdout",
     "output_type": "stream",
     "text": [
      "User-based CF MSE: 4.00065208347\n"
     ]
    }
   ],
   "source": [
    "print 'User-based CF MSE: ' + str(rmse(nR, sparse_matrix_test))"
   ]
  },
  {
   "cell_type": "code",
   "execution_count": null,
   "metadata": {
    "collapsed": false
   },
   "outputs": [
    {
     "name": "stderr",
     "output_type": "stream",
     "text": [
      "/Users/nickhoernle/anaconda2/lib/python2.7/site-packages/scipy/sparse/compressed.py:213: SparseEfficiencyWarning: Comparing a sparse matrix with 0 using == is inefficient, try using != instead.\n",
      "  \", try using != instead.\", SparseEfficiencyWarning)\n"
     ]
    }
   ],
   "source": []
  },
  {
   "cell_type": "code",
   "execution_count": null,
   "metadata": {
    "collapsed": false
   },
   "outputs": [],
   "source": [
    "sparse_matrix_train.shape"
   ]
  },
  {
   "cell_type": "code",
   "execution_count": null,
   "metadata": {
    "collapsed": true
   },
   "outputs": [],
   "source": [
    "sparse_matrix_test.shape"
   ]
  },
  {
   "cell_type": "code",
   "execution_count": null,
   "metadata": {
    "collapsed": true
   },
   "outputs": [],
   "source": []
  },
  {
   "cell_type": "code",
   "execution_count": 1,
   "metadata": {
    "collapsed": true
   },
   "outputs": [],
   "source": [
    "import nimfa\n",
    "\n",
    "V = nimfa.examples.medulloblastoma.read(normalize=True)\n",
    "\n",
    "lsnmf = nimfa.Lsnmf(V, seed='random_vcol', rank=50, max_iter=100)\n",
    "lsnmf_fit = lsnmf()"
   ]
  },
  {
   "cell_type": "code",
   "execution_count": 8,
   "metadata": {
    "collapsed": false
   },
   "outputs": [],
   "source": [
    "lsnmf = nimfa.Lsnmf(V, seed='random_vcol', rank=50, max_iter=100)\n",
    "lsnmf_fit = lsnmf()"
   ]
  },
  {
   "cell_type": "code",
   "execution_count": 9,
   "metadata": {
    "collapsed": false
   },
   "outputs": [
    {
     "data": {
      "text/plain": [
       "<nimfa.models.mf_fit.Mf_fit instance at 0x106780368>"
      ]
     },
     "execution_count": 9,
     "metadata": {},
     "output_type": "execute_result"
    }
   ],
   "source": [
    "lsnmf_fit"
   ]
  },
  {
   "cell_type": "code",
   "execution_count": null,
   "metadata": {
    "collapsed": true
   },
   "outputs": [],
   "source": []
  },
  {
   "cell_type": "code",
   "execution_count": null,
   "metadata": {
    "collapsed": true
   },
   "outputs": [],
   "source": []
  },
  {
   "cell_type": "code",
   "execution_count": null,
   "metadata": {
    "collapsed": true
   },
   "outputs": [],
   "source": []
  },
  {
   "cell_type": "markdown",
   "metadata": {},
   "source": [
    "L1 Lin Reg"
   ]
  },
  {
   "cell_type": "code",
   "execution_count": 33,
   "metadata": {
    "collapsed": false
   },
   "outputs": [
    {
     "data": {
      "text/plain": [
       "(array([ 253747.,       0.,  179523.,       0.,       0.,   81641.,\n",
       "              0.,   60895.,       0.,   71986.]),\n",
       " array([ 1. ,  1.4,  1.8,  2.2,  2.6,  3. ,  3.4,  3.8,  4.2,  4.6,  5. ]),\n",
       " <a list of 10 Patch objects>)"
      ]
     },
     "execution_count": 33,
     "metadata": {},
     "output_type": "execute_result"
    },
    {
     "data": {
      "image/png": "[encoded data removed]",
      "text/plain": [
       "<matplotlib.figure.Figure at 0x1485e4690>"
      ]
     },
     "metadata": {},
     "output_type": "display_data"
    }
   ],
   "source": [
    "phoenix_reviews['stars'] = (6- phoenix_reviews['stars']).values"
   ]
  },
  {
   "cell_type": "code",
   "execution_count": 41,
   "metadata": {
    "collapsed": false
   },
   "outputs": [],
   "source": [
    "left = phoenix_users_update.set_index('user_id')\n",
    "right = reviews_train.set_index('user_id')\n",
    "res = left.join(right)"
   ]
  },
  {
   "cell_type": "code",
   "execution_count": 45,
   "metadata": {
    "collapsed": false
   },
   "outputs": [],
   "source": [
    "left = reviews_train.rename(columns={'review_count':'bus_review_count', 'stars':'bus_stars'})\n",
    "left = left.set_index('business_id')\n",
    "right = res.set_index('business_id')\n",
    "res = left.join(right)"
   ]
  },
  {
   "cell_type": "code",
   "execution_count": 61,
   "metadata": {
    "collapsed": false
   },
   "outputs": [],
   "source": [
    "X = res.drop('stars', axis=1)\n",
    "y = res['stars']\n",
    "X = X.fillna(0)\n",
    "y = y.fillna(0)"
   ]
  },
  {
   "cell_type": "code",
   "execution_count": 62,
   "metadata": {
    "collapsed": false
   },
   "outputs": [
    {
     "name": "stderr",
     "output_type": "stream",
     "text": [
      "/Users/nickhoernle/anaconda2/lib/python2.7/site-packages/sklearn/linear_model/coordinate_descent.py:484: ConvergenceWarning: Objective did not converge. You might want to increase the number of iterations. Fitting data with very small alpha may cause precision problems.\n",
      "  ConvergenceWarning)\n"
     ]
    },
    {
     "name": "stdout",
     "output_type": "stream",
     "text": [
      "0.364102821816\n",
      "0.363949418371\n",
      "0.363607910135\n",
      "0.363136541781\n",
      "0.36248243265\n",
      "0.35912735206\n"
     ]
    },
    {
     "ename": "KeyboardInterrupt",
     "evalue": "",
     "output_type": "error",
     "traceback": [
      "\u001b[0;31m--------------------------------------\u001b[0m",
      "\u001b[0;31mKeyboardInterrupt\u001b[0mTraceback (most recent call last)",
      "\u001b[0;32m<ipython-input-62-299a4428e87f>\u001b[0m in \u001b[0;36m<module>\u001b[0;34m()\u001b[0m\n\u001b[1;32m      3\u001b[0m \u001b[0;32mfor\u001b[0m \u001b[0mi\u001b[0m \u001b[0;32min\u001b[0m \u001b[0mi_vals\u001b[0m\u001b[0;34m:\u001b[0m\u001b[0;34m\u001b[0m\u001b[0m\n\u001b[1;32m      4\u001b[0m     \u001b[0mlas\u001b[0m \u001b[0;34m=\u001b[0m \u001b[0msklearn\u001b[0m\u001b[0;34m.\u001b[0m\u001b[0mlinear_model\u001b[0m\u001b[0;34m.\u001b[0m\u001b[0mLasso\u001b[0m\u001b[0;34m(\u001b[0m\u001b[0malpha\u001b[0m\u001b[0;34m=\u001b[0m\u001b[0mi\u001b[0m\u001b[0;34m)\u001b[0m\u001b[0;34m\u001b[0m\u001b[0m\n\u001b[0;32m----> 5\u001b[0;31m     \u001b[0mlas\u001b[0m\u001b[0;34m.\u001b[0m\u001b[0mfit\u001b[0m\u001b[0;34m(\u001b[0m\u001b[0mX\u001b[0m\u001b[0;34m,\u001b[0m \u001b[0my\u001b[0m\u001b[0;34m)\u001b[0m\u001b[0;34m\u001b[0m\u001b[0m\n\u001b[0m\u001b[1;32m      6\u001b[0m     \u001b[0ms\u001b[0m \u001b[0;34m=\u001b[0m \u001b[0mlas\u001b[0m\u001b[0;34m.\u001b[0m\u001b[0mscore\u001b[0m\u001b[0;34m(\u001b[0m\u001b[0mX\u001b[0m\u001b[0;34m,\u001b[0m \u001b[0my\u001b[0m\u001b[0;34m)\u001b[0m\u001b[0;34m\u001b[0m\u001b[0m\n\u001b[1;32m      7\u001b[0m     \u001b[0mscores\u001b[0m\u001b[0;34m.\u001b[0m\u001b[0mappend\u001b[0m\u001b[0;34m(\u001b[0m\u001b[0ms\u001b[0m\u001b[0;34m)\u001b[0m\u001b[0;34m\u001b[0m\u001b[0m\n",
      "\u001b[0;32m/Users/nickhoernle/anaconda2/lib/python2.7/site-packages/sklearn/linear_model/coordinate_descent.pyc\u001b[0m in \u001b[0;36mfit\u001b[0;34m(self, X, y, check_input)\u001b[0m\n\u001b[1;32m    725\u001b[0m                           \u001b[0mrandom_state\u001b[0m\u001b[0;34m=\u001b[0m\u001b[0mself\u001b[0m\u001b[0;34m.\u001b[0m\u001b[0mrandom_state\u001b[0m\u001b[0;34m,\u001b[0m\u001b[0;34m\u001b[0m\u001b[0m\n\u001b[1;32m    726\u001b[0m                           \u001b[0mselection\u001b[0m\u001b[0;34m=\u001b[0m\u001b[0mself\u001b[0m\u001b[0;34m.\u001b[0m\u001b[0mselection\u001b[0m\u001b[0;34m,\u001b[0m\u001b[0;34m\u001b[0m\u001b[0m\n\u001b[0;32m--> 727\u001b[0;31m                           check_input=False)\n\u001b[0m\u001b[1;32m    728\u001b[0m             \u001b[0mcoef_\u001b[0m\u001b[0;34m[\u001b[0m\u001b[0mk\u001b[0m\u001b[0;34m]\u001b[0m \u001b[0;34m=\u001b[0m \u001b[0mthis_coef\u001b[0m\u001b[0;34m[\u001b[0m\u001b[0;34m:\u001b[0m\u001b[0;34m,\u001b[0m \u001b[0;36m0\u001b[0m\u001b[0;34m]\u001b[0m\u001b[0;34m\u001b[0m\u001b[0m\n\u001b[1;32m    729\u001b[0m             \u001b[0mdual_gaps_\u001b[0m\u001b[0;34m[\u001b[0m\u001b[0mk\u001b[0m\u001b[0;34m]\u001b[0m \u001b[0;34m=\u001b[0m \u001b[0mthis_dual_gap\u001b[0m\u001b[0;34m[\u001b[0m\u001b[0;36m0\u001b[0m\u001b[0;34m]\u001b[0m\u001b[0;34m\u001b[0m\u001b[0m\n",
      "\u001b[0;32m/Users/nickhoernle/anaconda2/lib/python2.7/site-packages/sklearn/linear_model/coordinate_descent.pyc\u001b[0m in \u001b[0;36menet_path\u001b[0;34m(X, y, l1_ratio, eps, n_alphas, alphas, precompute, Xy, copy_X, coef_init, verbose, return_n_iter, positive, check_input, **params)\u001b[0m\n\u001b[1;32m    468\u001b[0m             model = cd_fast.enet_coordinate_descent(\n\u001b[1;32m    469\u001b[0m                 \u001b[0mcoef_\u001b[0m\u001b[0;34m,\u001b[0m \u001b[0ml1_reg\u001b[0m\u001b[0;34m,\u001b[0m \u001b[0ml2_reg\u001b[0m\u001b[0;34m,\u001b[0m \u001b[0mX\u001b[0m\u001b[0;34m,\u001b[0m \u001b[0my\u001b[0m\u001b[0;34m,\u001b[0m \u001b[0mmax_iter\u001b[0m\u001b[0;34m,\u001b[0m \u001b[0mtol\u001b[0m\u001b[0;34m,\u001b[0m \u001b[0mrng\u001b[0m\u001b[0;34m,\u001b[0m \u001b[0mrandom\u001b[0m\u001b[0;34m,\u001b[0m\u001b[0;34m\u001b[0m\u001b[0m\n\u001b[0;32m--> 470\u001b[0;31m                 positive)\n\u001b[0m\u001b[1;32m    471\u001b[0m         \u001b[0;32melse\u001b[0m\u001b[0;34m:\u001b[0m\u001b[0;34m\u001b[0m\u001b[0m\n\u001b[1;32m    472\u001b[0m             raise ValueError(\"Precompute should be one of True, False, \"\n",
      "\u001b[0;31mKeyboardInterrupt\u001b[0m: "
     ]
    }
   ],
   "source": [
    "scores = []\n",
    "i_vals = np.logspace(-5,5,15)\n",
    "for i in i_vals:\n",
    "    las = sklearn.linear_model.Lasso(alpha=i)\n",
    "    las.fit(X, y)\n",
    "    s = las.score(X, y)\n",
    "    scores.append(s)\n",
    "    print s\n",
    "plt.semilogx(i_vals, scores)"
   ]
  }
 ],
 "metadata": {
  "kernelspec": {
   "display_name": "Python 2",
   "language": "python",
   "name": "python2"
  },
  "language_info": {
   "codemirror_mode": {
    "name": "ipython",
    "version": 2
   },
   "file_extension": ".py",
   "mimetype": "text/x-python",
   "name": "python",
   "nbconvert_exporter": "python",
   "pygments_lexer": "ipython2",
   "version": "2.7.12"
  }
 },
 "nbformat": 4,
 "nbformat_minor": 1
}
