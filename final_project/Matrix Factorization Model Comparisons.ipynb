{
 "cells": [
  {
   "cell_type": "code",
   "execution_count": 4,
   "metadata": {
    "collapsed": true
   },
   "outputs": [],
   "source": [
    "import sys; sys.path.append('../util')\n",
    "from load_yelp_data import load_yelp_dataframe, restaurants_and_bars_in, train_test_split_reviews\n",
    "import numpy as np\n",
    "import matplotlib.pyplot as plt\n",
    "import pandas as pd\n",
    "import graphlab as gl\n",
    "import sklearn.metrics\n",
    "%matplotlib inline"
   ]
  },
  {
   "cell_type": "code",
   "execution_count": 5,
   "metadata": {
    "collapsed": true
   },
   "outputs": [],
   "source": [
    "businesses = load_yelp_dataframe('businesses')\n",
    "reviews = load_yelp_dataframe('reviews')\n",
    "users = load_yelp_dataframe('users')\n",
    "phoenix_restaurants, phoenix_reviews, phoenix_users = restaurants_and_bars_in('Phoenix', businesses, reviews, users)\n",
    "reviews_train, reviews_test = train_test_split_reviews(phoenix_reviews)"
   ]
  },
  {
   "cell_type": "code",
   "execution_count": 6,
   "metadata": {
    "collapsed": false
   },
   "outputs": [],
   "source": [
    "train_sframe_full = gl.SFrame(reviews_train[['business_id', 'user_id', 'stars']])\n",
    "test_sframe_full = gl.SFrame(reviews_test[['business_id', 'user_id', 'stars']])"
   ]
  },
  {
   "cell_type": "markdown",
   "metadata": {},
   "source": [
    "## Matrix Factorization Library Comparisons\n",
    "\n",
    "We're going to try:\n",
    "- [GraphLab Create](https://turi.com/products/create/)'s [FactorizationRecommender](https://turi.com/products/create/docs/generated/graphlab.recommender.factorization_recommender.FactorizationRecommender.html),\n",
    "- [Surprise](http://surpriselib.com/)'s [SVD++](http://surprise.readthedocs.io/en/latest/matrix_factorization.html#surprise.prediction_algorithms.matrix_factorization.SVDpp), and\n",
    "- [Vowpal Wabbit](https://github.com/JohnLangford/vowpal_wabbit)'s [matrix factorization mode](https://github.com/JohnLangford/vowpal_wabbit/wiki/Matrix-factorization-example)"
   ]
  },
  {
   "cell_type": "code",
   "execution_count": 51,
   "metadata": {
    "collapsed": false
   },
   "outputs": [
    {
     "data": {
      "text/html": [
       "<pre>Recsys training: model = factorization_recommender</pre>"
      ],
      "text/plain": [
       "Recsys training: model = factorization_recommender"
      ]
     },
     "metadata": {},
     "output_type": "display_data"
    },
    {
     "name": "stdout",
     "output_type": "stream",
     "text": [
      "train RMSE: 1.07958617612\n",
      " test RMSE: 1.22519726836\n"
     ]
    }
   ],
   "source": [
    "# GraphLab\n",
    "\n",
    "fac_model = gl.factorization_recommender.create(\n",
    "    train_sframe_full, item_id='business_id', target='stars', verbose=False,\n",
    "    num_factors=5, regularization=0.0001, linear_regularization=0.00001)\n",
    "\n",
    "print 'train RMSE:', fac_model.evaluate_rmse(train_sframe_full, target='stars')['rmse_overall']\n",
    "print ' test RMSE:', fac_model.evaluate_rmse(test_sframe_full, target='stars')['rmse_overall']"
   ]
  },
  {
   "cell_type": "code",
   "execution_count": 55,
   "metadata": {
    "collapsed": false
   },
   "outputs": [
    {
     "name": "stdout",
     "output_type": "stream",
     "text": [
      "Evaluating RMSE, MAE of algorithm SVDpp.\n",
      "\n",
      "------------\n",
      "Fold 1\n",
      "RMSE: 1.2344\n",
      "MAE:  0.9943\n",
      "------------\n",
      "------------\n",
      "Mean RMSE: 1.2344\n",
      "Mean MAE : 0.9943\n",
      "------------\n",
      "------------\n"
     ]
    },
    {
     "data": {
      "text/plain": [
       "CaseInsensitiveDefaultDict(list,\n",
       "                           {u'mae': [0.99434851054475049],\n",
       "                            u'rmse': [1.2344357910538006]})"
      ]
     },
     "execution_count": 55,
     "metadata": {},
     "output_type": "execute_result"
    }
   ],
   "source": [
    "# Surprise\n",
    "\n",
    "import surprise\n",
    "\n",
    "def dump_to_file(revs, fname):\n",
    "    with open(fname, 'w') as f:\n",
    "        for r in revs.itertuples():\n",
    "            f.write('{}\\t{}\\t{}\\n'.format(r.user_id, r.business_id, r.stars))   \n",
    "dump_to_file(reviews_train, 'phoenix_reviews.data')\n",
    "dump_to_file(reviews_test, 'phoenix_reviews.test')\n",
    "\n",
    "reader = surprise.Reader(line_format='user item rating', sep='\\t')\n",
    "data = surprise.Dataset.load_from_folds([('phoenix_reviews.data', 'phoenix_reviews.test')], reader=reader)\n",
    "\n",
    "svd_pp = surprise.prediction_algorithms.matrix_factorization.SVDpp()\n",
    "surprise.evaluate(svd_pp, data)"
   ]
  },
  {
   "cell_type": "code",
   "execution_count": 9,
   "metadata": {
    "collapsed": false
   },
   "outputs": [
    {
     "name": "stdout",
     "output_type": "stream",
     "text": [
      "1.23617982193\n"
     ]
    }
   ],
   "source": [
    "# Vowpal Wabbit\n",
    "\n",
    "import matrix_factorization_recommender as mfr\n",
    "\n",
    "def X_and_y_of(df):\n",
    "    return df[['user_id', 'business_id']].values, df['stars'].values\n",
    "X_train, y_train = X_and_y_of(reviews_train)\n",
    "X_test, y_test = X_and_y_of(reviews_test)\n",
    "\n",
    "mf = mfr.MatrixFactorizationRecommender()\n",
    "mf.fit(X_train, y_train)\n",
    "print(mf.rmse(X_test, y_test))"
   ]
  },
  {
   "cell_type": "markdown",
   "metadata": {},
   "source": [
    "It looks like GraphLab performed the best, but I also spent the most time tweaking its regularization parameters, to which all of these models are sensitive :)\n",
    "\n",
    "Let's see if we can do any better using baselines:"
   ]
  },
  {
   "cell_type": "code",
   "execution_count": 10,
   "metadata": {
    "collapsed": false
   },
   "outputs": [],
   "source": [
    "from baseline_calculator import *\n",
    "drbc = DecoupledRegularizedBaselineCalculator()\n",
    "drbc.fit(reviews_train, busi_reg_strength=2.75, user_reg_strength=5.25)\n",
    "drbc.transform(reviews_train, key='baseline_stars')\n",
    "drbc.transform(reviews_test, key='baseline_stars'); None"
   ]
  },
  {
   "cell_type": "code",
   "execution_count": 11,
   "metadata": {
    "collapsed": false
   },
   "outputs": [
    {
     "data": {
      "text/plain": [
       "1.2247480610519876"
      ]
     },
     "execution_count": 11,
     "metadata": {},
     "output_type": "execute_result"
    }
   ],
   "source": [
    "drbc.baseline_rmse(reviews_test)"
   ]
  },
  {
   "cell_type": "code",
   "execution_count": 74,
   "metadata": {
    "collapsed": false
   },
   "outputs": [
    {
     "data": {
      "text/html": [
       "<pre>Recsys training: model = factorization_recommender</pre>"
      ],
      "text/plain": [
       "Recsys training: model = factorization_recommender"
      ]
     },
     "metadata": {},
     "output_type": "display_data"
    },
    {
     "data": {
      "text/plain": [
       "1.2242945186960277"
      ]
     },
     "execution_count": 74,
     "metadata": {},
     "output_type": "execute_result"
    }
   ],
   "source": [
    "train_sframe_base = gl.SFrame(reviews_train[['business_id', 'user_id', 'baseline_stars']])\n",
    "test_sframe_base = gl.SFrame(reviews_test[['business_id', 'user_id', 'baseline_stars']])\n",
    "\n",
    "fac_model2 = gl.factorization_recommender.create(\n",
    "    train_sframe_base, item_id='business_id', target='baseline_stars', verbose=False,\n",
    "    num_factors=10, regularization=0.002, linear_regularization=0.0001)\n",
    "\n",
    "predictions = fac_model2.predict(test_sframe_base)\n",
    "np.sqrt(sklearn.metrics.mean_squared_error(reviews_test.stars, drbc.inverse_transform(reviews_test, predictions)))"
   ]
  },
  {
   "cell_type": "markdown",
   "metadata": {},
   "source": [
    "So we get a lower RMSE using baselines + factorization than we do from baselines or factorization alone -- though not by much, and we had to tweak the regularization parameters a lot. Let's try it using our frequency-based regularization:"
   ]
  },
  {
   "cell_type": "code",
   "execution_count": 14,
   "metadata": {
    "collapsed": false
   },
   "outputs": [],
   "source": [
    "mrbc = MoreThanOneReviewBizBaselineCalculator()\n",
    "mrbc.fit(reviews_train, l2_penalty=4.67, tol=1, maxiters=1000, learning_rate=0.00001, verbose=False)"
   ]
  },
  {
   "cell_type": "code",
   "execution_count": 19,
   "metadata": {
    "collapsed": false
   },
   "outputs": [
    {
     "data": {
      "text/plain": [
       "1.2238666738910313"
      ]
     },
     "execution_count": 19,
     "metadata": {},
     "output_type": "execute_result"
    }
   ],
   "source": [
    "mrbc.transform(reviews_train, key='starz')\n",
    "mrbc.transform(reviews_test, key='starz')\n",
    "mrbc.baseline_rmse(reviews_test)"
   ]
  },
  {
   "cell_type": "code",
   "execution_count": 44,
   "metadata": {
    "collapsed": false
   },
   "outputs": [
    {
     "data": {
      "text/html": [
       "<pre>Recsys training: model = factorization_recommender</pre>"
      ],
      "text/plain": [
       "Recsys training: model = factorization_recommender"
      ]
     },
     "metadata": {},
     "output_type": "display_data"
    },
    {
     "data": {
      "text/plain": [
       "1.223557843800396"
      ]
     },
     "execution_count": 44,
     "metadata": {},
     "output_type": "execute_result"
    }
   ],
   "source": [
    "train_sframe_base = gl.SFrame(reviews_train[['business_id', 'user_id', 'starz']])\n",
    "test_sframe_base = gl.SFrame(reviews_test[['business_id', 'user_id', 'starz']])\n",
    "\n",
    "fac_model2 = gl.factorization_recommender.create(\n",
    "    train_sframe_base, item_id='business_id', target='starz', verbose=False,\n",
    "    num_factors=10, regularization=0.0015, linear_regularization=0.0025)\n",
    "\n",
    "predictions = fac_model2.predict(test_sframe_base)\n",
    "np.sqrt(sklearn.metrics.mean_squared_error(reviews_test.stars, mrbc.inverse_transform(reviews_test, predictions)))"
   ]
  },
  {
   "cell_type": "markdown",
   "metadata": {},
   "source": [
    "So, again we do best with factorization + baselines (+ iterating through parameters), but again not by much."
   ]
  }
 ],
 "metadata": {
  "kernelspec": {
   "display_name": "Python 2",
   "language": "python",
   "name": "python2"
  },
  "language_info": {
   "codemirror_mode": {
    "name": "ipython",
    "version": 2
   },
   "file_extension": ".py",
   "mimetype": "text/x-python",
   "name": "python",
   "nbconvert_exporter": "python",
   "pygments_lexer": "ipython2",
   "version": "2.7.11"
  }
 },
 "nbformat": 4,
 "nbformat_minor": 0
}
