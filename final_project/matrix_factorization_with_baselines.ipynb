{
 "cells": [
  {
   "cell_type": "code",
   "execution_count": 1,
   "metadata": {
    "collapsed": true
   },
   "outputs": [],
   "source": [
    "import sys; sys.path.append('../util')\n",
    "from load_yelp_data import load_yelp_dataframe, restaurants_and_bars_in, train_test_split_reviews\n",
    "import numpy as np\n",
    "import matplotlib.pyplot as plt\n",
    "import pandas as pd\n",
    "import graphlab as gl\n",
    "import sklearn.metrics\n",
    "%matplotlib inline"
   ]
  },
  {
   "cell_type": "code",
   "execution_count": 2,
   "metadata": {
    "collapsed": true
   },
   "outputs": [],
   "source": [
    "businesses = load_yelp_dataframe('businesses')\n",
    "reviews = load_yelp_dataframe('reviews')\n",
    "users = load_yelp_dataframe('users')\n",
    "phoenix_restaurants, phoenix_reviews, phoenix_users = restaurants_and_bars_in('Phoenix', businesses, reviews, users)\n",
    "reviews_train, reviews_test = train_test_split_reviews(phoenix_reviews)"
   ]
  },
  {
   "cell_type": "code",
   "execution_count": 3,
   "metadata": {
    "collapsed": false
   },
   "outputs": [
    {
     "name": "stderr",
     "output_type": "stream",
     "text": [
      "[INFO] graphlab.cython.cy_server: GraphLab Create v2.1 started. Logging: /tmp/graphlab_server_1481138604.log\n"
     ]
    },
    {
     "name": "stdout",
     "output_type": "stream",
     "text": [
      "This non-commercial license of GraphLab Create for academic use is assigned to andrew_ross@g.harvard.edu and will expire on November 23, 2017.\n"
     ]
    }
   ],
   "source": [
    "train_sframe_full = gl.SFrame(reviews_train[['business_id', 'user_id', 'stars']])\n",
    "test_sframe_full = gl.SFrame(reviews_test[['business_id', 'user_id', 'stars']])"
   ]
  },
  {
   "cell_type": "code",
   "execution_count": 72,
   "metadata": {
    "collapsed": false
   },
   "outputs": [
    {
     "data": {
      "text/html": [
       "<pre>Recsys training: model = factorization_recommender</pre>"
      ],
      "text/plain": [
       "Recsys training: model = factorization_recommender"
      ]
     },
     "metadata": {},
     "output_type": "display_data"
    },
    {
     "name": "stdout",
     "output_type": "stream",
     "text": [
      "train RMSE: 1.07959146749\n",
      " test RMSE: 1.22520242033\n"
     ]
    }
   ],
   "source": [
    "fac_model = gl.factorization_recommender.create(\n",
    "    train_sframe_full, item_id='business_id', target='stars', verbose=False,\n",
    "    num_factors=5, regularization=0.0001, linear_regularization=0.00001)\n",
    "\n",
    "print 'train RMSE:', fac_model.evaluate_rmse(train_sframe_full, target='stars')['rmse_overall']\n",
    "print ' test RMSE:', fac_model.evaluate_rmse(test_sframe_full, target='stars')['rmse_overall']"
   ]
  },
  {
   "cell_type": "code",
   "execution_count": 31,
   "metadata": {
    "collapsed": false
   },
   "outputs": [
    {
     "name": "stdout",
     "output_type": "stream",
     "text": [
      "Evaluating RMSE, MAE of algorithm SVDpp.\n",
      "\n",
      "------------\n",
      "Fold 1\n",
      "RMSE: 1.2344\n",
      "MAE:  0.9943\n",
      "------------\n",
      "------------\n",
      "Mean RMSE: 1.2344\n",
      "Mean MAE : 0.9943\n",
      "------------\n",
      "------------\n"
     ]
    },
    {
     "data": {
      "text/plain": [
       "CaseInsensitiveDefaultDict(list,\n",
       "                           {u'mae': [0.99434851054475049],\n",
       "                            u'rmse': [1.2344357910538006]})"
      ]
     },
     "execution_count": 31,
     "metadata": {},
     "output_type": "execute_result"
    }
   ],
   "source": [
    "import surprise\n",
    "\n",
    "def dump_to_file(revs, fname):\n",
    "    with open(fname, 'w') as f:\n",
    "        for r in revs.itertuples():\n",
    "            f.write('{}\\t{}\\t{}\\n'.format(r.user_id, r.business_id, r.stars))   \n",
    "dump_to_file(reviews_train, 'phoenix_reviews.data')\n",
    "dump_to_file(reviews_test, 'phoenix_reviews.test')\n",
    "\n",
    "reader = surprise.Reader(line_format='user item rating', sep='\\t')\n",
    "data = surprise.Dataset.load_from_folds([('phoenix_reviews.data', 'phoenix_reviews.test')], reader=reader)\n",
    "\n",
    "svd_pp = surprise.prediction_algorithms.matrix_factorization.SVDpp()\n",
    "surprise.evaluate(svd_pp, data)"
   ]
  },
  {
   "cell_type": "code",
   "execution_count": 34,
   "metadata": {
    "collapsed": false
   },
   "outputs": [
    {
     "name": "stdout",
     "output_type": "stream",
     "text": [
      "1.23617982193\n"
     ]
    }
   ],
   "source": [
    "import matrix_factorization_recommender as mfr\n",
    "\n",
    "def X_and_y_of(df):\n",
    "    return df[['user_id', 'business_id']].values, df['stars'].values\n",
    "X_train, y_train = X_and_y_of(reviews_train)\n",
    "X_test, y_test = X_and_y_of(reviews_test)\n",
    "\n",
    "mf = mfr.MatrixFactorizationRecommender()\n",
    "mf.fit(X_train, y_train)\n",
    "print(mf.rmse(X_test, y_test))"
   ]
  },
  {
   "cell_type": "code",
   "execution_count": 40,
   "metadata": {
    "collapsed": false
   },
   "outputs": [],
   "source": [
    "from baseline_calculator import *\n",
    "drbc = DecoupledRegularizedBaselineCalculator()\n",
    "drbc.fit(reviews_train, busi_reg_strength=2.75, user_reg_strength=5.25)\n",
    "drbc.transform(reviews_train, key='baseline_stars')\n",
    "drbc.transform(reviews_test, key='baseline_stars'); None"
   ]
  },
  {
   "cell_type": "code",
   "execution_count": 74,
   "metadata": {
    "collapsed": false
   },
   "outputs": [
    {
     "data": {
      "text/html": [
       "<pre>Recsys training: model = factorization_recommender</pre>"
      ],
      "text/plain": [
       "Recsys training: model = factorization_recommender"
      ]
     },
     "metadata": {},
     "output_type": "display_data"
    },
    {
     "data": {
      "text/plain": [
       "1.2242945186960277"
      ]
     },
     "execution_count": 74,
     "metadata": {},
     "output_type": "execute_result"
    }
   ],
   "source": [
    "train_sframe_base = gl.SFrame(reviews_train[['business_id', 'user_id', 'baseline_stars']])\n",
    "test_sframe_base = gl.SFrame(reviews_test[['business_id', 'user_id', 'baseline_stars']])\n",
    "\n",
    "fac_model2 = gl.factorization_recommender.create(\n",
    "    train_sframe_base, item_id='business_id', target='baseline_stars', verbose=False,\n",
    "    num_factors=10, regularization=0.002, linear_regularization=0.0001)\n",
    "\n",
    "predictions = fac_model2.predict(test_sframe_base)\n",
    "np.sqrt(sklearn.metrics.mean_squared_error(reviews_test.stars, drbc.inverse_transform(reviews_test, predictions)))"
   ]
  },
  {
   "cell_type": "code",
   "execution_count": null,
   "metadata": {
    "collapsed": true
   },
   "outputs": [],
   "source": []
  }
 ],
 "metadata": {
  "kernelspec": {
   "display_name": "Python 2",
   "language": "python",
   "name": "python2"
  },
  "language_info": {
   "codemirror_mode": {
    "name": "ipython",
    "version": 2
   },
   "file_extension": ".py",
   "mimetype": "text/x-python",
   "name": "python",
   "nbconvert_exporter": "python",
   "pygments_lexer": "ipython2",
   "version": "2.7.11"
  }
 },
 "nbformat": 4,
 "nbformat_minor": 0
}
