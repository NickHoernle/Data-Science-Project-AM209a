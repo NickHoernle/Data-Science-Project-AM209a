{
 "cells": [
  {
   "cell_type": "code",
   "execution_count": 28,
   "metadata": {
    "collapsed": false
   },
   "outputs": [],
   "source": [
    "import sys; sys.path.append('../util')\n",
    "import mpl_toolkits\n",
    "import numpy as np\n",
    "import matplotlib.pyplot as plt\n",
    "import matplotlib.cm as cm\n",
    "import pandas as pd\n",
    "import matplotlib\n",
    "import collections\n",
    "import ast\n",
    "#install basemap\n",
    "from mpl_toolkits.basemap import Basemap\n",
    "\n",
    "from load_yelp_data import *\n",
    "import graphlab\n",
    "from datetime import date\n",
    "%matplotlib inline\n",
    "\n",
    "from matrix_factorization_recommender import MatrixFactorizationRecommender\n",
    "from simple_averaging_recommender import SimpleAveragingRecommender"
   ]
  },
  {
   "cell_type": "markdown",
   "metadata": {},
   "source": [
    "#### As a baseline for collaborative filtering, we'll train a popularity recommender that just gives every user the most popular recommendations within the category."
   ]
  },
  {
   "cell_type": "code",
   "execution_count": 2,
   "metadata": {
    "collapsed": true
   },
   "outputs": [],
   "source": [
    "businesses = load_yelp_dataframe('businesses').drop('Unnamed: 0', 1)\n",
    "reviews = load_yelp_dataframe('reviews').drop('Unnamed: 0', 1)\n",
    "users = load_yelp_dataframe('users').drop('Unnamed: 0', 1)"
   ]
  },
  {
   "cell_type": "code",
   "execution_count": 3,
   "metadata": {
    "collapsed": false
   },
   "outputs": [
    {
     "data": {
      "text/html": [
       "<div>\n",
       "<table border=\"1\" class=\"dataframe\">\n",
       "  <thead>\n",
       "    <tr style=\"text-align: right;\">\n",
       "      <th></th>\n",
       "      <th>user_id</th>\n",
       "      <th>business_id</th>\n",
       "      <th>year</th>\n",
       "      <th>month</th>\n",
       "      <th>day</th>\n",
       "      <th>stars</th>\n",
       "    </tr>\n",
       "  </thead>\n",
       "  <tbody>\n",
       "    <tr>\n",
       "      <th>0</th>\n",
       "      <td>511457</td>\n",
       "      <td>0</td>\n",
       "      <td>2012</td>\n",
       "      <td>8</td>\n",
       "      <td>1</td>\n",
       "      <td>4</td>\n",
       "    </tr>\n",
       "    <tr>\n",
       "      <th>1</th>\n",
       "      <td>291005</td>\n",
       "      <td>0</td>\n",
       "      <td>2014</td>\n",
       "      <td>2</td>\n",
       "      <td>13</td>\n",
       "      <td>5</td>\n",
       "    </tr>\n",
       "    <tr>\n",
       "      <th>2</th>\n",
       "      <td>551917</td>\n",
       "      <td>0</td>\n",
       "      <td>2015</td>\n",
       "      <td>10</td>\n",
       "      <td>31</td>\n",
       "      <td>5</td>\n",
       "    </tr>\n",
       "    <tr>\n",
       "      <th>3</th>\n",
       "      <td>307072</td>\n",
       "      <td>0</td>\n",
       "      <td>2015</td>\n",
       "      <td>12</td>\n",
       "      <td>26</td>\n",
       "      <td>3</td>\n",
       "    </tr>\n",
       "    <tr>\n",
       "      <th>4</th>\n",
       "      <td>658212</td>\n",
       "      <td>0</td>\n",
       "      <td>2016</td>\n",
       "      <td>4</td>\n",
       "      <td>8</td>\n",
       "      <td>2</td>\n",
       "    </tr>\n",
       "  </tbody>\n",
       "</table>\n",
       "</div>"
      ],
      "text/plain": [
       "   user_id  business_id  year  month  day  stars\n",
       "0   511457            0  2012      8    1      4\n",
       "1   291005            0  2014      2   13      5\n",
       "2   551917            0  2015     10   31      5\n",
       "3   307072            0  2015     12   26      3\n",
       "4   658212            0  2016      4    8      2"
      ]
     },
     "execution_count": 3,
     "metadata": {},
     "output_type": "execute_result"
    }
   ],
   "source": [
    "reviews.head()"
   ]
  },
  {
   "cell_type": "code",
   "execution_count": 7,
   "metadata": {
    "collapsed": false
   },
   "outputs": [
    {
     "name": "stdout",
     "output_type": "stream",
     "text": [
      "int64\n",
      "int64\n",
      "int64\n"
     ]
    }
   ],
   "source": [
    "print(reviews['year'].dtype)\n",
    "print(reviews['day'].dtype)\n",
    "print(reviews['month'].dtype)"
   ]
  },
  {
   "cell_type": "code",
   "execution_count": 9,
   "metadata": {
    "collapsed": false
   },
   "outputs": [],
   "source": [
    "# reviews['date'] = date(reviews['year'], reviews['month'], reviews['day'])\n",
    "reviews['date'] = reviews.apply(lambda x: date(x['year'],x['month'],x['day']),axis=1)"
   ]
  },
  {
   "cell_type": "code",
   "execution_count": 11,
   "metadata": {
    "collapsed": false
   },
   "outputs": [],
   "source": [
    "reviews.head()\n",
    "reviews.to_pickle(\"./reviews_with_date.p\")"
   ]
  },
  {
   "cell_type": "code",
   "execution_count": 12,
   "metadata": {
    "collapsed": true
   },
   "outputs": [],
   "source": [
    "# Classify the datapoints into the cities based on the latitude and the longitude\n",
    "cities = np.array([['Edinburgh', 55.9533, -3.1883, 0, 0],\n",
    "         ['Karlsruhe', 49.0069, 8.4037, 0, 0],\n",
    "         ['Montreal', 45.5017, -73.5673, 0, 0],\n",
    "         ['Waterloo', 43.4643, -80.5204, 0, 0],\n",
    "         ['Pittsburgh', 40.4406, -79.9959, 0, 0],\n",
    "         ['Charlotte', 35.2271, -80.8431, 0, 0],\n",
    "         ['Urbana-Champaign', 40.1106, -88.2073, 0, -150000],\n",
    "         ['Phoenix', 33.4484, -112.0740, 0, 0],\n",
    "         ['Las Vegas', 36.1699, -115.1398, 0, 0],\n",
    "         ['Madison', 43.0731, -89.4012, 0, 0]])\n",
    "lat = np.array(cities[:,1], np.float32)\n",
    "lon = np.array(cities[:,2], np.float32)\n",
    "x_offsets = np.array(cities[:,3], np.float32)\n",
    "y_offsets = np.array(cities[:,4], np.float32)\n",
    "\n",
    "def classify_datapoint_by_latitude_and_longitude(datapoint):\n",
    "#     print datapoint\n",
    "    latitude = datapoint['latitude']\n",
    "    longitude = datapoint['longitude']\n",
    "    distances = (latitude - lat)**2 + (longitude - lon)**2\n",
    "    min_dist = np.argmin(distances)\n",
    "    return cities[min_dist, 0]\n",
    "\n",
    "businesses['location'] = businesses.apply(classify_datapoint_by_latitude_and_longitude, axis=1)"
   ]
  },
  {
   "cell_type": "code",
   "execution_count": 13,
   "metadata": {
    "collapsed": true
   },
   "outputs": [],
   "source": [
    "reviews_w_biz = pd.merge(reviews, businesses, how='inner', on='business_id',\n",
    "         suffixes=('_x', '_y'), copy=True, indicator=False)"
   ]
  },
  {
   "cell_type": "markdown",
   "metadata": {},
   "source": [
    "<font color='blue'>Restrict to restaurants within the two areas we're thinking about. (Of course, people may also want recommendations in cities they're visiting, but we can deal with that later.)</font>"
   ]
  },
  {
   "cell_type": "code",
   "execution_count": 20,
   "metadata": {
    "collapsed": true
   },
   "outputs": [],
   "source": [
    "lv_reviews = reviews_w_biz[reviews_w_biz['location']=='Las Vegas']\n",
    "reviews_lv_rest = lv_reviews[lv_reviews['categories'].apply( lambda x: 'Restaurants' in x)]\n",
    "phx_reviews = reviews_w_biz[reviews_w_biz['location']=='Phoenix']\n",
    "reviews_phx_rest = phx_reviews[phx_reviews['categories'].apply( lambda x: 'Restaurants' in x)]"
   ]
  },
  {
   "cell_type": "code",
   "execution_count": 15,
   "metadata": {
    "collapsed": false
   },
   "outputs": [
    {
     "data": {
      "text/html": [
       "<div>\n",
       "<table border=\"1\" class=\"dataframe\">\n",
       "  <thead>\n",
       "    <tr style=\"text-align: right;\">\n",
       "      <th></th>\n",
       "      <th>user_id</th>\n",
       "      <th>business_id</th>\n",
       "      <th>year</th>\n",
       "      <th>month</th>\n",
       "      <th>day</th>\n",
       "      <th>stars_x</th>\n",
       "      <th>date</th>\n",
       "      <th>attributes</th>\n",
       "      <th>categories</th>\n",
       "      <th>city</th>\n",
       "      <th>...</th>\n",
       "      <th>latitude</th>\n",
       "      <th>longitude</th>\n",
       "      <th>name</th>\n",
       "      <th>neighborhoods</th>\n",
       "      <th>open</th>\n",
       "      <th>review_count</th>\n",
       "      <th>stars_y</th>\n",
       "      <th>state</th>\n",
       "      <th>type</th>\n",
       "      <th>location</th>\n",
       "    </tr>\n",
       "  </thead>\n",
       "  <tbody>\n",
       "    <tr>\n",
       "      <th>201184</th>\n",
       "      <td>420444</td>\n",
       "      <td>8411</td>\n",
       "      <td>2015</td>\n",
       "      <td>1</td>\n",
       "      <td>12</td>\n",
       "      <td>4</td>\n",
       "      <td>2015-01-12</td>\n",
       "      <td>{}</td>\n",
       "      <td>[]</td>\n",
       "      <td>Blue Diamond</td>\n",
       "      <td>...</td>\n",
       "      <td>36.020636</td>\n",
       "      <td>-115.299037</td>\n",
       "      <td>Spring Mountain Ranch</td>\n",
       "      <td>['Southwest']</td>\n",
       "      <td>True</td>\n",
       "      <td>3</td>\n",
       "      <td>4.5</td>\n",
       "      <td>NV</td>\n",
       "      <td>business</td>\n",
       "      <td>Las Vegas</td>\n",
       "    </tr>\n",
       "    <tr>\n",
       "      <th>201185</th>\n",
       "      <td>277412</td>\n",
       "      <td>8411</td>\n",
       "      <td>2015</td>\n",
       "      <td>7</td>\n",
       "      <td>21</td>\n",
       "      <td>5</td>\n",
       "      <td>2015-07-21</td>\n",
       "      <td>{}</td>\n",
       "      <td>[]</td>\n",
       "      <td>Blue Diamond</td>\n",
       "      <td>...</td>\n",
       "      <td>36.020636</td>\n",
       "      <td>-115.299037</td>\n",
       "      <td>Spring Mountain Ranch</td>\n",
       "      <td>['Southwest']</td>\n",
       "      <td>True</td>\n",
       "      <td>3</td>\n",
       "      <td>4.5</td>\n",
       "      <td>NV</td>\n",
       "      <td>business</td>\n",
       "      <td>Las Vegas</td>\n",
       "    </tr>\n",
       "    <tr>\n",
       "      <th>201186</th>\n",
       "      <td>20255</td>\n",
       "      <td>8411</td>\n",
       "      <td>2016</td>\n",
       "      <td>5</td>\n",
       "      <td>23</td>\n",
       "      <td>5</td>\n",
       "      <td>2016-05-23</td>\n",
       "      <td>{}</td>\n",
       "      <td>[]</td>\n",
       "      <td>Blue Diamond</td>\n",
       "      <td>...</td>\n",
       "      <td>36.020636</td>\n",
       "      <td>-115.299037</td>\n",
       "      <td>Spring Mountain Ranch</td>\n",
       "      <td>['Southwest']</td>\n",
       "      <td>True</td>\n",
       "      <td>3</td>\n",
       "      <td>4.5</td>\n",
       "      <td>NV</td>\n",
       "      <td>business</td>\n",
       "      <td>Las Vegas</td>\n",
       "    </tr>\n",
       "    <tr>\n",
       "      <th>201187</th>\n",
       "      <td>67269</td>\n",
       "      <td>8412</td>\n",
       "      <td>2007</td>\n",
       "      <td>4</td>\n",
       "      <td>7</td>\n",
       "      <td>4</td>\n",
       "      <td>2007-04-07</td>\n",
       "      <td>{'Accepts Credit Cards': True, 'Price Range': ...</td>\n",
       "      <td>['Food', 'Grocery', 'Shopping', 'Drugstores']</td>\n",
       "      <td>Henderson</td>\n",
       "      <td>...</td>\n",
       "      <td>36.027902</td>\n",
       "      <td>-115.084131</td>\n",
       "      <td>Smith's Food &amp; Drug Stores</td>\n",
       "      <td>[]</td>\n",
       "      <td>True</td>\n",
       "      <td>28</td>\n",
       "      <td>3.5</td>\n",
       "      <td>NV</td>\n",
       "      <td>business</td>\n",
       "      <td>Las Vegas</td>\n",
       "    </tr>\n",
       "    <tr>\n",
       "      <th>201188</th>\n",
       "      <td>23731</td>\n",
       "      <td>8412</td>\n",
       "      <td>2007</td>\n",
       "      <td>11</td>\n",
       "      <td>27</td>\n",
       "      <td>3</td>\n",
       "      <td>2007-11-27</td>\n",
       "      <td>{'Accepts Credit Cards': True, 'Price Range': ...</td>\n",
       "      <td>['Food', 'Grocery', 'Shopping', 'Drugstores']</td>\n",
       "      <td>Henderson</td>\n",
       "      <td>...</td>\n",
       "      <td>36.027902</td>\n",
       "      <td>-115.084131</td>\n",
       "      <td>Smith's Food &amp; Drug Stores</td>\n",
       "      <td>[]</td>\n",
       "      <td>True</td>\n",
       "      <td>28</td>\n",
       "      <td>3.5</td>\n",
       "      <td>NV</td>\n",
       "      <td>business</td>\n",
       "      <td>Las Vegas</td>\n",
       "    </tr>\n",
       "  </tbody>\n",
       "</table>\n",
       "<p>5 rows × 22 columns</p>\n",
       "</div>"
      ],
      "text/plain": [
       "        user_id  business_id  year  month  day  stars_x        date  \\\n",
       "201184   420444         8411  2015      1   12        4  2015-01-12   \n",
       "201185   277412         8411  2015      7   21        5  2015-07-21   \n",
       "201186    20255         8411  2016      5   23        5  2016-05-23   \n",
       "201187    67269         8412  2007      4    7        4  2007-04-07   \n",
       "201188    23731         8412  2007     11   27        3  2007-11-27   \n",
       "\n",
       "                                               attributes  \\\n",
       "201184                                                 {}   \n",
       "201185                                                 {}   \n",
       "201186                                                 {}   \n",
       "201187  {'Accepts Credit Cards': True, 'Price Range': ...   \n",
       "201188  {'Accepts Credit Cards': True, 'Price Range': ...   \n",
       "\n",
       "                                           categories          city  \\\n",
       "201184                                             []  Blue Diamond   \n",
       "201185                                             []  Blue Diamond   \n",
       "201186                                             []  Blue Diamond   \n",
       "201187  ['Food', 'Grocery', 'Shopping', 'Drugstores']     Henderson   \n",
       "201188  ['Food', 'Grocery', 'Shopping', 'Drugstores']     Henderson   \n",
       "\n",
       "          ...       latitude   longitude                        name  \\\n",
       "201184    ...      36.020636 -115.299037       Spring Mountain Ranch   \n",
       "201185    ...      36.020636 -115.299037       Spring Mountain Ranch   \n",
       "201186    ...      36.020636 -115.299037       Spring Mountain Ranch   \n",
       "201187    ...      36.027902 -115.084131  Smith's Food & Drug Stores   \n",
       "201188    ...      36.027902 -115.084131  Smith's Food & Drug Stores   \n",
       "\n",
       "        neighborhoods  open review_count stars_y  state      type   location  \n",
       "201184  ['Southwest']  True            3     4.5     NV  business  Las Vegas  \n",
       "201185  ['Southwest']  True            3     4.5     NV  business  Las Vegas  \n",
       "201186  ['Southwest']  True            3     4.5     NV  business  Las Vegas  \n",
       "201187             []  True           28     3.5     NV  business  Las Vegas  \n",
       "201188             []  True           28     3.5     NV  business  Las Vegas  \n",
       "\n",
       "[5 rows x 22 columns]"
      ]
     },
     "execution_count": 15,
     "metadata": {},
     "output_type": "execute_result"
    }
   ],
   "source": [
    "lv_reviews.head()"
   ]
  },
  {
   "cell_type": "markdown",
   "metadata": {},
   "source": [
    "<font color='blue'>Restrict to restaurants that have at least 11 reviews, then filter to only the columns we need to train the recommender.</font>"
   ]
  },
  {
   "cell_type": "code",
   "execution_count": 21,
   "metadata": {
    "collapsed": false
   },
   "outputs": [],
   "source": [
    "reviews_lv_rest = reviews_lv_rest[reviews_lv_rest['review_count']>10][['user_id','business_id','stars_x','date','month','year']]\n",
    "reviews_phx_rest = reviews_phx_rest[reviews_phx_rest['review_count']>10][['user_id','business_id','stars_x','date','month','year']]"
   ]
  },
  {
   "cell_type": "code",
   "execution_count": 17,
   "metadata": {
    "collapsed": false
   },
   "outputs": [
    {
     "data": {
      "text/html": [
       "<div>\n",
       "<table border=\"1\" class=\"dataframe\">\n",
       "  <thead>\n",
       "    <tr style=\"text-align: right;\">\n",
       "      <th></th>\n",
       "      <th>user_id</th>\n",
       "      <th>business_id</th>\n",
       "      <th>stars_x</th>\n",
       "      <th>date</th>\n",
       "    </tr>\n",
       "  </thead>\n",
       "  <tbody>\n",
       "    <tr>\n",
       "      <th>201215</th>\n",
       "      <td>67269</td>\n",
       "      <td>8413</td>\n",
       "      <td>1</td>\n",
       "      <td>2007-04-05</td>\n",
       "    </tr>\n",
       "    <tr>\n",
       "      <th>201216</th>\n",
       "      <td>143364</td>\n",
       "      <td>8413</td>\n",
       "      <td>3</td>\n",
       "      <td>2007-12-01</td>\n",
       "    </tr>\n",
       "    <tr>\n",
       "      <th>201217</th>\n",
       "      <td>426091</td>\n",
       "      <td>8413</td>\n",
       "      <td>1</td>\n",
       "      <td>2009-03-27</td>\n",
       "    </tr>\n",
       "    <tr>\n",
       "      <th>201218</th>\n",
       "      <td>505574</td>\n",
       "      <td>8413</td>\n",
       "      <td>1</td>\n",
       "      <td>2009-05-02</td>\n",
       "    </tr>\n",
       "    <tr>\n",
       "      <th>201219</th>\n",
       "      <td>169826</td>\n",
       "      <td>8413</td>\n",
       "      <td>1</td>\n",
       "      <td>2012-02-17</td>\n",
       "    </tr>\n",
       "  </tbody>\n",
       "</table>\n",
       "</div>"
      ],
      "text/plain": [
       "        user_id  business_id  stars_x        date\n",
       "201215    67269         8413        1  2007-04-05\n",
       "201216   143364         8413        3  2007-12-01\n",
       "201217   426091         8413        1  2009-03-27\n",
       "201218   505574         8413        1  2009-05-02\n",
       "201219   169826         8413        1  2012-02-17"
      ]
     },
     "execution_count": 17,
     "metadata": {},
     "output_type": "execute_result"
    }
   ],
   "source": [
    "reviews_lv_rest.head()"
   ]
  },
  {
   "cell_type": "markdown",
   "metadata": {},
   "source": [
    "<font color='blue'>Use the graphlab package to train a popularity recommender and give reviews for the first 5 user_ids.</font>"
   ]
  },
  {
   "cell_type": "code",
   "execution_count": 22,
   "metadata": {
    "collapsed": true
   },
   "outputs": [],
   "source": [
    "reviews_lv_rest['weekday'] = reviews_lv_rest.apply(lambda x: date.weekday(x['date']),axis=1)\n",
    "reviews_phx_rest['weekday'] = reviews_phx_rest.apply(lambda x: date.weekday(x['date']),axis=1)"
   ]
  },
  {
   "cell_type": "code",
   "execution_count": 23,
   "metadata": {
    "collapsed": true
   },
   "outputs": [],
   "source": [
    "reviews_lv_rest['weekday'] = reviews_lv_rest['weekday'].astype(str)\n",
    "reviews_lv_rest['month'] = reviews_lv_rest['month'].astype(str)\n",
    "reviews_lv_rest['year'] = reviews_lv_rest['year'].astype(str)"
   ]
  },
  {
   "cell_type": "code",
   "execution_count": 50,
   "metadata": {
    "collapsed": false
   },
   "outputs": [],
   "source": [
    "reviews_lv_rest['daysold'] = reviews_lv_rest.apply(lambda x: (date.today() - x['date']).days,axis=1)"
   ]
  },
  {
   "cell_type": "code",
   "execution_count": null,
   "metadata": {
    "collapsed": true
   },
   "outputs": [],
   "source": []
  },
  {
   "cell_type": "code",
   "execution_count": 30,
   "metadata": {
    "collapsed": true
   },
   "outputs": [],
   "source": [
    "def train_test_split_reviews(rev, seed=1000, train_size=0.7):\n",
    "    n,m = rev.shape\n",
    "    rev_trn = rev.sample(n=int(train_size*n), replace=False, random_state=seed)\n",
    "    rev_tst = rev.drop(rev_trn.index)\n",
    "    return rev_trn, rev_tst"
   ]
  },
  {
   "cell_type": "code",
   "execution_count": 51,
   "metadata": {
    "collapsed": false
   },
   "outputs": [],
   "source": [
    "reviews_train_lv, reviews_test_lv = train_test_split_reviews(reviews_lv_rest)\n",
    "reviews_train_phx, reviews_test_phx = train_test_split_reviews(reviews_phx_rest)"
   ]
  },
  {
   "cell_type": "code",
   "execution_count": 52,
   "metadata": {
    "collapsed": false
   },
   "outputs": [],
   "source": [
    "train_data_lv = graphlab.SFrame(reviews_train_lv[['user_id','business_id','stars_x','weekday','month','year','daysold']])\n",
    "train_data_phx = graphlab.SFrame(reviews_train_phx[['user_id','business_id','stars_x','weekday']])\n",
    "# test_data = graphlab.SFrame(ratings_test)"
   ]
  },
  {
   "cell_type": "code",
   "execution_count": 53,
   "metadata": {
    "collapsed": true
   },
   "outputs": [],
   "source": [
    "test_data_lv = graphlab.SFrame(reviews_test_lv[['user_id','business_id','stars_x','weekday','month','year','daysold']])\n",
    "test_data_phx = graphlab.SFrame(reviews_test_phx[['user_id','business_id','stars_x','weekday']])"
   ]
  },
  {
   "cell_type": "code",
   "execution_count": 54,
   "metadata": {
    "collapsed": false
   },
   "outputs": [
    {
     "name": "stdout",
     "output_type": "stream",
     "text": [
      "PROGRESS: Recsys training: model = factorization_recommender\n",
      "PROGRESS: Preparing data set.\n",
      "PROGRESS:     Data has 459261 observations with 181033 users and 4582 items.\n",
      "PROGRESS:     Data prepared in: 2.11991s\n",
      "PROGRESS: Training factorization_recommender for recommendations.\n",
      "PROGRESS: +--------------------------------+--------------------------------------------------+----------+\n",
      "PROGRESS: | Parameter                      | Description                                      | Value    |\n",
      "PROGRESS: +--------------------------------+--------------------------------------------------+----------+\n",
      "PROGRESS: | num_factors                    | Factor Dimension                                 | 8        |\n",
      "PROGRESS: | regularization                 | L2 Regularization on Factors                     | 1e-08    |\n",
      "PROGRESS: | solver                         | Solver used for training                         | adagrad  |\n",
      "PROGRESS: | linear_regularization          | L2 Regularization on Linear Coefficients         | 1e-10    |\n",
      "PROGRESS: | max_iterations                 | Maximum Number of Iterations                     | 50       |\n",
      "PROGRESS: +--------------------------------+--------------------------------------------------+----------+\n",
      "PROGRESS:   Optimizing model using SGD; tuning step size.\n",
      "PROGRESS:   Using 57407 / 459261 points for tuning the step size.\n",
      "PROGRESS: +---------+-------------------+------------------------------------------+\n",
      "PROGRESS: | Attempt | Initial Step Size | Estimated Objective Value                |\n",
      "PROGRESS: +---------+-------------------+------------------------------------------+\n",
      "PROGRESS: | 0       | 8.33333           | Not Viable                               |\n",
      "PROGRESS: | 1       | 2.08333           | 0.688365                                 |\n",
      "PROGRESS: | 2       | 1.04167           | 0.178994                                 |\n",
      "PROGRESS: | 3       | 0.520833          | Not Viable                               |\n",
      "PROGRESS: | 4       | 0.130208          | 0.0777719                                |\n",
      "PROGRESS: | 5       | 0.0651042         | 0.169478                                 |\n",
      "PROGRESS: +---------+-------------------+------------------------------------------+\n",
      "PROGRESS: | Final   | 0.130208          | 0.0777719                                |\n",
      "PROGRESS: +---------+-------------------+------------------------------------------+\n",
      "PROGRESS: Starting Optimization.\n",
      "PROGRESS: +---------+--------------+-------------------+-----------------------+-------------+\n",
      "PROGRESS: | Iter.   | Elapsed Time | Approx. Objective | Approx. Training RMSE | Step Size   |\n",
      "PROGRESS: +---------+--------------+-------------------+-----------------------+-------------+\n",
      "PROGRESS: | Initial | 451us        | 1.75906           | 1.3263                |             |\n",
      "PROGRESS: +---------+--------------+-------------------+-----------------------+-------------+\n",
      "PROGRESS: | 1       | 408.06ms     | 1.51991           | 1.23269               | 0.130208    |\n",
      "PROGRESS: | 2       | 680.336ms    | 0.980482          | 0.989901              | 0.130208    |\n",
      "PROGRESS: | 3       | 1.04s        | 0.650167          | 0.805882              | 0.130208    |\n",
      "PROGRESS: | 4       | 1.52s        | 0.477588          | 0.690488              | 0.130208    |\n",
      "PROGRESS: | 5       | 2.06s        | 0.390015          | 0.623809              | 0.130208    |\n",
      "PROGRESS: | 6       | 2.46s        | 0.338746          | 0.581225              | 0.130208    |\n",
      "PROGRESS: | 10      | 3.84s        | 0.251935          | 0.500907              | 0.130208    |\n",
      "PROGRESS: | 11      | 4.11s        | 0.241254          | 0.490112              | 0.130208    |\n",
      "PROGRESS: | 15      | 5.27s        | 0.212472          | 0.45976               | 0.130208    |\n",
      "PROGRESS: | 20      | 6.70s        | 0.192157          | 0.437061              | 0.130208    |\n",
      "PROGRESS: | 25      | 8.14s        | 0.179286          | 0.422044              | 0.130208    |\n",
      "PROGRESS: | 30      | 9.60s        | 0.170184          | 0.41109               | 0.130208    |\n",
      "PROGRESS: | 35      | 11.02s       | 0.163299          | 0.402603              | 0.130208    |\n",
      "PROGRESS: | 40      | 12.45s       | 0.157759          | 0.395641              | 0.130208    |\n",
      "PROGRESS: | 45      | 14.09s       | 0.153396          | 0.390068              | 0.130208    |\n",
      "PROGRESS: | 50      | 15.61s       | 0.149603          | 0.385157              | 0.130208    |\n",
      "PROGRESS: +---------+--------------+-------------------+-----------------------+-------------+\n",
      "PROGRESS: Optimization Complete: Maximum number of passes through the data reached.\n",
      "PROGRESS: Computing final objective value and training RMSE.\n",
      "PROGRESS:        Final objective value: 0.138064\n",
      "PROGRESS:        Final training RMSE: 0.369874\n"
     ]
    }
   ],
   "source": [
    "factorization_model_lv = graphlab.factorization_recommender.create(train_data_lv, user_id='user_id', item_id='business_id', target='stars_x')"
   ]
  },
  {
   "cell_type": "code",
   "execution_count": 55,
   "metadata": {
    "collapsed": false
   },
   "outputs": [],
   "source": [
    "train_rmse = factorization_model_lv.evaluate_rmse(train_data_lv, target='stars_x')['rmse_overall']\n",
    "test_rmse = factorization_model_lv.evaluate_rmse(test_data_lv, target='stars_x')['rmse_overall']\n"
   ]
  },
  {
   "cell_type": "code",
   "execution_count": 56,
   "metadata": {
    "collapsed": false
   },
   "outputs": [
    {
     "name": "stdout",
     "output_type": "stream",
     "text": [
      "0.369872145036 1.42467715172\n"
     ]
    }
   ],
   "source": [
    "print train_rmse, test_rmse"
   ]
  },
  {
   "cell_type": "markdown",
   "metadata": {},
   "source": [
    "##### using time as observation data"
   ]
  },
  {
   "cell_type": "code",
   "execution_count": 57,
   "metadata": {
    "collapsed": false
   },
   "outputs": [
    {
     "name": "stdout",
     "output_type": "stream",
     "text": [
      "PROGRESS: Recsys training: model = factorization_recommender\n",
      "-10 0.370664363197 1.4288734905\n",
      "PROGRESS: Recsys training: model = factorization_recommender\n",
      "-9 0.367329049166 1.42391769423\n",
      "PROGRESS: Recsys training: model = factorization_recommender\n",
      "-8 0.333853057817 1.48763644987\n",
      "PROGRESS: Recsys training: model = factorization_recommender\n",
      "-7 0.33310364066 1.47881566163\n",
      "PROGRESS: Recsys training: model = factorization_recommender\n",
      "-6 0.337263528949 1.44689196158\n",
      "PROGRESS: Recsys training: model = factorization_recommender\n",
      "-5 0.533884273386 1.35352096285\n",
      "PROGRESS: Recsys training: model = factorization_recommender\n",
      "-4 0.835146968511 1.28751671957\n",
      "PROGRESS: Recsys training: model = factorization_recommender\n",
      "-3 0.89320255564 1.24009145897\n",
      "PROGRESS: Recsys training: model = factorization_recommender\n",
      "-2 1.13671430956 1.20712956793\n",
      "PROGRESS: Recsys training: model = factorization_recommender\n",
      "-1 1.26542248199 1.27482498926\n",
      "PROGRESS: Recsys training: model = factorization_recommender\n",
      "0 1.31666621052 1.31802671082\n"
     ]
    }
   ],
   "source": [
    "for i in range(-10, 1):\n",
    "    reg = 10**i\n",
    "    factorization_model_lv = graphlab.factorization_recommender.create(train_data_lv, user_id='user_id', item_id='business_id', target='stars_x', user_data='verbose=False, regularization=reg)\n",
    "    train_rmse = factorization_model_lv.evaluate_rmse(train_data_lv, target='stars_x')['rmse_overall']\n",
    "    test_rmse = factorization_model_lv.evaluate_rmse(test_data_lv, target='stars_x')['rmse_overall']\n",
    "    print i, train_rmse, test_rmse"
   ]
  },
  {
   "cell_type": "markdown",
   "metadata": {},
   "source": [
    "##### using time as item data"
   ]
  },
  {
   "cell_type": "code",
   "execution_count": 70,
   "metadata": {
    "collapsed": false
   },
   "outputs": [
    {
     "name": "stdout",
     "output_type": "stream",
     "text": [
      "PROGRESS: Recsys training: model = factorization_recommender\n",
      "-10 0.340626715507 1.48286987489\n",
      "PROGRESS: Recsys training: model = factorization_recommender\n",
      "-9 0.344172859069 1.47286021659\n",
      "PROGRESS: Recsys training: model = factorization_recommender\n",
      "-8 0.348220326 1.48089317482\n",
      "PROGRESS: Recsys training: model = factorization_recommender\n",
      "-7 0.341085450751 1.47766309786\n",
      "PROGRESS: Recsys training: model = factorization_recommender\n",
      "-6 0.369343670551 1.42308159537\n",
      "PROGRESS: Recsys training: model = factorization_recommender\n",
      "-5 0.480283903815 1.38235746401\n",
      "PROGRESS: Recsys training: model = factorization_recommender\n",
      "-4 0.738824066236 1.29308312903\n",
      "PROGRESS: Recsys training: model = factorization_recommender\n",
      "-3 0.911907652166 1.23250098849\n",
      "PROGRESS: Recsys training: model = factorization_recommender\n",
      "-2 1.14641327854 1.20850276612\n",
      "PROGRESS: Recsys training: model = factorization_recommender\n",
      "-1 1.26651579297 1.27483702658\n",
      "PROGRESS: Recsys training: model = factorization_recommender\n",
      "0 1.31560558993 1.31690908409\n"
     ]
    }
   ],
   "source": [
    "for i in range(-10, 1):\n",
    "    reg = 10**i\n",
    "    factorization_model_lv = graphlab.factorization_recommender.create(train_data_lv, item_data=train_data_lv[['business_id','weekday','month','year','daysold']], user_id='user_id', item_id='business_id', target='stars_x', verbose=False, regularization=reg)\n",
    "    train_rmse = factorization_model_lv.evaluate_rmse(train_data_lv, target='stars_x')['rmse_overall']\n",
    "    test_rmse = factorization_model_lv.evaluate_rmse(test_data_lv, target='stars_x')['rmse_overall']\n",
    "    print i, train_rmse, test_rmse"
   ]
  },
  {
   "cell_type": "code",
   "execution_count": 66,
   "metadata": {
    "collapsed": false
   },
   "outputs": [
    {
     "name": "stdout",
     "output_type": "stream",
     "text": [
      "PROGRESS: Recsys training: model = factorization_recommender\n"
     ]
    },
    {
     "data": {
      "text/plain": [
       "Class                           : FactorizationRecommender\n",
       "\n",
       "Schema\n",
       "------\n",
       "User ID                         : user_id\n",
       "Item ID                         : business_id\n",
       "Target                          : stars_x\n",
       "Additional observation features : 4\n",
       "Number of user side features    : 0\n",
       "Number of item side features    : 5\n",
       "\n",
       "Statistics\n",
       "----------\n",
       "Number of observations          : 459261\n",
       "Number of users                 : 181033\n",
       "Number of items                 : 4582\n",
       "\n",
       "Training summary\n",
       "----------------\n",
       "Training time                   : 21.7944\n",
       "\n",
       "Settings\n",
       "--------\n",
       "additional_iterations_if_unhealthy: 5\n",
       "sgd_step_adjustment_interval    : 4\n",
       "num_factors                     : 8\n",
       "init_random_sigma               : 0.01\n",
       "max_iterations                  : 50\n",
       "regularization_type             : normal\n",
       "side_data_factorization         : 1\n",
       "regularization                  : 0.01\n",
       "adagrad_momentum_weighting      : 0.9\n",
       "num_tempering_iterations        : 4\n",
       "sgd_step_size                   : 0.0\n",
       "sgd_trial_sample_proportion     : 0.125\n",
       "sgd_sampling_block_size         : 131072\n",
       "binary_target                   : 0\n",
       "nmf                             : 0\n",
       "track_exact_loss                : 0\n",
       "sgd_trial_sample_minimum_size   : 10000\n",
       "sgd_convergence_interval        : 4\n",
       "solver                          : auto\n",
       "tempering_regularization_start_value: 0.0\n",
       "sgd_convergence_threshold       : 0.0\n",
       "sgd_max_trial_iterations        : 5\n",
       "step_size_decrease_rate         : 0.75\n",
       "linear_regularization           : 0.0"
      ]
     },
     "execution_count": 66,
     "metadata": {},
     "output_type": "execute_result"
    }
   ],
   "source": [
    "factorization_model_lv = graphlab.factorization_recommender.create(train_data_lv, item_data=train_data_lv[['business_id','weekday','month','year','daysold']], user_id='user_id', item_id='business_id', target='stars_x', verbose=False, regularization=10**-2)\n",
    "# factorization_model_lv['coefficients']\n",
    "factorization_model_lv"
   ]
  },
  {
   "cell_type": "code",
   "execution_count": 69,
   "metadata": {
    "collapsed": false
   },
   "outputs": [
    {
     "name": "stdout",
     "output_type": "stream",
     "text": [
      "0 1.14644149759 1.20856772828\n"
     ]
    },
    {
     "data": {
      "text/plain": [
       "Class                           : FactorizationRecommender\n",
       "\n",
       "Schema\n",
       "------\n",
       "User ID                         : user_id\n",
       "Item ID                         : business_id\n",
       "Target                          : stars_x\n",
       "Additional observation features : 4\n",
       "Number of user side features    : 0\n",
       "Number of item side features    : 5\n",
       "\n",
       "Statistics\n",
       "----------\n",
       "Number of observations          : 459261\n",
       "Number of users                 : 181033\n",
       "Number of items                 : 4582\n",
       "\n",
       "Training summary\n",
       "----------------\n",
       "Training time                   : 21.7944\n",
       "\n",
       "Settings\n",
       "--------\n",
       "additional_iterations_if_unhealthy: 5\n",
       "sgd_step_adjustment_interval    : 4\n",
       "num_factors                     : 8\n",
       "init_random_sigma               : 0.01\n",
       "max_iterations                  : 50\n",
       "regularization_type             : normal\n",
       "side_data_factorization         : 1\n",
       "regularization                  : 0.01\n",
       "adagrad_momentum_weighting      : 0.9\n",
       "num_tempering_iterations        : 4\n",
       "sgd_step_size                   : 0.0\n",
       "sgd_trial_sample_proportion     : 0.125\n",
       "sgd_sampling_block_size         : 131072\n",
       "binary_target                   : 0\n",
       "nmf                             : 0\n",
       "track_exact_loss                : 0\n",
       "sgd_trial_sample_minimum_size   : 10000\n",
       "sgd_convergence_interval        : 4\n",
       "solver                          : auto\n",
       "tempering_regularization_start_value: 0.0\n",
       "sgd_convergence_threshold       : 0.0\n",
       "sgd_max_trial_iterations        : 5\n",
       "step_size_decrease_rate         : 0.75\n",
       "linear_regularization           : 0.0"
      ]
     },
     "execution_count": 69,
     "metadata": {},
     "output_type": "execute_result"
    }
   ],
   "source": [
    "train_rmse = factorization_model_lv.evaluate_rmse(train_data_lv, target='stars_x')['rmse_overall']\n",
    "test_rmse = factorization_model_lv.evaluate_rmse(test_data_lv, target='stars_x')['rmse_overall']\n",
    "print i, train_rmse, test_rmse\n",
    "factorization_model_lv"
   ]
  },
  {
   "cell_type": "code",
   "execution_count": 43,
   "metadata": {
    "collapsed": false
   },
   "outputs": [
    {
     "name": "stdout",
     "output_type": "stream",
     "text": [
      "PROGRESS: Recsys training: model = factorization_recommender\n",
      "-6 0.183475181998 1.38323866462\n",
      "PROGRESS: Recsys training: model = factorization_recommender\n",
      "-5 0.327736671835 1.42133769287\n",
      "PROGRESS: Recsys training: model = factorization_recommender\n",
      "-4 0.83366652168 1.28969910987\n",
      "PROGRESS: Recsys training: model = factorization_recommender\n",
      "-3 0.887667816958 1.24265434239\n",
      "PROGRESS: Recsys training: model = factorization_recommender\n",
      "-2 1.13354533158 1.20666313424\n",
      "PROGRESS: Recsys training: model = factorization_recommender\n",
      "-1 1.26471161374 1.2744630567\n",
      "PROGRESS: Recsys training: model = factorization_recommender\n",
      "0 1.31679459117 1.31810369606\n"
     ]
    }
   ],
   "source": [
    "for i in range(-6, 1):\n",
    "    reg = 10**i\n",
    "    factorization_model_lv = graphlab.factorization_recommender.create(train_data_lv, user_id='user_id', item_id='business_id', target='stars_x', verbose=False, regularization=reg, num_factors=20)\n",
    "    train_rmse = factorization_model_lv.evaluate_rmse(train_data_lv, target='stars_x')['rmse_overall']\n",
    "    test_rmse = factorization_model_lv.evaluate_rmse(test_data_lv, target='stars_x')['rmse_overall']\n",
    "    print i, train_rmse, test_rmse"
   ]
  },
  {
   "cell_type": "code",
   "execution_count": 20,
   "metadata": {
    "collapsed": false
   },
   "outputs": [
    {
     "name": "stdout",
     "output_type": "stream",
     "text": [
      "PROGRESS: Recsys training: model = popularity\n",
      "PROGRESS: Preparing data set.\n",
      "PROGRESS:     Data has 656088 observations with 224014 users and 4582 items.\n",
      "PROGRESS:     Data prepared in: 1.19646s\n",
      "PROGRESS: 656088 observations to process; with 4582 unique items.\n",
      "PROGRESS: 656088 observations processed.\n",
      "PROGRESS: Number observations / second: 7.23536e+06\n",
      "PROGRESS: Computing nearest neighbors model for item similarity queries.\n",
      "PROGRESS: +------------+--------------+\n",
      "PROGRESS: | Tree level | Elapsed Time |\n",
      "PROGRESS: +------------+--------------+\n",
      "PROGRESS: | 0          | 2.658ms      |\n",
      "PROGRESS: | 1          | 5.173ms      |\n",
      "PROGRESS: | 2          | 7.832ms      |\n",
      "PROGRESS: | 3          | 9.296ms      |\n",
      "PROGRESS: +------------+--------------+\n"
     ]
    }
   ],
   "source": [
    "popularity_model_lv = graphlab.popularity_recommender.create(train_data_lv, user_id='user_id', item_id='business_id', target='stars_x')"
   ]
  },
  {
   "cell_type": "code",
   "execution_count": null,
   "metadata": {
    "collapsed": true
   },
   "outputs": [],
   "source": [
    "popularity_model_lv = graphlab.popularity_recommender.create(train_data_lv, user_id='user_id', item_id='business_id', target='stars_x')"
   ]
  },
  {
   "cell_type": "code",
   "execution_count": 21,
   "metadata": {
    "collapsed": false
   },
   "outputs": [
    {
     "name": "stdout",
     "output_type": "stream",
     "text": [
      "+---------+-------------+-------+------+\n",
      "| user_id | business_id | score | rank |\n",
      "+---------+-------------+-------+------+\n",
      "|    1    |    83929    |  5.0  |  1   |\n",
      "|    1    |    83406    |  5.0  |  2   |\n",
      "|    1    |    81070    |  5.0  |  3   |\n",
      "|    1    |    28456    |  5.0  |  4   |\n",
      "|    1    |    65521    |  5.0  |  5   |\n",
      "|    2    |    83929    |  5.0  |  1   |\n",
      "|    2    |    83406    |  5.0  |  2   |\n",
      "|    2    |    81070    |  5.0  |  3   |\n",
      "|    2    |    28456    |  5.0  |  4   |\n",
      "|    2    |    65521    |  5.0  |  5   |\n",
      "|    3    |    83929    |  5.0  |  1   |\n",
      "|    3    |    83406    |  5.0  |  2   |\n",
      "|    3    |    81070    |  5.0  |  3   |\n",
      "|    3    |    28456    |  5.0  |  4   |\n",
      "|    3    |    65521    |  5.0  |  5   |\n",
      "|    4    |    83929    |  5.0  |  1   |\n",
      "|    4    |    83406    |  5.0  |  2   |\n",
      "|    4    |    81070    |  5.0  |  3   |\n",
      "|    4    |    28456    |  5.0  |  4   |\n",
      "|    4    |    65521    |  5.0  |  5   |\n",
      "|    5    |    83929    |  5.0  |  1   |\n",
      "|    5    |    83406    |  5.0  |  2   |\n",
      "|    5    |    81070    |  5.0  |  3   |\n",
      "|    5    |    28456    |  5.0  |  4   |\n",
      "|    5    |    65521    |  5.0  |  5   |\n",
      "+---------+-------------+-------+------+\n",
      "[25 rows x 4 columns]\n",
      "\n"
     ]
    }
   ],
   "source": [
    "popularity_recomm_lv = popularity_model_lv.recommend(users=range(1,6),k=5)\n",
    "popularity_recomm_lv.print_rows(num_rows=25)"
   ]
  },
  {
   "cell_type": "code",
   "execution_count": 35,
   "metadata": {
    "collapsed": false
   },
   "outputs": [
    {
     "data": {
      "text/html": [
       "<div>\n",
       "<table border=\"1\" class=\"dataframe\">\n",
       "  <thead>\n",
       "    <tr style=\"text-align: right;\">\n",
       "      <th></th>\n",
       "      <th>attributes</th>\n",
       "      <th>business_id</th>\n",
       "      <th>categories</th>\n",
       "      <th>city</th>\n",
       "      <th>full_address</th>\n",
       "      <th>hours</th>\n",
       "      <th>latitude</th>\n",
       "      <th>longitude</th>\n",
       "      <th>name</th>\n",
       "      <th>neighborhoods</th>\n",
       "      <th>open</th>\n",
       "      <th>review_count</th>\n",
       "      <th>stars</th>\n",
       "      <th>state</th>\n",
       "      <th>type</th>\n",
       "      <th>location</th>\n",
       "    </tr>\n",
       "  </thead>\n",
       "  <tbody>\n",
       "    <tr>\n",
       "      <th>28456</th>\n",
       "      <td>{'Accepts Credit Cards': True, 'Noise Level': ...</td>\n",
       "      <td>28456</td>\n",
       "      <td>['Arts &amp; Entertainment', 'Casinos', 'Asian Fus...</td>\n",
       "      <td>Las Vegas</td>\n",
       "      <td>The Venetian Resort Hotel Casino\\n3355 Las Veg...</td>\n",
       "      <td>{}</td>\n",
       "      <td>36.122084</td>\n",
       "      <td>-115.168032</td>\n",
       "      <td>The Paiza Club</td>\n",
       "      <td>['The Strip']</td>\n",
       "      <td>True</td>\n",
       "      <td>15</td>\n",
       "      <td>5.0</td>\n",
       "      <td>NV</td>\n",
       "      <td>business</td>\n",
       "      <td>Las Vegas</td>\n",
       "    </tr>\n",
       "    <tr>\n",
       "      <th>65521</th>\n",
       "      <td>{'Accepts Credit Cards': True, 'By Appointment...</td>\n",
       "      <td>65521</td>\n",
       "      <td>['Food', 'Food Delivery Services', 'Gluten-Fre...</td>\n",
       "      <td>Las Vegas</td>\n",
       "      <td>Northwest\\nLas Vegas, NV 89128</td>\n",
       "      <td>{}</td>\n",
       "      <td>36.233048</td>\n",
       "      <td>-115.246776</td>\n",
       "      <td>Body Food Kitchen</td>\n",
       "      <td>['Northwest']</td>\n",
       "      <td>False</td>\n",
       "      <td>12</td>\n",
       "      <td>5.0</td>\n",
       "      <td>NV</td>\n",
       "      <td>business</td>\n",
       "      <td>Las Vegas</td>\n",
       "    </tr>\n",
       "    <tr>\n",
       "      <th>81070</th>\n",
       "      <td>{'Accepts Credit Cards': True, 'Noise Level': ...</td>\n",
       "      <td>81070</td>\n",
       "      <td>['Mexican', 'Food', 'Caterers', 'Event Plannin...</td>\n",
       "      <td>Las Vegas</td>\n",
       "      <td>2901 N Rancho Dr\\nLas Vegas, NV 89130</td>\n",
       "      <td>{}</td>\n",
       "      <td>36.212461</td>\n",
       "      <td>-115.208646</td>\n",
       "      <td>Taco Naco</td>\n",
       "      <td>[]</td>\n",
       "      <td>True</td>\n",
       "      <td>13</td>\n",
       "      <td>5.0</td>\n",
       "      <td>NV</td>\n",
       "      <td>business</td>\n",
       "      <td>Las Vegas</td>\n",
       "    </tr>\n",
       "    <tr>\n",
       "      <th>83406</th>\n",
       "      <td>{'Accepts Credit Cards': True, 'Good for Kids'...</td>\n",
       "      <td>83406</td>\n",
       "      <td>['Food', 'Food Delivery Services', 'American (...</td>\n",
       "      <td>Las Vegas</td>\n",
       "      <td>6475 W Charleston Blvd\\nSte 110\\nWestside\\nLas...</td>\n",
       "      <td>{'Monday': {'close': '18:00', 'open': '09:00'}...</td>\n",
       "      <td>36.158604</td>\n",
       "      <td>-115.236715</td>\n",
       "      <td>Modern Proteins</td>\n",
       "      <td>['Westside']</td>\n",
       "      <td>True</td>\n",
       "      <td>27</td>\n",
       "      <td>5.0</td>\n",
       "      <td>NV</td>\n",
       "      <td>business</td>\n",
       "      <td>Las Vegas</td>\n",
       "    </tr>\n",
       "    <tr>\n",
       "      <th>83929</th>\n",
       "      <td>{'Accepts Credit Cards': True, 'Noise Level': ...</td>\n",
       "      <td>83929</td>\n",
       "      <td>['Japanese', 'Restaurants']</td>\n",
       "      <td>Las Vegas</td>\n",
       "      <td>7331 W. Lake Mead Blvd.\\nSte 104\\nLas Vegas, N...</td>\n",
       "      <td>{'Monday': {'close': '22:30', 'open': '18:00'}...</td>\n",
       "      <td>36.194769</td>\n",
       "      <td>-115.252472</td>\n",
       "      <td>Kame Omakase</td>\n",
       "      <td>[]</td>\n",
       "      <td>True</td>\n",
       "      <td>22</td>\n",
       "      <td>5.0</td>\n",
       "      <td>NV</td>\n",
       "      <td>business</td>\n",
       "      <td>Las Vegas</td>\n",
       "    </tr>\n",
       "  </tbody>\n",
       "</table>\n",
       "</div>"
      ],
      "text/plain": [
       "                                              attributes  business_id  \\\n",
       "28456  {'Accepts Credit Cards': True, 'Noise Level': ...        28456   \n",
       "65521  {'Accepts Credit Cards': True, 'By Appointment...        65521   \n",
       "81070  {'Accepts Credit Cards': True, 'Noise Level': ...        81070   \n",
       "83406  {'Accepts Credit Cards': True, 'Good for Kids'...        83406   \n",
       "83929  {'Accepts Credit Cards': True, 'Noise Level': ...        83929   \n",
       "\n",
       "                                              categories       city  \\\n",
       "28456  ['Arts & Entertainment', 'Casinos', 'Asian Fus...  Las Vegas   \n",
       "65521  ['Food', 'Food Delivery Services', 'Gluten-Fre...  Las Vegas   \n",
       "81070  ['Mexican', 'Food', 'Caterers', 'Event Plannin...  Las Vegas   \n",
       "83406  ['Food', 'Food Delivery Services', 'American (...  Las Vegas   \n",
       "83929                        ['Japanese', 'Restaurants']  Las Vegas   \n",
       "\n",
       "                                            full_address  \\\n",
       "28456  The Venetian Resort Hotel Casino\\n3355 Las Veg...   \n",
       "65521                     Northwest\\nLas Vegas, NV 89128   \n",
       "81070              2901 N Rancho Dr\\nLas Vegas, NV 89130   \n",
       "83406  6475 W Charleston Blvd\\nSte 110\\nWestside\\nLas...   \n",
       "83929  7331 W. Lake Mead Blvd.\\nSte 104\\nLas Vegas, N...   \n",
       "\n",
       "                                                   hours   latitude  \\\n",
       "28456                                                 {}  36.122084   \n",
       "65521                                                 {}  36.233048   \n",
       "81070                                                 {}  36.212461   \n",
       "83406  {'Monday': {'close': '18:00', 'open': '09:00'}...  36.158604   \n",
       "83929  {'Monday': {'close': '22:30', 'open': '18:00'}...  36.194769   \n",
       "\n",
       "        longitude               name  neighborhoods   open  review_count  \\\n",
       "28456 -115.168032     The Paiza Club  ['The Strip']   True            15   \n",
       "65521 -115.246776  Body Food Kitchen  ['Northwest']  False            12   \n",
       "81070 -115.208646          Taco Naco             []   True            13   \n",
       "83406 -115.236715    Modern Proteins   ['Westside']   True            27   \n",
       "83929 -115.252472       Kame Omakase             []   True            22   \n",
       "\n",
       "       stars state      type   location  \n",
       "28456    5.0    NV  business  Las Vegas  \n",
       "65521    5.0    NV  business  Las Vegas  \n",
       "81070    5.0    NV  business  Las Vegas  \n",
       "83406    5.0    NV  business  Las Vegas  \n",
       "83929    5.0    NV  business  Las Vegas  "
      ]
     },
     "execution_count": 35,
     "metadata": {},
     "output_type": "execute_result"
    }
   ],
   "source": [
    "businesses[businesses['business_id'].isin([83929,83406,81070,28456,65521])]"
   ]
  },
  {
   "cell_type": "markdown",
   "metadata": {
    "collapsed": true
   },
   "source": [
    "<font color='blue'>As we'd expect, these restaurants all have five stars.</font>"
   ]
  },
  {
   "cell_type": "markdown",
   "metadata": {},
   "source": [
    "#### Now train a similarity recommender based on the same table."
   ]
  },
  {
   "cell_type": "code",
   "execution_count": 36,
   "metadata": {
    "collapsed": false
   },
   "outputs": [
    {
     "name": "stdout",
     "output_type": "stream",
     "text": [
      "PROGRESS: Recsys training: model = item_similarity\n",
      "PROGRESS: Preparing data set.\n",
      "PROGRESS:     Data has 656088 observations with 224014 users and 4582 items.\n",
      "PROGRESS:     Data prepared in: 1.20379s\n",
      "PROGRESS: Computing item similarity statistics:\n",
      "PROGRESS: +-----------------+-----------------+\n",
      "PROGRESS: | Number of users | Elapsed Time    |\n",
      "PROGRESS: +-----------------+-----------------+\n",
      "PROGRESS: | 100000          | 0.126002        |\n",
      "PROGRESS: | 200000          | 0.395273        |\n",
      "PROGRESS: +-----------------+-----------------+\n",
      "PROGRESS: Computing most similar items for 4582 items:\n",
      "PROGRESS: +-----------------+-----------------+\n",
      "PROGRESS: | Number of items | Elapsed Time    |\n",
      "PROGRESS: +-----------------+-----------------+\n",
      "PROGRESS: | 1000            | 0.664789        |\n",
      "PROGRESS: | 2000            | 0.730435        |\n",
      "PROGRESS: | 3000            | 0.804128        |\n",
      "PROGRESS: | 4000            | 0.866143        |\n",
      "PROGRESS: +-----------------+-----------------+\n",
      "PROGRESS: Finished training in 1.22811s\n",
      "PROGRESS: Finished prediction in 0.673028s\n"
     ]
    }
   ],
   "source": [
    "item_sim_model_lv = graphlab.item_similarity_recommender.create(train_data_lv, user_id='user_id', item_id='business_id', target='stars_x', similarity_type='pearson')"
   ]
  },
  {
   "cell_type": "code",
   "execution_count": 38,
   "metadata": {
    "collapsed": false
   },
   "outputs": [
    {
     "name": "stdout",
     "output_type": "stream",
     "text": [
      "+---------+-------------+---------------+------+\n",
      "| user_id | business_id |     score     | rank |\n",
      "+---------+-------------+---------------+------+\n",
      "|    15   |    84947    | 6.43993589744 |  1   |\n",
      "|    15   |    64256    | 6.32027777778 |  2   |\n",
      "|    15   |    76459    | 6.26024193548 |  3   |\n",
      "|    15   |    81142    | 6.14167355372 |  4   |\n",
      "|    15   |    81609    | 6.05025193798 |  5   |\n",
      "|    16   |    83929    |      5.0      |  1   |\n",
      "|    16   |    83406    |      5.0      |  2   |\n",
      "|    16   |    81070    |      5.0      |  3   |\n",
      "|    16   |    28456    |      5.0      |  4   |\n",
      "|    16   |    65521    |      5.0      |  5   |\n",
      "|    17   |    79082    | 5.98666370053 |  1   |\n",
      "|    17   |    80914    | 5.84247517703 |  2   |\n",
      "|    17   |    83327    | 5.83776324728 |  3   |\n",
      "|    17   |    69270    | 5.80965152352 |  4   |\n",
      "|    17   |    77164    |  5.7986328125 |  5   |\n",
      "|    18   |    68832    | 5.50165701913 |  1   |\n",
      "|    18   |    84859    | 5.49939585463 |  2   |\n",
      "|    18   |    81586    | 5.47610879686 |  3   |\n",
      "|    18   |    84691    | 5.44392359077 |  4   |\n",
      "|    18   |    73649    | 5.41442048518 |  5   |\n",
      "|    19   |    83929    |      5.0      |  1   |\n",
      "|    19   |    83406    |      5.0      |  2   |\n",
      "|    19   |    81070    |      5.0      |  3   |\n",
      "|    19   |    28456    |      5.0      |  4   |\n",
      "|    19   |    65521    |      5.0      |  5   |\n",
      "+---------+-------------+---------------+------+\n",
      "[25 rows x 4 columns]\n",
      "\n"
     ]
    }
   ],
   "source": [
    "item_sim_recomm_lv = item_sim_model_lv.recommend(users=range(15,20),k=5)\n",
    "item_sim_recomm_lv.print_rows(num_rows=25)"
   ]
  },
  {
   "cell_type": "markdown",
   "metadata": {},
   "source": [
    "<font color='blue'>As we can see, some users are now receiving different specialized recommendations. Some also still only have the baseline recommendations, and this is likely because they haven't rated enough things personally for the system to generate personalized recommendations for them. In the future, we could filter these people out of the dataset, but it also seems reasonable to just recommend to them the most highly-rated restaurants.</font>"
   ]
  },
  {
   "cell_type": "code",
   "execution_count": 39,
   "metadata": {
    "collapsed": false
   },
   "outputs": [
    {
     "data": {
      "text/html": [
       "<div>\n",
       "<table border=\"1\" class=\"dataframe\">\n",
       "  <thead>\n",
       "    <tr style=\"text-align: right;\">\n",
       "      <th></th>\n",
       "      <th>attributes</th>\n",
       "      <th>business_id</th>\n",
       "      <th>categories</th>\n",
       "      <th>city</th>\n",
       "      <th>full_address</th>\n",
       "      <th>hours</th>\n",
       "      <th>latitude</th>\n",
       "      <th>longitude</th>\n",
       "      <th>name</th>\n",
       "      <th>neighborhoods</th>\n",
       "      <th>open</th>\n",
       "      <th>review_count</th>\n",
       "      <th>stars</th>\n",
       "      <th>state</th>\n",
       "      <th>type</th>\n",
       "      <th>location</th>\n",
       "    </tr>\n",
       "  </thead>\n",
       "  <tbody>\n",
       "    <tr>\n",
       "      <th>64256</th>\n",
       "      <td>{'Accepts Credit Cards': True, 'Noise Level': ...</td>\n",
       "      <td>64256</td>\n",
       "      <td>['Comfort Food', 'Mexican', 'Restaurants']</td>\n",
       "      <td>Las Vegas</td>\n",
       "      <td>240 N Jones Blvd\\nSte E\\nLas Vegas, NV 89107</td>\n",
       "      <td>{'Monday': {'close': '19:00', 'open': '09:00'}...</td>\n",
       "      <td>36.175601</td>\n",
       "      <td>-115.222265</td>\n",
       "      <td>Chicken Itza</td>\n",
       "      <td>[]</td>\n",
       "      <td>False</td>\n",
       "      <td>13</td>\n",
       "      <td>4.5</td>\n",
       "      <td>NV</td>\n",
       "      <td>business</td>\n",
       "      <td>Las Vegas</td>\n",
       "    </tr>\n",
       "    <tr>\n",
       "      <th>76459</th>\n",
       "      <td>{'Accepts Credit Cards': True, 'Noise Level': ...</td>\n",
       "      <td>76459</td>\n",
       "      <td>['Bakeries', 'Food', 'American (Traditional)',...</td>\n",
       "      <td>Las Vegas</td>\n",
       "      <td>6070 S Rainbow Blvd\\nSte 7\\nSpring Valley\\nLas...</td>\n",
       "      <td>{'Monday': {'close': '18:30', 'open': '11:00'}...</td>\n",
       "      <td>36.078686</td>\n",
       "      <td>-115.241801</td>\n",
       "      <td>Pie Me Over</td>\n",
       "      <td>['Spring Valley']</td>\n",
       "      <td>True</td>\n",
       "      <td>70</td>\n",
       "      <td>4.5</td>\n",
       "      <td>NV</td>\n",
       "      <td>business</td>\n",
       "      <td>Las Vegas</td>\n",
       "    </tr>\n",
       "    <tr>\n",
       "      <th>81142</th>\n",
       "      <td>{'Accepts Credit Cards': True, 'Noise Level': ...</td>\n",
       "      <td>81142</td>\n",
       "      <td>['Pizza', 'Restaurants']</td>\n",
       "      <td>Las Vegas</td>\n",
       "      <td>5270 S Fort Apache Rd\\nSte 320\\nSpring Valley\\...</td>\n",
       "      <td>{'Monday': {'close': '21:00', 'open': '11:00'}...</td>\n",
       "      <td>36.093101</td>\n",
       "      <td>-115.296562</td>\n",
       "      <td>The Pizza Kitchen</td>\n",
       "      <td>['Spring Valley']</td>\n",
       "      <td>True</td>\n",
       "      <td>137</td>\n",
       "      <td>4.5</td>\n",
       "      <td>NV</td>\n",
       "      <td>business</td>\n",
       "      <td>Las Vegas</td>\n",
       "    </tr>\n",
       "    <tr>\n",
       "      <th>81609</th>\n",
       "      <td>{'Accepts Credit Cards': True, 'Noise Level': ...</td>\n",
       "      <td>81609</td>\n",
       "      <td>['Barbeque', 'Restaurants']</td>\n",
       "      <td>Las Vegas</td>\n",
       "      <td>5611 S Valley View Blvd\\nLas Vegas, NV 89118</td>\n",
       "      <td>{'Monday': {'close': '18:00', 'open': '11:30'}...</td>\n",
       "      <td>36.087861</td>\n",
       "      <td>-115.190509</td>\n",
       "      <td>Jessie Rae's BBQ</td>\n",
       "      <td>[]</td>\n",
       "      <td>True</td>\n",
       "      <td>153</td>\n",
       "      <td>4.5</td>\n",
       "      <td>NV</td>\n",
       "      <td>business</td>\n",
       "      <td>Las Vegas</td>\n",
       "    </tr>\n",
       "    <tr>\n",
       "      <th>84947</th>\n",
       "      <td>{'Accepts Credit Cards': True, 'Noise Level': ...</td>\n",
       "      <td>84947</td>\n",
       "      <td>['Restaurants', 'Italian']</td>\n",
       "      <td>Henderson</td>\n",
       "      <td>72 Horizon Ridge Pkwy\\nSte 100\\nHenderson, NV ...</td>\n",
       "      <td>{'Monday': {'close': '21:00', 'open': '11:00'}...</td>\n",
       "      <td>36.013193</td>\n",
       "      <td>-114.992711</td>\n",
       "      <td>Il Chianti Italian</td>\n",
       "      <td>[]</td>\n",
       "      <td>True</td>\n",
       "      <td>51</td>\n",
       "      <td>5.0</td>\n",
       "      <td>NV</td>\n",
       "      <td>business</td>\n",
       "      <td>Las Vegas</td>\n",
       "    </tr>\n",
       "  </tbody>\n",
       "</table>\n",
       "</div>"
      ],
      "text/plain": [
       "                                              attributes  business_id  \\\n",
       "64256  {'Accepts Credit Cards': True, 'Noise Level': ...        64256   \n",
       "76459  {'Accepts Credit Cards': True, 'Noise Level': ...        76459   \n",
       "81142  {'Accepts Credit Cards': True, 'Noise Level': ...        81142   \n",
       "81609  {'Accepts Credit Cards': True, 'Noise Level': ...        81609   \n",
       "84947  {'Accepts Credit Cards': True, 'Noise Level': ...        84947   \n",
       "\n",
       "                                              categories       city  \\\n",
       "64256         ['Comfort Food', 'Mexican', 'Restaurants']  Las Vegas   \n",
       "76459  ['Bakeries', 'Food', 'American (Traditional)',...  Las Vegas   \n",
       "81142                           ['Pizza', 'Restaurants']  Las Vegas   \n",
       "81609                        ['Barbeque', 'Restaurants']  Las Vegas   \n",
       "84947                         ['Restaurants', 'Italian']  Henderson   \n",
       "\n",
       "                                            full_address  \\\n",
       "64256       240 N Jones Blvd\\nSte E\\nLas Vegas, NV 89107   \n",
       "76459  6070 S Rainbow Blvd\\nSte 7\\nSpring Valley\\nLas...   \n",
       "81142  5270 S Fort Apache Rd\\nSte 320\\nSpring Valley\\...   \n",
       "81609       5611 S Valley View Blvd\\nLas Vegas, NV 89118   \n",
       "84947  72 Horizon Ridge Pkwy\\nSte 100\\nHenderson, NV ...   \n",
       "\n",
       "                                                   hours   latitude  \\\n",
       "64256  {'Monday': {'close': '19:00', 'open': '09:00'}...  36.175601   \n",
       "76459  {'Monday': {'close': '18:30', 'open': '11:00'}...  36.078686   \n",
       "81142  {'Monday': {'close': '21:00', 'open': '11:00'}...  36.093101   \n",
       "81609  {'Monday': {'close': '18:00', 'open': '11:30'}...  36.087861   \n",
       "84947  {'Monday': {'close': '21:00', 'open': '11:00'}...  36.013193   \n",
       "\n",
       "        longitude                name      neighborhoods   open  review_count  \\\n",
       "64256 -115.222265        Chicken Itza                 []  False            13   \n",
       "76459 -115.241801         Pie Me Over  ['Spring Valley']   True            70   \n",
       "81142 -115.296562   The Pizza Kitchen  ['Spring Valley']   True           137   \n",
       "81609 -115.190509    Jessie Rae's BBQ                 []   True           153   \n",
       "84947 -114.992711  Il Chianti Italian                 []   True            51   \n",
       "\n",
       "       stars state      type   location  \n",
       "64256    4.5    NV  business  Las Vegas  \n",
       "76459    4.5    NV  business  Las Vegas  \n",
       "81142    4.5    NV  business  Las Vegas  \n",
       "81609    4.5    NV  business  Las Vegas  \n",
       "84947    5.0    NV  business  Las Vegas  "
      ]
     },
     "execution_count": 39,
     "metadata": {},
     "output_type": "execute_result"
    }
   ],
   "source": [
    "businesses[businesses['business_id'].isin([84947,64256,76459,81142,81609])]"
   ]
  },
  {
   "cell_type": "code",
   "execution_count": null,
   "metadata": {
    "collapsed": true
   },
   "outputs": [],
   "source": []
  }
 ],
 "metadata": {
  "anaconda-cloud": {},
  "kernelspec": {
   "display_name": "Python [conda env:py27]",
   "language": "python",
   "name": "conda-env-py27-py"
  },
  "language_info": {
   "codemirror_mode": {
    "name": "ipython",
    "version": 2
   },
   "file_extension": ".py",
   "mimetype": "text/x-python",
   "name": "python",
   "nbconvert_exporter": "python",
   "pygments_lexer": "ipython2",
   "version": "2.7.12"
  }
 },
 "nbformat": 4,
 "nbformat_minor": 0
}
