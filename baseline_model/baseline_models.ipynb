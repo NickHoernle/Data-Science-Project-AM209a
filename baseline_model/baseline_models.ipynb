{
 "cells": [
  {
   "cell_type": "code",
   "execution_count": 39,
   "metadata": {
    "collapsed": false
   },
   "outputs": [],
   "source": [
    "import sys; sys.path.append('../util')\n",
    "from load_yelp_data import load_yelp_dataframe, create_standard_train_and_test\n",
    "import numpy as np\n",
    "import matplotlib.pyplot as plt\n",
    "import pandas as pd\n",
    "import graphlab as gl\n",
    "%matplotlib inline\n",
    "\n",
    "from matrix_factorization_recommender import MatrixFactorizationRecommender"
   ]
  },
  {
   "cell_type": "code",
   "execution_count": 3,
   "metadata": {
    "collapsed": false
   },
   "outputs": [],
   "source": [
    "businesses = load_yelp_dataframe('businesses')\n",
    "reviews = load_yelp_dataframe('reviews')\n",
    "users = load_yelp_dataframe('users')\n",
    "\n",
    "[(businesses_train,businesses_test),\n",
    " (reviews_train,reviews_test),\n",
    " (users_train, users_test)]=create_standard_train_and_test([businesses, reviews, users])"
   ]
  },
  {
   "cell_type": "markdown",
   "metadata": {},
   "source": [
    "Let's look at how this [vowpal wabbit](https://github.com/JohnLangford/vowpal_wabbit)-based recommender performs:"
   ]
  },
  {
   "cell_type": "code",
   "execution_count": 4,
   "metadata": {
    "collapsed": false
   },
   "outputs": [],
   "source": [
    "X_train = reviews_train[['user_id', 'business_id']].values\n",
    "y_train = reviews_train['stars'].values\n",
    "X_test = reviews_test[['user_id', 'business_id']].values\n",
    "y_test = reviews_test['stars'].values"
   ]
  },
  {
   "cell_type": "code",
   "execution_count": 5,
   "metadata": {
    "collapsed": false
   },
   "outputs": [
    {
     "name": "stdout",
     "output_type": "stream",
     "text": [
      "Model file already exists, skipping vowpal-wabbit fitting\n"
     ]
    }
   ],
   "source": [
    "matrix_fac = MatrixFactorizationRecommender()\n",
    "matrix_fac.fit(X_train, y_train)"
   ]
  },
  {
   "cell_type": "code",
   "execution_count": 6,
   "metadata": {
    "collapsed": false
   },
   "outputs": [
    {
     "data": {
      "text/plain": [
       "0.17471762166215021"
      ]
     },
     "execution_count": 6,
     "metadata": {},
     "output_type": "execute_result"
    }
   ],
   "source": [
    "matrix_fac.r2_score(X_test, y_test)"
   ]
  },
  {
   "cell_type": "code",
   "execution_count": 65,
   "metadata": {
    "collapsed": false
   },
   "outputs": [
    {
     "data": {
      "text/plain": [
       "1.2623265210165748"
      ]
     },
     "execution_count": 65,
     "metadata": {},
     "output_type": "execute_result"
    }
   ],
   "source": [
    "import sklearn.metrics\n",
    "mse = sklearn.metrics.mean_squared_error(y_test, matrix_fac.predict(X_test))\n",
    "np.sqrt(mse)"
   ]
  },
  {
   "cell_type": "code",
   "execution_count": 67,
   "metadata": {
    "collapsed": false
   },
   "outputs": [
    {
     "data": {
      "text/plain": [
       "1.1723361155936303"
      ]
     },
     "execution_count": 67,
     "metadata": {},
     "output_type": "execute_result"
    }
   ],
   "source": [
    "np.sqrt(sklearn.metrics.mean_squared_error(y_train, matrix_fac.predict(X_train)))"
   ]
  },
  {
   "cell_type": "markdown",
   "metadata": {},
   "source": [
    "We get a reasonable R^2 on the test set, and an RMSE of 1.26. On our training set, as we might expect, the RMSE is lower (1.17), but not outrageously so; we aren't overfitting by that much. Now let's switch to graphlab's models:"
   ]
  },
  {
   "cell_type": "code",
   "execution_count": 43,
   "metadata": {
    "collapsed": false
   },
   "outputs": [],
   "source": [
    "train_sframe = gl.SFrame(reviews_train[['business_id', 'user_id', 'stars']])\n",
    "test_sframe = gl.SFrame(reviews_test[['business_id', 'user_id', 'stars']])"
   ]
  },
  {
   "cell_type": "code",
   "execution_count": 44,
   "metadata": {
    "collapsed": false
   },
   "outputs": [
    {
     "data": {
      "text/html": [
       "<pre>Recsys training: model = popularity</pre>"
      ],
      "text/plain": [
       "Recsys training: model = popularity"
      ]
     },
     "metadata": {},
     "output_type": "display_data"
    },
    {
     "data": {
      "text/html": [
       "<pre>Recsys training: model = item_similarity</pre>"
      ],
      "text/plain": [
       "Recsys training: model = item_similarity"
      ]
     },
     "metadata": {},
     "output_type": "display_data"
    },
    {
     "data": {
      "text/html": [
       "<pre>Recsys training: model = factorization_recommender</pre>"
      ],
      "text/plain": [
       "Recsys training: model = factorization_recommender"
      ]
     },
     "metadata": {},
     "output_type": "display_data"
    },
    {
     "data": {
      "text/html": [
       "<pre>Recsys training: model = ranking_factorization_recommender</pre>"
      ],
      "text/plain": [
       "Recsys training: model = ranking_factorization_recommender"
      ]
     },
     "metadata": {},
     "output_type": "display_data"
    }
   ],
   "source": [
    "pop_model = graphlab.popularity_recommender.create(\n",
    "    train_sframe, user_id='user_id', item_id='business_id', target='stars', verbose=False)\n",
    "\n",
    "sim_model = graphlab.item_similarity_recommender.create(\n",
    "    train_sframe, user_id='user_id', item_id='business_id', target='stars', verbose=False)\n",
    "\n",
    "fac_model = graphlab.factorization_recommender.create(\n",
    "    train_sframe, user_id='user_id', item_id='business_id', target='stars', verbose=False)\n",
    "\n",
    "rank_fac_model = graphlab.ranking_factorization_recommender.create(\n",
    "    train_sframe, user_id='user_id', item_id='business_id', target='stars', verbose=False)"
   ]
  },
  {
   "cell_type": "code",
   "execution_count": 64,
   "metadata": {
    "collapsed": false
   },
   "outputs": [
    {
     "name": "stdout",
     "output_type": "stream",
     "text": [
      "PopularityRecommender:\n",
      "1.26397284255\n",
      "ItemSimilarityRecommender:\n",
      "4.01121272365\n",
      "FactorizationRecommender:\n",
      "1.44120740221\n",
      "RankingFactorizationRecommender:\n",
      "1.90497278254\n"
     ]
    }
   ],
   "source": [
    "models = [pop_model, sim_model, fac_model, rank_fac_model]\n",
    "for model in models:\n",
    "    print type(model).__name__ + ':'\n",
    "    print model.evaluate_rmse(test_sframe, target='stars')['rmse_overall']"
   ]
  },
  {
   "cell_type": "code",
   "execution_count": 66,
   "metadata": {
    "collapsed": false
   },
   "outputs": [
    {
     "name": "stdout",
     "output_type": "stream",
     "text": [
      "PopularityRecommender:\n",
      "1.19856858622\n",
      "ItemSimilarityRecommender:\n",
      "4.00711787159\n",
      "FactorizationRecommender:\n",
      "0.377976155743\n",
      "RankingFactorizationRecommender:\n",
      "0.378911557349\n"
     ]
    }
   ],
   "source": [
    "for model in models:\n",
    "    print type(model).__name__ + ':'\n",
    "    print model.evaluate_rmse(train_sframe, target='stars')['rmse_overall']"
   ]
  },
  {
   "cell_type": "markdown",
   "metadata": {},
   "source": [
    "It looks like the graphlab factorization recommenders overfit the training set, while the popularity recommender is much more robust (which we might expect). The item similarity metric does terribly, but we haven't given it any business or user attributes, which could potentially help it compute similarity. We might want to hand-write a user-user or business-business similarity score that compares specific attributes and pass in similar elements to the graphlab model (which I believe is possible), since many of the fields we'd like to compare are idiosyncratically structured."
   ]
  },
  {
   "cell_type": "code",
   "execution_count": null,
   "metadata": {
    "collapsed": true
   },
   "outputs": [],
   "source": []
  }
 ],
 "metadata": {
  "kernelspec": {
   "display_name": "Python 2",
   "language": "python",
   "name": "python2"
  },
  "language_info": {
   "codemirror_mode": {
    "name": "ipython",
    "version": 2
   },
   "file_extension": ".py",
   "mimetype": "text/x-python",
   "name": "python",
   "nbconvert_exporter": "python",
   "pygments_lexer": "ipython2",
   "version": "2.7.11"
  }
 },
 "nbformat": 4,
 "nbformat_minor": 1
}
