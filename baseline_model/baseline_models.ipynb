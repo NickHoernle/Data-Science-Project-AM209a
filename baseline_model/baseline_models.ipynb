{
 "cells": [
  {
   "cell_type": "code",
   "execution_count": 1,
   "metadata": {
    "collapsed": false
   },
   "outputs": [],
   "source": [
    "import sys; sys.path.append('../util')\n",
    "from load_yelp_data import load_yelp_dataframe, filter_to_location, train_test_split_reviews\n",
    "import numpy as np\n",
    "import matplotlib.pyplot as plt\n",
    "import pandas as pd\n",
    "import graphlab as gl\n",
    "import sklearn.metrics\n",
    "%matplotlib inline\n",
    "\n",
    "from matrix_factorization_recommender import MatrixFactorizationRecommender\n",
    "from simple_averaging_recommender import SimpleAveragingRecommender"
   ]
  },
  {
   "cell_type": "code",
   "execution_count": 2,
   "metadata": {
    "collapsed": false
   },
   "outputs": [],
   "source": [
    "businesses = load_yelp_dataframe('businesses')\n",
    "reviews = load_yelp_dataframe('reviews')\n",
    "users = load_yelp_dataframe('users')"
   ]
  },
  {
   "cell_type": "code",
   "execution_count": 3,
   "metadata": {
    "collapsed": true
   },
   "outputs": [],
   "source": [
    "phoen_biz, phoen_rev, phoen_usr = filter_to_location('Phoenix', businesses, reviews, users)\n",
    "reviews_train, reviews_test = train_test_split_reviews(phoen_rev)"
   ]
  },
  {
   "cell_type": "code",
   "execution_count": 4,
   "metadata": {
    "collapsed": false
   },
   "outputs": [],
   "source": [
    "def utility_matrix_sparsity(reviews):\n",
    "    return 1 - len(reviews) / float(len(reviews.business_id.unique()) * len(reviews.user_id.unique()))"
   ]
  },
  {
   "cell_type": "code",
   "execution_count": 5,
   "metadata": {
    "collapsed": false
   },
   "outputs": [
    {
     "name": "stdout",
     "output_type": "stream",
     "text": [
      "Overall utility matrix sparsity: 0.999954279094\n",
      "Phoenix utility matrix sparsity: 0.999885843969\n"
     ]
    }
   ],
   "source": [
    "print 'Overall utility matrix sparsity:', utility_matrix_sparsity(reviews)\n",
    "print 'Phoenix utility matrix sparsity:', utility_matrix_sparsity(phoen_rev)"
   ]
  },
  {
   "cell_type": "markdown",
   "metadata": {},
   "source": [
    "Let's look at how this [vowpal wabbit](https://github.com/JohnLangford/vowpal_wabbit)-based recommender performs:"
   ]
  },
  {
   "cell_type": "code",
   "execution_count": 6,
   "metadata": {
    "collapsed": false
   },
   "outputs": [],
   "source": [
    "X_train = reviews_train[['user_id', 'business_id']].values\n",
    "y_train = reviews_train['stars'].values\n",
    "X_test = reviews_test[['user_id', 'business_id']].values\n",
    "y_test = reviews_test['stars'].values"
   ]
  },
  {
   "cell_type": "code",
   "execution_count": 20,
   "metadata": {
    "collapsed": true
   },
   "outputs": [],
   "source": [
    "def summarize_performance(model):\n",
    "    name = simple_avg.__class__.__name__\n",
    "    print '{} train R^2: {}'.format(name, model.r2_score(X_train, y_train))\n",
    "    print '{} test R^2: {}'.format(name, model.r2_score(X_test, y_test))\n",
    "    print '{} train RMSE: {}'.format(name, model.rmse(X_train, y_train))\n",
    "    print '{} test RMSE: {}'.format(name, model.rmse(X_test, y_test))"
   ]
  },
  {
   "cell_type": "code",
   "execution_count": 21,
   "metadata": {
    "collapsed": false
   },
   "outputs": [
    {
     "name": "stdout",
     "output_type": "stream",
     "text": [
      "SimpleAveragingRecommender train R^2: 0.458334735464\n",
      "SimpleAveragingRecommender test R^2: 0.0353093716165\n",
      "SimpleAveragingRecommender train RMSE: 1.05046205597\n",
      "SimpleAveragingRecommender test RMSE: 1.40178931215\n"
     ]
    }
   ],
   "source": [
    "simple_avg = SimpleAveragingRecommender()\n",
    "simple_avg.fit(X_train, y_train)\n",
    "summarize_performance(simple_avg)"
   ]
  },
  {
   "cell_type": "code",
   "execution_count": 22,
   "metadata": {
    "collapsed": false
   },
   "outputs": [
    {
     "name": "stdout",
     "output_type": "stream",
     "text": [
      "Model file already exists, skipping vowpal-wabbit fitting\n",
      "SimpleAveragingRecommender train R^2: 0.255887084607\n",
      "SimpleAveragingRecommender test R^2: 0.253239819851\n",
      "SimpleAveragingRecommender train RMSE: 1.23121613378\n",
      "SimpleAveragingRecommender test RMSE: 1.23332998571\n"
     ]
    }
   ],
   "source": [
    "matrix_fac = MatrixFactorizationRecommender()\n",
    "matrix_fac.fit(X_train, y_train)\n",
    "summarize_performance(matrix_fac)"
   ]
  },
  {
   "cell_type": "markdown",
   "metadata": {},
   "source": [
    "These results make sense / are actually pretty great. Simple averaging does an eminently reasonable job, giving us a test R^2 of close to 0 (which makes sense for an average), but a respectable RMSE of 1.4. Clearly any reasonable model we put forward should do better than that.\n",
    "\n",
    "Matrix factorization does better than simple averaging, and surprisingly, we do just as well on the test set as we do on the training set. That's pretty cool to see."
   ]
  },
  {
   "cell_type": "code",
   "execution_count": 23,
   "metadata": {
    "collapsed": false
   },
   "outputs": [
    {
     "name": "stderr",
     "output_type": "stream",
     "text": [
      "[INFO] graphlab.cython.cy_server: GraphLab Create v2.1 started. Logging: /tmp/graphlab_server_1480256873.log\n"
     ]
    },
    {
     "name": "stdout",
     "output_type": "stream",
     "text": [
      "This non-commercial license of GraphLab Create for academic use is assigned to andrew_ross@g.harvard.edu and will expire on November 23, 2017.\n"
     ]
    }
   ],
   "source": [
    "train_sframe = gl.SFrame(reviews_train[['business_id', 'user_id', 'stars']])\n",
    "test_sframe = gl.SFrame(reviews_test[['business_id', 'user_id', 'stars']])"
   ]
  },
  {
   "cell_type": "code",
   "execution_count": 26,
   "metadata": {
    "collapsed": false
   },
   "outputs": [
    {
     "data": {
      "text/html": [
       "<pre>Recsys training: model = popularity</pre>"
      ],
      "text/plain": [
       "Recsys training: model = popularity"
      ]
     },
     "metadata": {},
     "output_type": "display_data"
    },
    {
     "data": {
      "text/html": [
       "<pre>Recsys training: model = item_similarity</pre>"
      ],
      "text/plain": [
       "Recsys training: model = item_similarity"
      ]
     },
     "metadata": {},
     "output_type": "display_data"
    },
    {
     "data": {
      "text/html": [
       "<pre>Recsys training: model = factorization_recommender</pre>"
      ],
      "text/plain": [
       "Recsys training: model = factorization_recommender"
      ]
     },
     "metadata": {},
     "output_type": "display_data"
    },
    {
     "data": {
      "text/html": [
       "<pre>Recsys training: model = ranking_factorization_recommender</pre>"
      ],
      "text/plain": [
       "Recsys training: model = ranking_factorization_recommender"
      ]
     },
     "metadata": {},
     "output_type": "display_data"
    }
   ],
   "source": [
    "pop_model = gl.popularity_recommender.create(\n",
    "    train_sframe, user_id='user_id', item_id='business_id', target='stars', verbose=False)\n",
    "sim_model = gl.item_similarity_recommender.create(\n",
    "    train_sframe, user_id='user_id', item_id='business_id', target='stars', verbose=False)\n",
    "fac_model = gl.factorization_recommender.create(\n",
    "    train_sframe, user_id='user_id', item_id='business_id', target='stars', verbose=False)\n",
    "rank_fac_model = gl.ranking_factorization_recommender.create(\n",
    "    train_sframe, user_id='user_id', item_id='business_id', target='stars', verbose=False)"
   ]
  },
  {
   "cell_type": "code",
   "execution_count": 27,
   "metadata": {
    "collapsed": false
   },
   "outputs": [
    {
     "name": "stdout",
     "output_type": "stream",
     "text": [
      "PopularityRecommender train RMSE: 1.22130851601\n",
      "PopularityRecommender test RMSE: 1.30166476847\n",
      "ItemSimilarityRecommender train RMSE: 4.03787726\n",
      "ItemSimilarityRecommender test RMSE: 4.04191406029\n",
      "FactorizationRecommender train RMSE: 0.392297368092\n",
      "FactorizationRecommender test RMSE: 1.47303586137\n",
      "RankingFactorizationRecommender train RMSE: 0.456966653589\n",
      "RankingFactorizationRecommender test RMSE: 2.02394390501\n"
     ]
    }
   ],
   "source": [
    "models = [pop_model, sim_model, fac_model, rank_fac_model]\n",
    "for model in models:\n",
    "    name = model.__class__.__name__\n",
    "    train_rmse = model.evaluate_rmse(train_sframe, target='stars')['rmse_overall']\n",
    "    test_rmse = model.evaluate_rmse(test_sframe, target='stars')['rmse_overall']\n",
    "    print '{} train RMSE: {}'.format(name, train_rmse)\n",
    "    print '{} test RMSE: {}'.format(name, test_rmse)"
   ]
  },
  {
   "cell_type": "markdown",
   "metadata": {},
   "source": [
    "It looks like the graphlab factorization recommenders overfit the training set, while the popularity recommender is much more robust (which we might expect). The item similarity metric does terribly, but we haven't given it any business or user attributes, which could potentially help it compute similarity. We might want to hand-write a user-user or business-business similarity score that compares specific attributes and pass in similar elements to the graphlab model (which I believe is possible), since many of the fields we'd like to compare are idiosyncratically structured."
   ]
  }
 ],
 "metadata": {
  "kernelspec": {
   "display_name": "Python 2",
   "language": "python",
   "name": "python2"
  },
  "language_info": {
   "codemirror_mode": {
    "name": "ipython",
    "version": 2
   },
   "file_extension": ".py",
   "mimetype": "text/x-python",
   "name": "python",
   "nbconvert_exporter": "python",
   "pygments_lexer": "ipython2",
   "version": "2.7.11"
  }
 },
 "nbformat": 4,
 "nbformat_minor": 1
}
