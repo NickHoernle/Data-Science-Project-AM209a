{
 "cells": [
  {
   "cell_type": "code",
   "execution_count": 1,
   "metadata": {
    "collapsed": true
   },
   "outputs": [],
   "source": [
    "import numpy as np\n",
    "import pandas as pd\n",
    "import sys\n",
    "sys.path.append('../data_exploration')\n",
    "from load_yelp_data import load_yelp_dataframe\n",
    "\n",
    "businesses = load_yelp_dataframe('businesses').drop('Unnamed: 0', 1)\n",
    "reviews = load_yelp_dataframe('reviews').drop('Unnamed: 0', 1)\n",
    "users = load_yelp_dataframe('users').drop('Unnamed: 0', 1)"
   ]
  },
  {
   "cell_type": "code",
   "execution_count": 14,
   "metadata": {
    "collapsed": false
   },
   "outputs": [],
   "source": [
    "def create_standard_train_and_test(\n",
    "            dataframes=[businesses,reviews,users],\n",
    "            train_size = 0.7,\n",
    "            seed=1000,\n",
    "        ):\n",
    "    '''\n",
    "    Accepts:\n",
    "     - dataframe=[], array of input dataframes,\n",
    "     - train_size=0.7, the relative size of the training set\n",
    "     - seed=1000, the random seed to ensure we all have the same train/test sets\n",
    "    '''\n",
    "    test_train_tuples = []\n",
    "    for df in dataframes:\n",
    "        n,m = df.shape\n",
    "        train = df.sample(n=int(train_size*n), replace=False, random_state=seed)\n",
    "        test = df.drop(train.index)\n",
    "        test_train_tuples.append((train, test))\n",
    "    return test_train_tuples"
   ]
  },
  {
   "cell_type": "code",
   "execution_count": 17,
   "metadata": {
    "collapsed": false
   },
   "outputs": [],
   "source": [
    "[(businesses_train,businesses_test),\n",
    " (reviews_train,reviews_test),\n",
    " (users_train, users_test)]=create_standard_train_and_test([businesses, reviews, users])"
   ]
  }
 ],
 "metadata": {
  "kernelspec": {
   "display_name": "Python 2",
   "language": "python",
   "name": "python2"
  },
  "language_info": {
   "codemirror_mode": {
    "name": "ipython",
    "version": 2
   },
   "file_extension": ".py",
   "mimetype": "text/x-python",
   "name": "python",
   "nbconvert_exporter": "python",
   "pygments_lexer": "ipython2",
   "version": "2.7.12"
  }
 },
 "nbformat": 4,
 "nbformat_minor": 1
}
